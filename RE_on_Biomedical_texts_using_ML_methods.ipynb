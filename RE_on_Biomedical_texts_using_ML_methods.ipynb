{
  "nbformat": 4,
  "nbformat_minor": 0,
  "metadata": {
    "colab": {
      "name": "RE on Biomedical texts using ML methods.ipynb",
      "provenance": [],
      "collapsed_sections": [
        "TIqHLsL0IUYO",
        "wq9j0aPjeeGt",
        "0aH4-IouKlv6",
        "i4u16u02Kqgy",
        "Rlcdh0h-agvu",
        "D8G-6iQFfhKS",
        "mojrZbJUeOgy",
        "W6ecNDuYzs4x",
        "HInSVsrazJNk",
        "aCZLtJaoeX5A",
        "eC5wF-VcODo7",
        "ROgg6E2FRTYw",
        "075q-HYoTQBm",
        "GPZ0PeHTTUCw",
        "iYBD3e48TT2f",
        "ZVkZmXTMTTjR",
        "_FgVQTIuuxnZ",
        "0EdYXWhdOMaI",
        "34ak7Y3tQhgU",
        "i25EmkivO-E-",
        "oEWFHxRUPrS1",
        "RgSBtlDbusB5",
        "YTjvgCF0OSPX",
        "KUiChGeoQbAr",
        "R3TnyUO_QagC",
        "vxXCMgqWQnGc",
        "ztSQr65KubZV",
        "ppRhyXsHMoip",
        "KjaTfPhrW85v",
        "OpzMbNg5NCG1",
        "03T4UH6KXkQT",
        "Src54yBg67Or",
        "iaB2pXh4YmrY",
        "QjnS4rWTaI3p",
        "YfSjXLRT-u6d",
        "32p-DQ3mZKmI",
        "VjDYhSIy-u6n",
        "Wkd7WCpJZhI3",
        "wqMDCe0cZxlz"
      ],
      "toc_visible": true,
      "authorship_tag": "ABX9TyPZ3989791omEXiHFTZlLle",
      "include_colab_link": true
    },
    "kernelspec": {
      "name": "python3",
      "display_name": "Python 3"
    },
    "language_info": {
      "name": "python"
    },
    "widgets": {
      "application/vnd.jupyter.widget-state+json": {
        "9551258b63f34b54969748098df342bd": {
          "model_module": "@jupyter-widgets/controls",
          "model_name": "HBoxModel",
          "model_module_version": "1.5.0",
          "state": {
            "_dom_classes": [],
            "_model_module": "@jupyter-widgets/controls",
            "_model_module_version": "1.5.0",
            "_model_name": "HBoxModel",
            "_view_count": null,
            "_view_module": "@jupyter-widgets/controls",
            "_view_module_version": "1.5.0",
            "_view_name": "HBoxView",
            "box_style": "",
            "children": [
              "IPY_MODEL_165ea6b1293f44fe8d7fac2d97cbcd20",
              "IPY_MODEL_74981158abde458d8a77a5b48294b410",
              "IPY_MODEL_a0d45ac02fd5495f9d6a64a22feef0b9"
            ],
            "layout": "IPY_MODEL_baf45554fa5142a491969ed2b4540c37"
          }
        },
        "165ea6b1293f44fe8d7fac2d97cbcd20": {
          "model_module": "@jupyter-widgets/controls",
          "model_name": "HTMLModel",
          "model_module_version": "1.5.0",
          "state": {
            "_dom_classes": [],
            "_model_module": "@jupyter-widgets/controls",
            "_model_module_version": "1.5.0",
            "_model_name": "HTMLModel",
            "_view_count": null,
            "_view_module": "@jupyter-widgets/controls",
            "_view_module_version": "1.5.0",
            "_view_name": "HTMLView",
            "description": "",
            "description_tooltip": null,
            "layout": "IPY_MODEL_dbe09c27912f4d43b00fc20c25d965e1",
            "placeholder": "​",
            "style": "IPY_MODEL_49d46202bd6d46c2b59015956552822b",
            "value": "Downloading: 100%"
          }
        },
        "74981158abde458d8a77a5b48294b410": {
          "model_module": "@jupyter-widgets/controls",
          "model_name": "FloatProgressModel",
          "model_module_version": "1.5.0",
          "state": {
            "_dom_classes": [],
            "_model_module": "@jupyter-widgets/controls",
            "_model_module_version": "1.5.0",
            "_model_name": "FloatProgressModel",
            "_view_count": null,
            "_view_module": "@jupyter-widgets/controls",
            "_view_module_version": "1.5.0",
            "_view_name": "ProgressView",
            "bar_style": "success",
            "description": "",
            "description_tooltip": null,
            "layout": "IPY_MODEL_639066d806d54a088258d4b9e5d30d78",
            "max": 28,
            "min": 0,
            "orientation": "horizontal",
            "style": "IPY_MODEL_61667e60882540b397dba4cdad820b31",
            "value": 28
          }
        },
        "a0d45ac02fd5495f9d6a64a22feef0b9": {
          "model_module": "@jupyter-widgets/controls",
          "model_name": "HTMLModel",
          "model_module_version": "1.5.0",
          "state": {
            "_dom_classes": [],
            "_model_module": "@jupyter-widgets/controls",
            "_model_module_version": "1.5.0",
            "_model_name": "HTMLModel",
            "_view_count": null,
            "_view_module": "@jupyter-widgets/controls",
            "_view_module_version": "1.5.0",
            "_view_name": "HTMLView",
            "description": "",
            "description_tooltip": null,
            "layout": "IPY_MODEL_230ee54da2df43aba4bf6a3d73fb2612",
            "placeholder": "​",
            "style": "IPY_MODEL_a14be5ca75fd46c8be3e71982d45d956",
            "value": " 28.0/28.0 [00:00&lt;00:00, 492B/s]"
          }
        },
        "baf45554fa5142a491969ed2b4540c37": {
          "model_module": "@jupyter-widgets/base",
          "model_name": "LayoutModel",
          "model_module_version": "1.2.0",
          "state": {
            "_model_module": "@jupyter-widgets/base",
            "_model_module_version": "1.2.0",
            "_model_name": "LayoutModel",
            "_view_count": null,
            "_view_module": "@jupyter-widgets/base",
            "_view_module_version": "1.2.0",
            "_view_name": "LayoutView",
            "align_content": null,
            "align_items": null,
            "align_self": null,
            "border": null,
            "bottom": null,
            "display": null,
            "flex": null,
            "flex_flow": null,
            "grid_area": null,
            "grid_auto_columns": null,
            "grid_auto_flow": null,
            "grid_auto_rows": null,
            "grid_column": null,
            "grid_gap": null,
            "grid_row": null,
            "grid_template_areas": null,
            "grid_template_columns": null,
            "grid_template_rows": null,
            "height": null,
            "justify_content": null,
            "justify_items": null,
            "left": null,
            "margin": null,
            "max_height": null,
            "max_width": null,
            "min_height": null,
            "min_width": null,
            "object_fit": null,
            "object_position": null,
            "order": null,
            "overflow": null,
            "overflow_x": null,
            "overflow_y": null,
            "padding": null,
            "right": null,
            "top": null,
            "visibility": null,
            "width": null
          }
        },
        "dbe09c27912f4d43b00fc20c25d965e1": {
          "model_module": "@jupyter-widgets/base",
          "model_name": "LayoutModel",
          "model_module_version": "1.2.0",
          "state": {
            "_model_module": "@jupyter-widgets/base",
            "_model_module_version": "1.2.0",
            "_model_name": "LayoutModel",
            "_view_count": null,
            "_view_module": "@jupyter-widgets/base",
            "_view_module_version": "1.2.0",
            "_view_name": "LayoutView",
            "align_content": null,
            "align_items": null,
            "align_self": null,
            "border": null,
            "bottom": null,
            "display": null,
            "flex": null,
            "flex_flow": null,
            "grid_area": null,
            "grid_auto_columns": null,
            "grid_auto_flow": null,
            "grid_auto_rows": null,
            "grid_column": null,
            "grid_gap": null,
            "grid_row": null,
            "grid_template_areas": null,
            "grid_template_columns": null,
            "grid_template_rows": null,
            "height": null,
            "justify_content": null,
            "justify_items": null,
            "left": null,
            "margin": null,
            "max_height": null,
            "max_width": null,
            "min_height": null,
            "min_width": null,
            "object_fit": null,
            "object_position": null,
            "order": null,
            "overflow": null,
            "overflow_x": null,
            "overflow_y": null,
            "padding": null,
            "right": null,
            "top": null,
            "visibility": null,
            "width": null
          }
        },
        "49d46202bd6d46c2b59015956552822b": {
          "model_module": "@jupyter-widgets/controls",
          "model_name": "DescriptionStyleModel",
          "model_module_version": "1.5.0",
          "state": {
            "_model_module": "@jupyter-widgets/controls",
            "_model_module_version": "1.5.0",
            "_model_name": "DescriptionStyleModel",
            "_view_count": null,
            "_view_module": "@jupyter-widgets/base",
            "_view_module_version": "1.2.0",
            "_view_name": "StyleView",
            "description_width": ""
          }
        },
        "639066d806d54a088258d4b9e5d30d78": {
          "model_module": "@jupyter-widgets/base",
          "model_name": "LayoutModel",
          "model_module_version": "1.2.0",
          "state": {
            "_model_module": "@jupyter-widgets/base",
            "_model_module_version": "1.2.0",
            "_model_name": "LayoutModel",
            "_view_count": null,
            "_view_module": "@jupyter-widgets/base",
            "_view_module_version": "1.2.0",
            "_view_name": "LayoutView",
            "align_content": null,
            "align_items": null,
            "align_self": null,
            "border": null,
            "bottom": null,
            "display": null,
            "flex": null,
            "flex_flow": null,
            "grid_area": null,
            "grid_auto_columns": null,
            "grid_auto_flow": null,
            "grid_auto_rows": null,
            "grid_column": null,
            "grid_gap": null,
            "grid_row": null,
            "grid_template_areas": null,
            "grid_template_columns": null,
            "grid_template_rows": null,
            "height": null,
            "justify_content": null,
            "justify_items": null,
            "left": null,
            "margin": null,
            "max_height": null,
            "max_width": null,
            "min_height": null,
            "min_width": null,
            "object_fit": null,
            "object_position": null,
            "order": null,
            "overflow": null,
            "overflow_x": null,
            "overflow_y": null,
            "padding": null,
            "right": null,
            "top": null,
            "visibility": null,
            "width": null
          }
        },
        "61667e60882540b397dba4cdad820b31": {
          "model_module": "@jupyter-widgets/controls",
          "model_name": "ProgressStyleModel",
          "model_module_version": "1.5.0",
          "state": {
            "_model_module": "@jupyter-widgets/controls",
            "_model_module_version": "1.5.0",
            "_model_name": "ProgressStyleModel",
            "_view_count": null,
            "_view_module": "@jupyter-widgets/base",
            "_view_module_version": "1.2.0",
            "_view_name": "StyleView",
            "bar_color": null,
            "description_width": ""
          }
        },
        "230ee54da2df43aba4bf6a3d73fb2612": {
          "model_module": "@jupyter-widgets/base",
          "model_name": "LayoutModel",
          "model_module_version": "1.2.0",
          "state": {
            "_model_module": "@jupyter-widgets/base",
            "_model_module_version": "1.2.0",
            "_model_name": "LayoutModel",
            "_view_count": null,
            "_view_module": "@jupyter-widgets/base",
            "_view_module_version": "1.2.0",
            "_view_name": "LayoutView",
            "align_content": null,
            "align_items": null,
            "align_self": null,
            "border": null,
            "bottom": null,
            "display": null,
            "flex": null,
            "flex_flow": null,
            "grid_area": null,
            "grid_auto_columns": null,
            "grid_auto_flow": null,
            "grid_auto_rows": null,
            "grid_column": null,
            "grid_gap": null,
            "grid_row": null,
            "grid_template_areas": null,
            "grid_template_columns": null,
            "grid_template_rows": null,
            "height": null,
            "justify_content": null,
            "justify_items": null,
            "left": null,
            "margin": null,
            "max_height": null,
            "max_width": null,
            "min_height": null,
            "min_width": null,
            "object_fit": null,
            "object_position": null,
            "order": null,
            "overflow": null,
            "overflow_x": null,
            "overflow_y": null,
            "padding": null,
            "right": null,
            "top": null,
            "visibility": null,
            "width": null
          }
        },
        "a14be5ca75fd46c8be3e71982d45d956": {
          "model_module": "@jupyter-widgets/controls",
          "model_name": "DescriptionStyleModel",
          "model_module_version": "1.5.0",
          "state": {
            "_model_module": "@jupyter-widgets/controls",
            "_model_module_version": "1.5.0",
            "_model_name": "DescriptionStyleModel",
            "_view_count": null,
            "_view_module": "@jupyter-widgets/base",
            "_view_module_version": "1.2.0",
            "_view_name": "StyleView",
            "description_width": ""
          }
        },
        "8ff8323c89c44c9da0763649b95770cb": {
          "model_module": "@jupyter-widgets/controls",
          "model_name": "HBoxModel",
          "model_module_version": "1.5.0",
          "state": {
            "_dom_classes": [],
            "_model_module": "@jupyter-widgets/controls",
            "_model_module_version": "1.5.0",
            "_model_name": "HBoxModel",
            "_view_count": null,
            "_view_module": "@jupyter-widgets/controls",
            "_view_module_version": "1.5.0",
            "_view_name": "HBoxView",
            "box_style": "",
            "children": [
              "IPY_MODEL_0c1de8437e51494aa3130d9107b5a324",
              "IPY_MODEL_7c763969dbd74851b4cd21486d672b23",
              "IPY_MODEL_34131fdcdf3b42f28dcd4f99df2264c4"
            ],
            "layout": "IPY_MODEL_f9a2049aff6546cebf11a350872c663b"
          }
        },
        "0c1de8437e51494aa3130d9107b5a324": {
          "model_module": "@jupyter-widgets/controls",
          "model_name": "HTMLModel",
          "model_module_version": "1.5.0",
          "state": {
            "_dom_classes": [],
            "_model_module": "@jupyter-widgets/controls",
            "_model_module_version": "1.5.0",
            "_model_name": "HTMLModel",
            "_view_count": null,
            "_view_module": "@jupyter-widgets/controls",
            "_view_module_version": "1.5.0",
            "_view_name": "HTMLView",
            "description": "",
            "description_tooltip": null,
            "layout": "IPY_MODEL_60e60423a31a4e9fbaf7f04ebed2aa79",
            "placeholder": "​",
            "style": "IPY_MODEL_ac321914e2a543caa5f4f2a45bf2e50c",
            "value": "Downloading: 100%"
          }
        },
        "7c763969dbd74851b4cd21486d672b23": {
          "model_module": "@jupyter-widgets/controls",
          "model_name": "FloatProgressModel",
          "model_module_version": "1.5.0",
          "state": {
            "_dom_classes": [],
            "_model_module": "@jupyter-widgets/controls",
            "_model_module_version": "1.5.0",
            "_model_name": "FloatProgressModel",
            "_view_count": null,
            "_view_module": "@jupyter-widgets/controls",
            "_view_module_version": "1.5.0",
            "_view_name": "ProgressView",
            "bar_style": "success",
            "description": "",
            "description_tooltip": null,
            "layout": "IPY_MODEL_b6474950349a4080b823b8bb1eec8074",
            "max": 570,
            "min": 0,
            "orientation": "horizontal",
            "style": "IPY_MODEL_101ab812c2264c309443b05a40b756e2",
            "value": 570
          }
        },
        "34131fdcdf3b42f28dcd4f99df2264c4": {
          "model_module": "@jupyter-widgets/controls",
          "model_name": "HTMLModel",
          "model_module_version": "1.5.0",
          "state": {
            "_dom_classes": [],
            "_model_module": "@jupyter-widgets/controls",
            "_model_module_version": "1.5.0",
            "_model_name": "HTMLModel",
            "_view_count": null,
            "_view_module": "@jupyter-widgets/controls",
            "_view_module_version": "1.5.0",
            "_view_name": "HTMLView",
            "description": "",
            "description_tooltip": null,
            "layout": "IPY_MODEL_e58a87b9fc4846bb903c98edbd7ae190",
            "placeholder": "​",
            "style": "IPY_MODEL_6929e1ae56fe4f4099d9e493321af293",
            "value": " 570/570 [00:00&lt;00:00, 15.7kB/s]"
          }
        },
        "f9a2049aff6546cebf11a350872c663b": {
          "model_module": "@jupyter-widgets/base",
          "model_name": "LayoutModel",
          "model_module_version": "1.2.0",
          "state": {
            "_model_module": "@jupyter-widgets/base",
            "_model_module_version": "1.2.0",
            "_model_name": "LayoutModel",
            "_view_count": null,
            "_view_module": "@jupyter-widgets/base",
            "_view_module_version": "1.2.0",
            "_view_name": "LayoutView",
            "align_content": null,
            "align_items": null,
            "align_self": null,
            "border": null,
            "bottom": null,
            "display": null,
            "flex": null,
            "flex_flow": null,
            "grid_area": null,
            "grid_auto_columns": null,
            "grid_auto_flow": null,
            "grid_auto_rows": null,
            "grid_column": null,
            "grid_gap": null,
            "grid_row": null,
            "grid_template_areas": null,
            "grid_template_columns": null,
            "grid_template_rows": null,
            "height": null,
            "justify_content": null,
            "justify_items": null,
            "left": null,
            "margin": null,
            "max_height": null,
            "max_width": null,
            "min_height": null,
            "min_width": null,
            "object_fit": null,
            "object_position": null,
            "order": null,
            "overflow": null,
            "overflow_x": null,
            "overflow_y": null,
            "padding": null,
            "right": null,
            "top": null,
            "visibility": null,
            "width": null
          }
        },
        "60e60423a31a4e9fbaf7f04ebed2aa79": {
          "model_module": "@jupyter-widgets/base",
          "model_name": "LayoutModel",
          "model_module_version": "1.2.0",
          "state": {
            "_model_module": "@jupyter-widgets/base",
            "_model_module_version": "1.2.0",
            "_model_name": "LayoutModel",
            "_view_count": null,
            "_view_module": "@jupyter-widgets/base",
            "_view_module_version": "1.2.0",
            "_view_name": "LayoutView",
            "align_content": null,
            "align_items": null,
            "align_self": null,
            "border": null,
            "bottom": null,
            "display": null,
            "flex": null,
            "flex_flow": null,
            "grid_area": null,
            "grid_auto_columns": null,
            "grid_auto_flow": null,
            "grid_auto_rows": null,
            "grid_column": null,
            "grid_gap": null,
            "grid_row": null,
            "grid_template_areas": null,
            "grid_template_columns": null,
            "grid_template_rows": null,
            "height": null,
            "justify_content": null,
            "justify_items": null,
            "left": null,
            "margin": null,
            "max_height": null,
            "max_width": null,
            "min_height": null,
            "min_width": null,
            "object_fit": null,
            "object_position": null,
            "order": null,
            "overflow": null,
            "overflow_x": null,
            "overflow_y": null,
            "padding": null,
            "right": null,
            "top": null,
            "visibility": null,
            "width": null
          }
        },
        "ac321914e2a543caa5f4f2a45bf2e50c": {
          "model_module": "@jupyter-widgets/controls",
          "model_name": "DescriptionStyleModel",
          "model_module_version": "1.5.0",
          "state": {
            "_model_module": "@jupyter-widgets/controls",
            "_model_module_version": "1.5.0",
            "_model_name": "DescriptionStyleModel",
            "_view_count": null,
            "_view_module": "@jupyter-widgets/base",
            "_view_module_version": "1.2.0",
            "_view_name": "StyleView",
            "description_width": ""
          }
        },
        "b6474950349a4080b823b8bb1eec8074": {
          "model_module": "@jupyter-widgets/base",
          "model_name": "LayoutModel",
          "model_module_version": "1.2.0",
          "state": {
            "_model_module": "@jupyter-widgets/base",
            "_model_module_version": "1.2.0",
            "_model_name": "LayoutModel",
            "_view_count": null,
            "_view_module": "@jupyter-widgets/base",
            "_view_module_version": "1.2.0",
            "_view_name": "LayoutView",
            "align_content": null,
            "align_items": null,
            "align_self": null,
            "border": null,
            "bottom": null,
            "display": null,
            "flex": null,
            "flex_flow": null,
            "grid_area": null,
            "grid_auto_columns": null,
            "grid_auto_flow": null,
            "grid_auto_rows": null,
            "grid_column": null,
            "grid_gap": null,
            "grid_row": null,
            "grid_template_areas": null,
            "grid_template_columns": null,
            "grid_template_rows": null,
            "height": null,
            "justify_content": null,
            "justify_items": null,
            "left": null,
            "margin": null,
            "max_height": null,
            "max_width": null,
            "min_height": null,
            "min_width": null,
            "object_fit": null,
            "object_position": null,
            "order": null,
            "overflow": null,
            "overflow_x": null,
            "overflow_y": null,
            "padding": null,
            "right": null,
            "top": null,
            "visibility": null,
            "width": null
          }
        },
        "101ab812c2264c309443b05a40b756e2": {
          "model_module": "@jupyter-widgets/controls",
          "model_name": "ProgressStyleModel",
          "model_module_version": "1.5.0",
          "state": {
            "_model_module": "@jupyter-widgets/controls",
            "_model_module_version": "1.5.0",
            "_model_name": "ProgressStyleModel",
            "_view_count": null,
            "_view_module": "@jupyter-widgets/base",
            "_view_module_version": "1.2.0",
            "_view_name": "StyleView",
            "bar_color": null,
            "description_width": ""
          }
        },
        "e58a87b9fc4846bb903c98edbd7ae190": {
          "model_module": "@jupyter-widgets/base",
          "model_name": "LayoutModel",
          "model_module_version": "1.2.0",
          "state": {
            "_model_module": "@jupyter-widgets/base",
            "_model_module_version": "1.2.0",
            "_model_name": "LayoutModel",
            "_view_count": null,
            "_view_module": "@jupyter-widgets/base",
            "_view_module_version": "1.2.0",
            "_view_name": "LayoutView",
            "align_content": null,
            "align_items": null,
            "align_self": null,
            "border": null,
            "bottom": null,
            "display": null,
            "flex": null,
            "flex_flow": null,
            "grid_area": null,
            "grid_auto_columns": null,
            "grid_auto_flow": null,
            "grid_auto_rows": null,
            "grid_column": null,
            "grid_gap": null,
            "grid_row": null,
            "grid_template_areas": null,
            "grid_template_columns": null,
            "grid_template_rows": null,
            "height": null,
            "justify_content": null,
            "justify_items": null,
            "left": null,
            "margin": null,
            "max_height": null,
            "max_width": null,
            "min_height": null,
            "min_width": null,
            "object_fit": null,
            "object_position": null,
            "order": null,
            "overflow": null,
            "overflow_x": null,
            "overflow_y": null,
            "padding": null,
            "right": null,
            "top": null,
            "visibility": null,
            "width": null
          }
        },
        "6929e1ae56fe4f4099d9e493321af293": {
          "model_module": "@jupyter-widgets/controls",
          "model_name": "DescriptionStyleModel",
          "model_module_version": "1.5.0",
          "state": {
            "_model_module": "@jupyter-widgets/controls",
            "_model_module_version": "1.5.0",
            "_model_name": "DescriptionStyleModel",
            "_view_count": null,
            "_view_module": "@jupyter-widgets/base",
            "_view_module_version": "1.2.0",
            "_view_name": "StyleView",
            "description_width": ""
          }
        },
        "f08c81f154cd4163b24afd99337aedad": {
          "model_module": "@jupyter-widgets/controls",
          "model_name": "HBoxModel",
          "model_module_version": "1.5.0",
          "state": {
            "_dom_classes": [],
            "_model_module": "@jupyter-widgets/controls",
            "_model_module_version": "1.5.0",
            "_model_name": "HBoxModel",
            "_view_count": null,
            "_view_module": "@jupyter-widgets/controls",
            "_view_module_version": "1.5.0",
            "_view_name": "HBoxView",
            "box_style": "",
            "children": [
              "IPY_MODEL_c509f937d3484228abb42945b70e1072",
              "IPY_MODEL_33096d5879e940d0a043f362d335462d",
              "IPY_MODEL_6659a9705eea48e781e740e1ca36d7a7"
            ],
            "layout": "IPY_MODEL_03f00c4e16c14bfb830d55f5d898b422"
          }
        },
        "c509f937d3484228abb42945b70e1072": {
          "model_module": "@jupyter-widgets/controls",
          "model_name": "HTMLModel",
          "model_module_version": "1.5.0",
          "state": {
            "_dom_classes": [],
            "_model_module": "@jupyter-widgets/controls",
            "_model_module_version": "1.5.0",
            "_model_name": "HTMLModel",
            "_view_count": null,
            "_view_module": "@jupyter-widgets/controls",
            "_view_module_version": "1.5.0",
            "_view_name": "HTMLView",
            "description": "",
            "description_tooltip": null,
            "layout": "IPY_MODEL_6e315580e011468ab20f1deda0fab050",
            "placeholder": "​",
            "style": "IPY_MODEL_d67e1bb585eb43fc99ef5bac6884bda1",
            "value": "Downloading: 100%"
          }
        },
        "33096d5879e940d0a043f362d335462d": {
          "model_module": "@jupyter-widgets/controls",
          "model_name": "FloatProgressModel",
          "model_module_version": "1.5.0",
          "state": {
            "_dom_classes": [],
            "_model_module": "@jupyter-widgets/controls",
            "_model_module_version": "1.5.0",
            "_model_name": "FloatProgressModel",
            "_view_count": null,
            "_view_module": "@jupyter-widgets/controls",
            "_view_module_version": "1.5.0",
            "_view_name": "ProgressView",
            "bar_style": "success",
            "description": "",
            "description_tooltip": null,
            "layout": "IPY_MODEL_5ade6da88f4645139c8ce02d414b672d",
            "max": 231508,
            "min": 0,
            "orientation": "horizontal",
            "style": "IPY_MODEL_6e23781e82074cc1aa10717891e3d46b",
            "value": 231508
          }
        },
        "6659a9705eea48e781e740e1ca36d7a7": {
          "model_module": "@jupyter-widgets/controls",
          "model_name": "HTMLModel",
          "model_module_version": "1.5.0",
          "state": {
            "_dom_classes": [],
            "_model_module": "@jupyter-widgets/controls",
            "_model_module_version": "1.5.0",
            "_model_name": "HTMLModel",
            "_view_count": null,
            "_view_module": "@jupyter-widgets/controls",
            "_view_module_version": "1.5.0",
            "_view_name": "HTMLView",
            "description": "",
            "description_tooltip": null,
            "layout": "IPY_MODEL_a2cf59734bf44901b1d979a49b878ff6",
            "placeholder": "​",
            "style": "IPY_MODEL_c69e03cf57e340f18acb49fe2c9472b8",
            "value": " 226k/226k [00:00&lt;00:00, 1.65MB/s]"
          }
        },
        "03f00c4e16c14bfb830d55f5d898b422": {
          "model_module": "@jupyter-widgets/base",
          "model_name": "LayoutModel",
          "model_module_version": "1.2.0",
          "state": {
            "_model_module": "@jupyter-widgets/base",
            "_model_module_version": "1.2.0",
            "_model_name": "LayoutModel",
            "_view_count": null,
            "_view_module": "@jupyter-widgets/base",
            "_view_module_version": "1.2.0",
            "_view_name": "LayoutView",
            "align_content": null,
            "align_items": null,
            "align_self": null,
            "border": null,
            "bottom": null,
            "display": null,
            "flex": null,
            "flex_flow": null,
            "grid_area": null,
            "grid_auto_columns": null,
            "grid_auto_flow": null,
            "grid_auto_rows": null,
            "grid_column": null,
            "grid_gap": null,
            "grid_row": null,
            "grid_template_areas": null,
            "grid_template_columns": null,
            "grid_template_rows": null,
            "height": null,
            "justify_content": null,
            "justify_items": null,
            "left": null,
            "margin": null,
            "max_height": null,
            "max_width": null,
            "min_height": null,
            "min_width": null,
            "object_fit": null,
            "object_position": null,
            "order": null,
            "overflow": null,
            "overflow_x": null,
            "overflow_y": null,
            "padding": null,
            "right": null,
            "top": null,
            "visibility": null,
            "width": null
          }
        },
        "6e315580e011468ab20f1deda0fab050": {
          "model_module": "@jupyter-widgets/base",
          "model_name": "LayoutModel",
          "model_module_version": "1.2.0",
          "state": {
            "_model_module": "@jupyter-widgets/base",
            "_model_module_version": "1.2.0",
            "_model_name": "LayoutModel",
            "_view_count": null,
            "_view_module": "@jupyter-widgets/base",
            "_view_module_version": "1.2.0",
            "_view_name": "LayoutView",
            "align_content": null,
            "align_items": null,
            "align_self": null,
            "border": null,
            "bottom": null,
            "display": null,
            "flex": null,
            "flex_flow": null,
            "grid_area": null,
            "grid_auto_columns": null,
            "grid_auto_flow": null,
            "grid_auto_rows": null,
            "grid_column": null,
            "grid_gap": null,
            "grid_row": null,
            "grid_template_areas": null,
            "grid_template_columns": null,
            "grid_template_rows": null,
            "height": null,
            "justify_content": null,
            "justify_items": null,
            "left": null,
            "margin": null,
            "max_height": null,
            "max_width": null,
            "min_height": null,
            "min_width": null,
            "object_fit": null,
            "object_position": null,
            "order": null,
            "overflow": null,
            "overflow_x": null,
            "overflow_y": null,
            "padding": null,
            "right": null,
            "top": null,
            "visibility": null,
            "width": null
          }
        },
        "d67e1bb585eb43fc99ef5bac6884bda1": {
          "model_module": "@jupyter-widgets/controls",
          "model_name": "DescriptionStyleModel",
          "model_module_version": "1.5.0",
          "state": {
            "_model_module": "@jupyter-widgets/controls",
            "_model_module_version": "1.5.0",
            "_model_name": "DescriptionStyleModel",
            "_view_count": null,
            "_view_module": "@jupyter-widgets/base",
            "_view_module_version": "1.2.0",
            "_view_name": "StyleView",
            "description_width": ""
          }
        },
        "5ade6da88f4645139c8ce02d414b672d": {
          "model_module": "@jupyter-widgets/base",
          "model_name": "LayoutModel",
          "model_module_version": "1.2.0",
          "state": {
            "_model_module": "@jupyter-widgets/base",
            "_model_module_version": "1.2.0",
            "_model_name": "LayoutModel",
            "_view_count": null,
            "_view_module": "@jupyter-widgets/base",
            "_view_module_version": "1.2.0",
            "_view_name": "LayoutView",
            "align_content": null,
            "align_items": null,
            "align_self": null,
            "border": null,
            "bottom": null,
            "display": null,
            "flex": null,
            "flex_flow": null,
            "grid_area": null,
            "grid_auto_columns": null,
            "grid_auto_flow": null,
            "grid_auto_rows": null,
            "grid_column": null,
            "grid_gap": null,
            "grid_row": null,
            "grid_template_areas": null,
            "grid_template_columns": null,
            "grid_template_rows": null,
            "height": null,
            "justify_content": null,
            "justify_items": null,
            "left": null,
            "margin": null,
            "max_height": null,
            "max_width": null,
            "min_height": null,
            "min_width": null,
            "object_fit": null,
            "object_position": null,
            "order": null,
            "overflow": null,
            "overflow_x": null,
            "overflow_y": null,
            "padding": null,
            "right": null,
            "top": null,
            "visibility": null,
            "width": null
          }
        },
        "6e23781e82074cc1aa10717891e3d46b": {
          "model_module": "@jupyter-widgets/controls",
          "model_name": "ProgressStyleModel",
          "model_module_version": "1.5.0",
          "state": {
            "_model_module": "@jupyter-widgets/controls",
            "_model_module_version": "1.5.0",
            "_model_name": "ProgressStyleModel",
            "_view_count": null,
            "_view_module": "@jupyter-widgets/base",
            "_view_module_version": "1.2.0",
            "_view_name": "StyleView",
            "bar_color": null,
            "description_width": ""
          }
        },
        "a2cf59734bf44901b1d979a49b878ff6": {
          "model_module": "@jupyter-widgets/base",
          "model_name": "LayoutModel",
          "model_module_version": "1.2.0",
          "state": {
            "_model_module": "@jupyter-widgets/base",
            "_model_module_version": "1.2.0",
            "_model_name": "LayoutModel",
            "_view_count": null,
            "_view_module": "@jupyter-widgets/base",
            "_view_module_version": "1.2.0",
            "_view_name": "LayoutView",
            "align_content": null,
            "align_items": null,
            "align_self": null,
            "border": null,
            "bottom": null,
            "display": null,
            "flex": null,
            "flex_flow": null,
            "grid_area": null,
            "grid_auto_columns": null,
            "grid_auto_flow": null,
            "grid_auto_rows": null,
            "grid_column": null,
            "grid_gap": null,
            "grid_row": null,
            "grid_template_areas": null,
            "grid_template_columns": null,
            "grid_template_rows": null,
            "height": null,
            "justify_content": null,
            "justify_items": null,
            "left": null,
            "margin": null,
            "max_height": null,
            "max_width": null,
            "min_height": null,
            "min_width": null,
            "object_fit": null,
            "object_position": null,
            "order": null,
            "overflow": null,
            "overflow_x": null,
            "overflow_y": null,
            "padding": null,
            "right": null,
            "top": null,
            "visibility": null,
            "width": null
          }
        },
        "c69e03cf57e340f18acb49fe2c9472b8": {
          "model_module": "@jupyter-widgets/controls",
          "model_name": "DescriptionStyleModel",
          "model_module_version": "1.5.0",
          "state": {
            "_model_module": "@jupyter-widgets/controls",
            "_model_module_version": "1.5.0",
            "_model_name": "DescriptionStyleModel",
            "_view_count": null,
            "_view_module": "@jupyter-widgets/base",
            "_view_module_version": "1.2.0",
            "_view_name": "StyleView",
            "description_width": ""
          }
        },
        "c776e341929f4215b2ae5b7648f9260d": {
          "model_module": "@jupyter-widgets/controls",
          "model_name": "HBoxModel",
          "model_module_version": "1.5.0",
          "state": {
            "_dom_classes": [],
            "_model_module": "@jupyter-widgets/controls",
            "_model_module_version": "1.5.0",
            "_model_name": "HBoxModel",
            "_view_count": null,
            "_view_module": "@jupyter-widgets/controls",
            "_view_module_version": "1.5.0",
            "_view_name": "HBoxView",
            "box_style": "",
            "children": [
              "IPY_MODEL_7272ef7d319747a9ac8ab2e68746ab74",
              "IPY_MODEL_fa4d2aeeadda4850bf13bf50cc4151a9",
              "IPY_MODEL_e7a6c6dffeb744beae83cdc621696c66"
            ],
            "layout": "IPY_MODEL_22848256173d406591fae2e58dcd256e"
          }
        },
        "7272ef7d319747a9ac8ab2e68746ab74": {
          "model_module": "@jupyter-widgets/controls",
          "model_name": "HTMLModel",
          "model_module_version": "1.5.0",
          "state": {
            "_dom_classes": [],
            "_model_module": "@jupyter-widgets/controls",
            "_model_module_version": "1.5.0",
            "_model_name": "HTMLModel",
            "_view_count": null,
            "_view_module": "@jupyter-widgets/controls",
            "_view_module_version": "1.5.0",
            "_view_name": "HTMLView",
            "description": "",
            "description_tooltip": null,
            "layout": "IPY_MODEL_d38236de2fe44ac4bffd2ca2b1bd2e0e",
            "placeholder": "​",
            "style": "IPY_MODEL_01d00b5deef64fba9e158e7c944590bd",
            "value": "Downloading: 100%"
          }
        },
        "fa4d2aeeadda4850bf13bf50cc4151a9": {
          "model_module": "@jupyter-widgets/controls",
          "model_name": "FloatProgressModel",
          "model_module_version": "1.5.0",
          "state": {
            "_dom_classes": [],
            "_model_module": "@jupyter-widgets/controls",
            "_model_module_version": "1.5.0",
            "_model_name": "FloatProgressModel",
            "_view_count": null,
            "_view_module": "@jupyter-widgets/controls",
            "_view_module_version": "1.5.0",
            "_view_name": "ProgressView",
            "bar_style": "success",
            "description": "",
            "description_tooltip": null,
            "layout": "IPY_MODEL_0a36bda376dc41cd8a14b0dcff8f103a",
            "max": 466062,
            "min": 0,
            "orientation": "horizontal",
            "style": "IPY_MODEL_60e615dfb15a4600882e4d8b00ada5fe",
            "value": 466062
          }
        },
        "e7a6c6dffeb744beae83cdc621696c66": {
          "model_module": "@jupyter-widgets/controls",
          "model_name": "HTMLModel",
          "model_module_version": "1.5.0",
          "state": {
            "_dom_classes": [],
            "_model_module": "@jupyter-widgets/controls",
            "_model_module_version": "1.5.0",
            "_model_name": "HTMLModel",
            "_view_count": null,
            "_view_module": "@jupyter-widgets/controls",
            "_view_module_version": "1.5.0",
            "_view_name": "HTMLView",
            "description": "",
            "description_tooltip": null,
            "layout": "IPY_MODEL_1c5de8e7e049422fba1a10fc307a4a56",
            "placeholder": "​",
            "style": "IPY_MODEL_8e81952058ba43f7a2dffb5c322ff007",
            "value": " 455k/455k [00:00&lt;00:00, 2.05MB/s]"
          }
        },
        "22848256173d406591fae2e58dcd256e": {
          "model_module": "@jupyter-widgets/base",
          "model_name": "LayoutModel",
          "model_module_version": "1.2.0",
          "state": {
            "_model_module": "@jupyter-widgets/base",
            "_model_module_version": "1.2.0",
            "_model_name": "LayoutModel",
            "_view_count": null,
            "_view_module": "@jupyter-widgets/base",
            "_view_module_version": "1.2.0",
            "_view_name": "LayoutView",
            "align_content": null,
            "align_items": null,
            "align_self": null,
            "border": null,
            "bottom": null,
            "display": null,
            "flex": null,
            "flex_flow": null,
            "grid_area": null,
            "grid_auto_columns": null,
            "grid_auto_flow": null,
            "grid_auto_rows": null,
            "grid_column": null,
            "grid_gap": null,
            "grid_row": null,
            "grid_template_areas": null,
            "grid_template_columns": null,
            "grid_template_rows": null,
            "height": null,
            "justify_content": null,
            "justify_items": null,
            "left": null,
            "margin": null,
            "max_height": null,
            "max_width": null,
            "min_height": null,
            "min_width": null,
            "object_fit": null,
            "object_position": null,
            "order": null,
            "overflow": null,
            "overflow_x": null,
            "overflow_y": null,
            "padding": null,
            "right": null,
            "top": null,
            "visibility": null,
            "width": null
          }
        },
        "d38236de2fe44ac4bffd2ca2b1bd2e0e": {
          "model_module": "@jupyter-widgets/base",
          "model_name": "LayoutModel",
          "model_module_version": "1.2.0",
          "state": {
            "_model_module": "@jupyter-widgets/base",
            "_model_module_version": "1.2.0",
            "_model_name": "LayoutModel",
            "_view_count": null,
            "_view_module": "@jupyter-widgets/base",
            "_view_module_version": "1.2.0",
            "_view_name": "LayoutView",
            "align_content": null,
            "align_items": null,
            "align_self": null,
            "border": null,
            "bottom": null,
            "display": null,
            "flex": null,
            "flex_flow": null,
            "grid_area": null,
            "grid_auto_columns": null,
            "grid_auto_flow": null,
            "grid_auto_rows": null,
            "grid_column": null,
            "grid_gap": null,
            "grid_row": null,
            "grid_template_areas": null,
            "grid_template_columns": null,
            "grid_template_rows": null,
            "height": null,
            "justify_content": null,
            "justify_items": null,
            "left": null,
            "margin": null,
            "max_height": null,
            "max_width": null,
            "min_height": null,
            "min_width": null,
            "object_fit": null,
            "object_position": null,
            "order": null,
            "overflow": null,
            "overflow_x": null,
            "overflow_y": null,
            "padding": null,
            "right": null,
            "top": null,
            "visibility": null,
            "width": null
          }
        },
        "01d00b5deef64fba9e158e7c944590bd": {
          "model_module": "@jupyter-widgets/controls",
          "model_name": "DescriptionStyleModel",
          "model_module_version": "1.5.0",
          "state": {
            "_model_module": "@jupyter-widgets/controls",
            "_model_module_version": "1.5.0",
            "_model_name": "DescriptionStyleModel",
            "_view_count": null,
            "_view_module": "@jupyter-widgets/base",
            "_view_module_version": "1.2.0",
            "_view_name": "StyleView",
            "description_width": ""
          }
        },
        "0a36bda376dc41cd8a14b0dcff8f103a": {
          "model_module": "@jupyter-widgets/base",
          "model_name": "LayoutModel",
          "model_module_version": "1.2.0",
          "state": {
            "_model_module": "@jupyter-widgets/base",
            "_model_module_version": "1.2.0",
            "_model_name": "LayoutModel",
            "_view_count": null,
            "_view_module": "@jupyter-widgets/base",
            "_view_module_version": "1.2.0",
            "_view_name": "LayoutView",
            "align_content": null,
            "align_items": null,
            "align_self": null,
            "border": null,
            "bottom": null,
            "display": null,
            "flex": null,
            "flex_flow": null,
            "grid_area": null,
            "grid_auto_columns": null,
            "grid_auto_flow": null,
            "grid_auto_rows": null,
            "grid_column": null,
            "grid_gap": null,
            "grid_row": null,
            "grid_template_areas": null,
            "grid_template_columns": null,
            "grid_template_rows": null,
            "height": null,
            "justify_content": null,
            "justify_items": null,
            "left": null,
            "margin": null,
            "max_height": null,
            "max_width": null,
            "min_height": null,
            "min_width": null,
            "object_fit": null,
            "object_position": null,
            "order": null,
            "overflow": null,
            "overflow_x": null,
            "overflow_y": null,
            "padding": null,
            "right": null,
            "top": null,
            "visibility": null,
            "width": null
          }
        },
        "60e615dfb15a4600882e4d8b00ada5fe": {
          "model_module": "@jupyter-widgets/controls",
          "model_name": "ProgressStyleModel",
          "model_module_version": "1.5.0",
          "state": {
            "_model_module": "@jupyter-widgets/controls",
            "_model_module_version": "1.5.0",
            "_model_name": "ProgressStyleModel",
            "_view_count": null,
            "_view_module": "@jupyter-widgets/base",
            "_view_module_version": "1.2.0",
            "_view_name": "StyleView",
            "bar_color": null,
            "description_width": ""
          }
        },
        "1c5de8e7e049422fba1a10fc307a4a56": {
          "model_module": "@jupyter-widgets/base",
          "model_name": "LayoutModel",
          "model_module_version": "1.2.0",
          "state": {
            "_model_module": "@jupyter-widgets/base",
            "_model_module_version": "1.2.0",
            "_model_name": "LayoutModel",
            "_view_count": null,
            "_view_module": "@jupyter-widgets/base",
            "_view_module_version": "1.2.0",
            "_view_name": "LayoutView",
            "align_content": null,
            "align_items": null,
            "align_self": null,
            "border": null,
            "bottom": null,
            "display": null,
            "flex": null,
            "flex_flow": null,
            "grid_area": null,
            "grid_auto_columns": null,
            "grid_auto_flow": null,
            "grid_auto_rows": null,
            "grid_column": null,
            "grid_gap": null,
            "grid_row": null,
            "grid_template_areas": null,
            "grid_template_columns": null,
            "grid_template_rows": null,
            "height": null,
            "justify_content": null,
            "justify_items": null,
            "left": null,
            "margin": null,
            "max_height": null,
            "max_width": null,
            "min_height": null,
            "min_width": null,
            "object_fit": null,
            "object_position": null,
            "order": null,
            "overflow": null,
            "overflow_x": null,
            "overflow_y": null,
            "padding": null,
            "right": null,
            "top": null,
            "visibility": null,
            "width": null
          }
        },
        "8e81952058ba43f7a2dffb5c322ff007": {
          "model_module": "@jupyter-widgets/controls",
          "model_name": "DescriptionStyleModel",
          "model_module_version": "1.5.0",
          "state": {
            "_model_module": "@jupyter-widgets/controls",
            "_model_module_version": "1.5.0",
            "_model_name": "DescriptionStyleModel",
            "_view_count": null,
            "_view_module": "@jupyter-widgets/base",
            "_view_module_version": "1.2.0",
            "_view_name": "StyleView",
            "description_width": ""
          }
        },
        "de913159765b4f6796bd93b5761af74e": {
          "model_module": "@jupyter-widgets/controls",
          "model_name": "HBoxModel",
          "model_module_version": "1.5.0",
          "state": {
            "_dom_classes": [],
            "_model_module": "@jupyter-widgets/controls",
            "_model_module_version": "1.5.0",
            "_model_name": "HBoxModel",
            "_view_count": null,
            "_view_module": "@jupyter-widgets/controls",
            "_view_module_version": "1.5.0",
            "_view_name": "HBoxView",
            "box_style": "",
            "children": [
              "IPY_MODEL_a1e5095926194d37aaaffc5c870af039",
              "IPY_MODEL_37312da05b444645a46d06009de3e373",
              "IPY_MODEL_37ed793873664e659b4e51ea819eb5b1"
            ],
            "layout": "IPY_MODEL_4869aad45d7d436182df7adbd05bdcca"
          }
        },
        "a1e5095926194d37aaaffc5c870af039": {
          "model_module": "@jupyter-widgets/controls",
          "model_name": "HTMLModel",
          "model_module_version": "1.5.0",
          "state": {
            "_dom_classes": [],
            "_model_module": "@jupyter-widgets/controls",
            "_model_module_version": "1.5.0",
            "_model_name": "HTMLModel",
            "_view_count": null,
            "_view_module": "@jupyter-widgets/controls",
            "_view_module_version": "1.5.0",
            "_view_name": "HTMLView",
            "description": "",
            "description_tooltip": null,
            "layout": "IPY_MODEL_4a7098f358744f1b8dfc0fdc5ede2375",
            "placeholder": "​",
            "style": "IPY_MODEL_add5ce2c5f274cd4b82408f1bf03a1ec",
            "value": "Downloading: 100%"
          }
        },
        "37312da05b444645a46d06009de3e373": {
          "model_module": "@jupyter-widgets/controls",
          "model_name": "FloatProgressModel",
          "model_module_version": "1.5.0",
          "state": {
            "_dom_classes": [],
            "_model_module": "@jupyter-widgets/controls",
            "_model_module_version": "1.5.0",
            "_model_name": "FloatProgressModel",
            "_view_count": null,
            "_view_module": "@jupyter-widgets/controls",
            "_view_module_version": "1.5.0",
            "_view_name": "ProgressView",
            "bar_style": "success",
            "description": "",
            "description_tooltip": null,
            "layout": "IPY_MODEL_8e3429d200924b6d81f3a3d4445820c6",
            "max": 440473133,
            "min": 0,
            "orientation": "horizontal",
            "style": "IPY_MODEL_1f8b82eb4c224c459224b3bff3b7b8f8",
            "value": 440473133
          }
        },
        "37ed793873664e659b4e51ea819eb5b1": {
          "model_module": "@jupyter-widgets/controls",
          "model_name": "HTMLModel",
          "model_module_version": "1.5.0",
          "state": {
            "_dom_classes": [],
            "_model_module": "@jupyter-widgets/controls",
            "_model_module_version": "1.5.0",
            "_model_name": "HTMLModel",
            "_view_count": null,
            "_view_module": "@jupyter-widgets/controls",
            "_view_module_version": "1.5.0",
            "_view_name": "HTMLView",
            "description": "",
            "description_tooltip": null,
            "layout": "IPY_MODEL_e8dd8698b1b446e49c1fbc3e296d1a9b",
            "placeholder": "​",
            "style": "IPY_MODEL_93b9f8f002604b01a804a4e691e508d6",
            "value": " 420M/420M [00:20&lt;00:00, 23.1MB/s]"
          }
        },
        "4869aad45d7d436182df7adbd05bdcca": {
          "model_module": "@jupyter-widgets/base",
          "model_name": "LayoutModel",
          "model_module_version": "1.2.0",
          "state": {
            "_model_module": "@jupyter-widgets/base",
            "_model_module_version": "1.2.0",
            "_model_name": "LayoutModel",
            "_view_count": null,
            "_view_module": "@jupyter-widgets/base",
            "_view_module_version": "1.2.0",
            "_view_name": "LayoutView",
            "align_content": null,
            "align_items": null,
            "align_self": null,
            "border": null,
            "bottom": null,
            "display": null,
            "flex": null,
            "flex_flow": null,
            "grid_area": null,
            "grid_auto_columns": null,
            "grid_auto_flow": null,
            "grid_auto_rows": null,
            "grid_column": null,
            "grid_gap": null,
            "grid_row": null,
            "grid_template_areas": null,
            "grid_template_columns": null,
            "grid_template_rows": null,
            "height": null,
            "justify_content": null,
            "justify_items": null,
            "left": null,
            "margin": null,
            "max_height": null,
            "max_width": null,
            "min_height": null,
            "min_width": null,
            "object_fit": null,
            "object_position": null,
            "order": null,
            "overflow": null,
            "overflow_x": null,
            "overflow_y": null,
            "padding": null,
            "right": null,
            "top": null,
            "visibility": null,
            "width": null
          }
        },
        "4a7098f358744f1b8dfc0fdc5ede2375": {
          "model_module": "@jupyter-widgets/base",
          "model_name": "LayoutModel",
          "model_module_version": "1.2.0",
          "state": {
            "_model_module": "@jupyter-widgets/base",
            "_model_module_version": "1.2.0",
            "_model_name": "LayoutModel",
            "_view_count": null,
            "_view_module": "@jupyter-widgets/base",
            "_view_module_version": "1.2.0",
            "_view_name": "LayoutView",
            "align_content": null,
            "align_items": null,
            "align_self": null,
            "border": null,
            "bottom": null,
            "display": null,
            "flex": null,
            "flex_flow": null,
            "grid_area": null,
            "grid_auto_columns": null,
            "grid_auto_flow": null,
            "grid_auto_rows": null,
            "grid_column": null,
            "grid_gap": null,
            "grid_row": null,
            "grid_template_areas": null,
            "grid_template_columns": null,
            "grid_template_rows": null,
            "height": null,
            "justify_content": null,
            "justify_items": null,
            "left": null,
            "margin": null,
            "max_height": null,
            "max_width": null,
            "min_height": null,
            "min_width": null,
            "object_fit": null,
            "object_position": null,
            "order": null,
            "overflow": null,
            "overflow_x": null,
            "overflow_y": null,
            "padding": null,
            "right": null,
            "top": null,
            "visibility": null,
            "width": null
          }
        },
        "add5ce2c5f274cd4b82408f1bf03a1ec": {
          "model_module": "@jupyter-widgets/controls",
          "model_name": "DescriptionStyleModel",
          "model_module_version": "1.5.0",
          "state": {
            "_model_module": "@jupyter-widgets/controls",
            "_model_module_version": "1.5.0",
            "_model_name": "DescriptionStyleModel",
            "_view_count": null,
            "_view_module": "@jupyter-widgets/base",
            "_view_module_version": "1.2.0",
            "_view_name": "StyleView",
            "description_width": ""
          }
        },
        "8e3429d200924b6d81f3a3d4445820c6": {
          "model_module": "@jupyter-widgets/base",
          "model_name": "LayoutModel",
          "model_module_version": "1.2.0",
          "state": {
            "_model_module": "@jupyter-widgets/base",
            "_model_module_version": "1.2.0",
            "_model_name": "LayoutModel",
            "_view_count": null,
            "_view_module": "@jupyter-widgets/base",
            "_view_module_version": "1.2.0",
            "_view_name": "LayoutView",
            "align_content": null,
            "align_items": null,
            "align_self": null,
            "border": null,
            "bottom": null,
            "display": null,
            "flex": null,
            "flex_flow": null,
            "grid_area": null,
            "grid_auto_columns": null,
            "grid_auto_flow": null,
            "grid_auto_rows": null,
            "grid_column": null,
            "grid_gap": null,
            "grid_row": null,
            "grid_template_areas": null,
            "grid_template_columns": null,
            "grid_template_rows": null,
            "height": null,
            "justify_content": null,
            "justify_items": null,
            "left": null,
            "margin": null,
            "max_height": null,
            "max_width": null,
            "min_height": null,
            "min_width": null,
            "object_fit": null,
            "object_position": null,
            "order": null,
            "overflow": null,
            "overflow_x": null,
            "overflow_y": null,
            "padding": null,
            "right": null,
            "top": null,
            "visibility": null,
            "width": null
          }
        },
        "1f8b82eb4c224c459224b3bff3b7b8f8": {
          "model_module": "@jupyter-widgets/controls",
          "model_name": "ProgressStyleModel",
          "model_module_version": "1.5.0",
          "state": {
            "_model_module": "@jupyter-widgets/controls",
            "_model_module_version": "1.5.0",
            "_model_name": "ProgressStyleModel",
            "_view_count": null,
            "_view_module": "@jupyter-widgets/base",
            "_view_module_version": "1.2.0",
            "_view_name": "StyleView",
            "bar_color": null,
            "description_width": ""
          }
        },
        "e8dd8698b1b446e49c1fbc3e296d1a9b": {
          "model_module": "@jupyter-widgets/base",
          "model_name": "LayoutModel",
          "model_module_version": "1.2.0",
          "state": {
            "_model_module": "@jupyter-widgets/base",
            "_model_module_version": "1.2.0",
            "_model_name": "LayoutModel",
            "_view_count": null,
            "_view_module": "@jupyter-widgets/base",
            "_view_module_version": "1.2.0",
            "_view_name": "LayoutView",
            "align_content": null,
            "align_items": null,
            "align_self": null,
            "border": null,
            "bottom": null,
            "display": null,
            "flex": null,
            "flex_flow": null,
            "grid_area": null,
            "grid_auto_columns": null,
            "grid_auto_flow": null,
            "grid_auto_rows": null,
            "grid_column": null,
            "grid_gap": null,
            "grid_row": null,
            "grid_template_areas": null,
            "grid_template_columns": null,
            "grid_template_rows": null,
            "height": null,
            "justify_content": null,
            "justify_items": null,
            "left": null,
            "margin": null,
            "max_height": null,
            "max_width": null,
            "min_height": null,
            "min_width": null,
            "object_fit": null,
            "object_position": null,
            "order": null,
            "overflow": null,
            "overflow_x": null,
            "overflow_y": null,
            "padding": null,
            "right": null,
            "top": null,
            "visibility": null,
            "width": null
          }
        },
        "93b9f8f002604b01a804a4e691e508d6": {
          "model_module": "@jupyter-widgets/controls",
          "model_name": "DescriptionStyleModel",
          "model_module_version": "1.5.0",
          "state": {
            "_model_module": "@jupyter-widgets/controls",
            "_model_module_version": "1.5.0",
            "_model_name": "DescriptionStyleModel",
            "_view_count": null,
            "_view_module": "@jupyter-widgets/base",
            "_view_module_version": "1.2.0",
            "_view_name": "StyleView",
            "description_width": ""
          }
        },
        "0204320ff5294994a0016009ef469696": {
          "model_module": "@jupyter-widgets/controls",
          "model_name": "HBoxModel",
          "model_module_version": "1.5.0",
          "state": {
            "_dom_classes": [],
            "_model_module": "@jupyter-widgets/controls",
            "_model_module_version": "1.5.0",
            "_model_name": "HBoxModel",
            "_view_count": null,
            "_view_module": "@jupyter-widgets/controls",
            "_view_module_version": "1.5.0",
            "_view_name": "HBoxView",
            "box_style": "",
            "children": [
              "IPY_MODEL_a7d73fd554db4fbf82823aecf2e38fb2",
              "IPY_MODEL_53d4af6aec72420197871f054ab39240",
              "IPY_MODEL_21e981d4667c4a4ea891502587f5e70f"
            ],
            "layout": "IPY_MODEL_d145b7d0d6834c6fbc601b86ce1cde91"
          }
        },
        "a7d73fd554db4fbf82823aecf2e38fb2": {
          "model_module": "@jupyter-widgets/controls",
          "model_name": "HTMLModel",
          "model_module_version": "1.5.0",
          "state": {
            "_dom_classes": [],
            "_model_module": "@jupyter-widgets/controls",
            "_model_module_version": "1.5.0",
            "_model_name": "HTMLModel",
            "_view_count": null,
            "_view_module": "@jupyter-widgets/controls",
            "_view_module_version": "1.5.0",
            "_view_name": "HTMLView",
            "description": "",
            "description_tooltip": null,
            "layout": "IPY_MODEL_0ce7623a92014a2b976e7af0b76948b7",
            "placeholder": "​",
            "style": "IPY_MODEL_0691e77953364b86a881d1c0d1f5c396",
            "value": "100%"
          }
        },
        "53d4af6aec72420197871f054ab39240": {
          "model_module": "@jupyter-widgets/controls",
          "model_name": "FloatProgressModel",
          "model_module_version": "1.5.0",
          "state": {
            "_dom_classes": [],
            "_model_module": "@jupyter-widgets/controls",
            "_model_module_version": "1.5.0",
            "_model_name": "FloatProgressModel",
            "_view_count": null,
            "_view_module": "@jupyter-widgets/controls",
            "_view_module_version": "1.5.0",
            "_view_name": "ProgressView",
            "bar_style": "success",
            "description": "",
            "description_tooltip": null,
            "layout": "IPY_MODEL_39cf137d43e446329c99c88976126799",
            "max": 1,
            "min": 0,
            "orientation": "horizontal",
            "style": "IPY_MODEL_6f7dde063d5d4bd0bebb43419a178279",
            "value": 1
          }
        },
        "21e981d4667c4a4ea891502587f5e70f": {
          "model_module": "@jupyter-widgets/controls",
          "model_name": "HTMLModel",
          "model_module_version": "1.5.0",
          "state": {
            "_dom_classes": [],
            "_model_module": "@jupyter-widgets/controls",
            "_model_module_version": "1.5.0",
            "_model_name": "HTMLModel",
            "_view_count": null,
            "_view_module": "@jupyter-widgets/controls",
            "_view_module_version": "1.5.0",
            "_view_name": "HTMLView",
            "description": "",
            "description_tooltip": null,
            "layout": "IPY_MODEL_a4b3666a1ee141009f8c29076a8d59d7",
            "placeholder": "​",
            "style": "IPY_MODEL_fd5a76981b29463584fbd2081db5c285",
            "value": " 1/1 [00:00&lt;00:00,  6.96ba/s]"
          }
        },
        "d145b7d0d6834c6fbc601b86ce1cde91": {
          "model_module": "@jupyter-widgets/base",
          "model_name": "LayoutModel",
          "model_module_version": "1.2.0",
          "state": {
            "_model_module": "@jupyter-widgets/base",
            "_model_module_version": "1.2.0",
            "_model_name": "LayoutModel",
            "_view_count": null,
            "_view_module": "@jupyter-widgets/base",
            "_view_module_version": "1.2.0",
            "_view_name": "LayoutView",
            "align_content": null,
            "align_items": null,
            "align_self": null,
            "border": null,
            "bottom": null,
            "display": null,
            "flex": null,
            "flex_flow": null,
            "grid_area": null,
            "grid_auto_columns": null,
            "grid_auto_flow": null,
            "grid_auto_rows": null,
            "grid_column": null,
            "grid_gap": null,
            "grid_row": null,
            "grid_template_areas": null,
            "grid_template_columns": null,
            "grid_template_rows": null,
            "height": null,
            "justify_content": null,
            "justify_items": null,
            "left": null,
            "margin": null,
            "max_height": null,
            "max_width": null,
            "min_height": null,
            "min_width": null,
            "object_fit": null,
            "object_position": null,
            "order": null,
            "overflow": null,
            "overflow_x": null,
            "overflow_y": null,
            "padding": null,
            "right": null,
            "top": null,
            "visibility": null,
            "width": null
          }
        },
        "0ce7623a92014a2b976e7af0b76948b7": {
          "model_module": "@jupyter-widgets/base",
          "model_name": "LayoutModel",
          "model_module_version": "1.2.0",
          "state": {
            "_model_module": "@jupyter-widgets/base",
            "_model_module_version": "1.2.0",
            "_model_name": "LayoutModel",
            "_view_count": null,
            "_view_module": "@jupyter-widgets/base",
            "_view_module_version": "1.2.0",
            "_view_name": "LayoutView",
            "align_content": null,
            "align_items": null,
            "align_self": null,
            "border": null,
            "bottom": null,
            "display": null,
            "flex": null,
            "flex_flow": null,
            "grid_area": null,
            "grid_auto_columns": null,
            "grid_auto_flow": null,
            "grid_auto_rows": null,
            "grid_column": null,
            "grid_gap": null,
            "grid_row": null,
            "grid_template_areas": null,
            "grid_template_columns": null,
            "grid_template_rows": null,
            "height": null,
            "justify_content": null,
            "justify_items": null,
            "left": null,
            "margin": null,
            "max_height": null,
            "max_width": null,
            "min_height": null,
            "min_width": null,
            "object_fit": null,
            "object_position": null,
            "order": null,
            "overflow": null,
            "overflow_x": null,
            "overflow_y": null,
            "padding": null,
            "right": null,
            "top": null,
            "visibility": null,
            "width": null
          }
        },
        "0691e77953364b86a881d1c0d1f5c396": {
          "model_module": "@jupyter-widgets/controls",
          "model_name": "DescriptionStyleModel",
          "model_module_version": "1.5.0",
          "state": {
            "_model_module": "@jupyter-widgets/controls",
            "_model_module_version": "1.5.0",
            "_model_name": "DescriptionStyleModel",
            "_view_count": null,
            "_view_module": "@jupyter-widgets/base",
            "_view_module_version": "1.2.0",
            "_view_name": "StyleView",
            "description_width": ""
          }
        },
        "39cf137d43e446329c99c88976126799": {
          "model_module": "@jupyter-widgets/base",
          "model_name": "LayoutModel",
          "model_module_version": "1.2.0",
          "state": {
            "_model_module": "@jupyter-widgets/base",
            "_model_module_version": "1.2.0",
            "_model_name": "LayoutModel",
            "_view_count": null,
            "_view_module": "@jupyter-widgets/base",
            "_view_module_version": "1.2.0",
            "_view_name": "LayoutView",
            "align_content": null,
            "align_items": null,
            "align_self": null,
            "border": null,
            "bottom": null,
            "display": null,
            "flex": null,
            "flex_flow": null,
            "grid_area": null,
            "grid_auto_columns": null,
            "grid_auto_flow": null,
            "grid_auto_rows": null,
            "grid_column": null,
            "grid_gap": null,
            "grid_row": null,
            "grid_template_areas": null,
            "grid_template_columns": null,
            "grid_template_rows": null,
            "height": null,
            "justify_content": null,
            "justify_items": null,
            "left": null,
            "margin": null,
            "max_height": null,
            "max_width": null,
            "min_height": null,
            "min_width": null,
            "object_fit": null,
            "object_position": null,
            "order": null,
            "overflow": null,
            "overflow_x": null,
            "overflow_y": null,
            "padding": null,
            "right": null,
            "top": null,
            "visibility": null,
            "width": null
          }
        },
        "6f7dde063d5d4bd0bebb43419a178279": {
          "model_module": "@jupyter-widgets/controls",
          "model_name": "ProgressStyleModel",
          "model_module_version": "1.5.0",
          "state": {
            "_model_module": "@jupyter-widgets/controls",
            "_model_module_version": "1.5.0",
            "_model_name": "ProgressStyleModel",
            "_view_count": null,
            "_view_module": "@jupyter-widgets/base",
            "_view_module_version": "1.2.0",
            "_view_name": "StyleView",
            "bar_color": null,
            "description_width": ""
          }
        },
        "a4b3666a1ee141009f8c29076a8d59d7": {
          "model_module": "@jupyter-widgets/base",
          "model_name": "LayoutModel",
          "model_module_version": "1.2.0",
          "state": {
            "_model_module": "@jupyter-widgets/base",
            "_model_module_version": "1.2.0",
            "_model_name": "LayoutModel",
            "_view_count": null,
            "_view_module": "@jupyter-widgets/base",
            "_view_module_version": "1.2.0",
            "_view_name": "LayoutView",
            "align_content": null,
            "align_items": null,
            "align_self": null,
            "border": null,
            "bottom": null,
            "display": null,
            "flex": null,
            "flex_flow": null,
            "grid_area": null,
            "grid_auto_columns": null,
            "grid_auto_flow": null,
            "grid_auto_rows": null,
            "grid_column": null,
            "grid_gap": null,
            "grid_row": null,
            "grid_template_areas": null,
            "grid_template_columns": null,
            "grid_template_rows": null,
            "height": null,
            "justify_content": null,
            "justify_items": null,
            "left": null,
            "margin": null,
            "max_height": null,
            "max_width": null,
            "min_height": null,
            "min_width": null,
            "object_fit": null,
            "object_position": null,
            "order": null,
            "overflow": null,
            "overflow_x": null,
            "overflow_y": null,
            "padding": null,
            "right": null,
            "top": null,
            "visibility": null,
            "width": null
          }
        },
        "fd5a76981b29463584fbd2081db5c285": {
          "model_module": "@jupyter-widgets/controls",
          "model_name": "DescriptionStyleModel",
          "model_module_version": "1.5.0",
          "state": {
            "_model_module": "@jupyter-widgets/controls",
            "_model_module_version": "1.5.0",
            "_model_name": "DescriptionStyleModel",
            "_view_count": null,
            "_view_module": "@jupyter-widgets/base",
            "_view_module_version": "1.2.0",
            "_view_name": "StyleView",
            "description_width": ""
          }
        },
        "e9763f0dec1a454ead7a849446d4a43a": {
          "model_module": "@jupyter-widgets/controls",
          "model_name": "HBoxModel",
          "model_module_version": "1.5.0",
          "state": {
            "_dom_classes": [],
            "_model_module": "@jupyter-widgets/controls",
            "_model_module_version": "1.5.0",
            "_model_name": "HBoxModel",
            "_view_count": null,
            "_view_module": "@jupyter-widgets/controls",
            "_view_module_version": "1.5.0",
            "_view_name": "HBoxView",
            "box_style": "",
            "children": [
              "IPY_MODEL_6345918a522e410c8af994718b0bcde8",
              "IPY_MODEL_6bb37bac10d244378e661846958169b9",
              "IPY_MODEL_8c01f27a0a894be0b8b0081f9bc4f8d0"
            ],
            "layout": "IPY_MODEL_ca6c7ae648304e58b4b1ed795e71cded"
          }
        },
        "6345918a522e410c8af994718b0bcde8": {
          "model_module": "@jupyter-widgets/controls",
          "model_name": "HTMLModel",
          "model_module_version": "1.5.0",
          "state": {
            "_dom_classes": [],
            "_model_module": "@jupyter-widgets/controls",
            "_model_module_version": "1.5.0",
            "_model_name": "HTMLModel",
            "_view_count": null,
            "_view_module": "@jupyter-widgets/controls",
            "_view_module_version": "1.5.0",
            "_view_name": "HTMLView",
            "description": "",
            "description_tooltip": null,
            "layout": "IPY_MODEL_e3963d133d2e4ca7abfa43c22223662d",
            "placeholder": "​",
            "style": "IPY_MODEL_4880892dc2d64b4e837a87fd22cf0276",
            "value": "100%"
          }
        },
        "6bb37bac10d244378e661846958169b9": {
          "model_module": "@jupyter-widgets/controls",
          "model_name": "FloatProgressModel",
          "model_module_version": "1.5.0",
          "state": {
            "_dom_classes": [],
            "_model_module": "@jupyter-widgets/controls",
            "_model_module_version": "1.5.0",
            "_model_name": "FloatProgressModel",
            "_view_count": null,
            "_view_module": "@jupyter-widgets/controls",
            "_view_module_version": "1.5.0",
            "_view_name": "ProgressView",
            "bar_style": "success",
            "description": "",
            "description_tooltip": null,
            "layout": "IPY_MODEL_031f1729d9134300baddd946927e562f",
            "max": 1,
            "min": 0,
            "orientation": "horizontal",
            "style": "IPY_MODEL_ea089a371ab04c5e92c7ae09cac5c72a",
            "value": 1
          }
        },
        "8c01f27a0a894be0b8b0081f9bc4f8d0": {
          "model_module": "@jupyter-widgets/controls",
          "model_name": "HTMLModel",
          "model_module_version": "1.5.0",
          "state": {
            "_dom_classes": [],
            "_model_module": "@jupyter-widgets/controls",
            "_model_module_version": "1.5.0",
            "_model_name": "HTMLModel",
            "_view_count": null,
            "_view_module": "@jupyter-widgets/controls",
            "_view_module_version": "1.5.0",
            "_view_name": "HTMLView",
            "description": "",
            "description_tooltip": null,
            "layout": "IPY_MODEL_7581ec81e53745e4a4a3c9b9ec80cd61",
            "placeholder": "​",
            "style": "IPY_MODEL_3c7643740e484ca1aebbffbd9a206a2c",
            "value": " 1/1 [00:00&lt;00:00, 15.04ba/s]"
          }
        },
        "ca6c7ae648304e58b4b1ed795e71cded": {
          "model_module": "@jupyter-widgets/base",
          "model_name": "LayoutModel",
          "model_module_version": "1.2.0",
          "state": {
            "_model_module": "@jupyter-widgets/base",
            "_model_module_version": "1.2.0",
            "_model_name": "LayoutModel",
            "_view_count": null,
            "_view_module": "@jupyter-widgets/base",
            "_view_module_version": "1.2.0",
            "_view_name": "LayoutView",
            "align_content": null,
            "align_items": null,
            "align_self": null,
            "border": null,
            "bottom": null,
            "display": null,
            "flex": null,
            "flex_flow": null,
            "grid_area": null,
            "grid_auto_columns": null,
            "grid_auto_flow": null,
            "grid_auto_rows": null,
            "grid_column": null,
            "grid_gap": null,
            "grid_row": null,
            "grid_template_areas": null,
            "grid_template_columns": null,
            "grid_template_rows": null,
            "height": null,
            "justify_content": null,
            "justify_items": null,
            "left": null,
            "margin": null,
            "max_height": null,
            "max_width": null,
            "min_height": null,
            "min_width": null,
            "object_fit": null,
            "object_position": null,
            "order": null,
            "overflow": null,
            "overflow_x": null,
            "overflow_y": null,
            "padding": null,
            "right": null,
            "top": null,
            "visibility": null,
            "width": null
          }
        },
        "e3963d133d2e4ca7abfa43c22223662d": {
          "model_module": "@jupyter-widgets/base",
          "model_name": "LayoutModel",
          "model_module_version": "1.2.0",
          "state": {
            "_model_module": "@jupyter-widgets/base",
            "_model_module_version": "1.2.0",
            "_model_name": "LayoutModel",
            "_view_count": null,
            "_view_module": "@jupyter-widgets/base",
            "_view_module_version": "1.2.0",
            "_view_name": "LayoutView",
            "align_content": null,
            "align_items": null,
            "align_self": null,
            "border": null,
            "bottom": null,
            "display": null,
            "flex": null,
            "flex_flow": null,
            "grid_area": null,
            "grid_auto_columns": null,
            "grid_auto_flow": null,
            "grid_auto_rows": null,
            "grid_column": null,
            "grid_gap": null,
            "grid_row": null,
            "grid_template_areas": null,
            "grid_template_columns": null,
            "grid_template_rows": null,
            "height": null,
            "justify_content": null,
            "justify_items": null,
            "left": null,
            "margin": null,
            "max_height": null,
            "max_width": null,
            "min_height": null,
            "min_width": null,
            "object_fit": null,
            "object_position": null,
            "order": null,
            "overflow": null,
            "overflow_x": null,
            "overflow_y": null,
            "padding": null,
            "right": null,
            "top": null,
            "visibility": null,
            "width": null
          }
        },
        "4880892dc2d64b4e837a87fd22cf0276": {
          "model_module": "@jupyter-widgets/controls",
          "model_name": "DescriptionStyleModel",
          "model_module_version": "1.5.0",
          "state": {
            "_model_module": "@jupyter-widgets/controls",
            "_model_module_version": "1.5.0",
            "_model_name": "DescriptionStyleModel",
            "_view_count": null,
            "_view_module": "@jupyter-widgets/base",
            "_view_module_version": "1.2.0",
            "_view_name": "StyleView",
            "description_width": ""
          }
        },
        "031f1729d9134300baddd946927e562f": {
          "model_module": "@jupyter-widgets/base",
          "model_name": "LayoutModel",
          "model_module_version": "1.2.0",
          "state": {
            "_model_module": "@jupyter-widgets/base",
            "_model_module_version": "1.2.0",
            "_model_name": "LayoutModel",
            "_view_count": null,
            "_view_module": "@jupyter-widgets/base",
            "_view_module_version": "1.2.0",
            "_view_name": "LayoutView",
            "align_content": null,
            "align_items": null,
            "align_self": null,
            "border": null,
            "bottom": null,
            "display": null,
            "flex": null,
            "flex_flow": null,
            "grid_area": null,
            "grid_auto_columns": null,
            "grid_auto_flow": null,
            "grid_auto_rows": null,
            "grid_column": null,
            "grid_gap": null,
            "grid_row": null,
            "grid_template_areas": null,
            "grid_template_columns": null,
            "grid_template_rows": null,
            "height": null,
            "justify_content": null,
            "justify_items": null,
            "left": null,
            "margin": null,
            "max_height": null,
            "max_width": null,
            "min_height": null,
            "min_width": null,
            "object_fit": null,
            "object_position": null,
            "order": null,
            "overflow": null,
            "overflow_x": null,
            "overflow_y": null,
            "padding": null,
            "right": null,
            "top": null,
            "visibility": null,
            "width": null
          }
        },
        "ea089a371ab04c5e92c7ae09cac5c72a": {
          "model_module": "@jupyter-widgets/controls",
          "model_name": "ProgressStyleModel",
          "model_module_version": "1.5.0",
          "state": {
            "_model_module": "@jupyter-widgets/controls",
            "_model_module_version": "1.5.0",
            "_model_name": "ProgressStyleModel",
            "_view_count": null,
            "_view_module": "@jupyter-widgets/base",
            "_view_module_version": "1.2.0",
            "_view_name": "StyleView",
            "bar_color": null,
            "description_width": ""
          }
        },
        "7581ec81e53745e4a4a3c9b9ec80cd61": {
          "model_module": "@jupyter-widgets/base",
          "model_name": "LayoutModel",
          "model_module_version": "1.2.0",
          "state": {
            "_model_module": "@jupyter-widgets/base",
            "_model_module_version": "1.2.0",
            "_model_name": "LayoutModel",
            "_view_count": null,
            "_view_module": "@jupyter-widgets/base",
            "_view_module_version": "1.2.0",
            "_view_name": "LayoutView",
            "align_content": null,
            "align_items": null,
            "align_self": null,
            "border": null,
            "bottom": null,
            "display": null,
            "flex": null,
            "flex_flow": null,
            "grid_area": null,
            "grid_auto_columns": null,
            "grid_auto_flow": null,
            "grid_auto_rows": null,
            "grid_column": null,
            "grid_gap": null,
            "grid_row": null,
            "grid_template_areas": null,
            "grid_template_columns": null,
            "grid_template_rows": null,
            "height": null,
            "justify_content": null,
            "justify_items": null,
            "left": null,
            "margin": null,
            "max_height": null,
            "max_width": null,
            "min_height": null,
            "min_width": null,
            "object_fit": null,
            "object_position": null,
            "order": null,
            "overflow": null,
            "overflow_x": null,
            "overflow_y": null,
            "padding": null,
            "right": null,
            "top": null,
            "visibility": null,
            "width": null
          }
        },
        "3c7643740e484ca1aebbffbd9a206a2c": {
          "model_module": "@jupyter-widgets/controls",
          "model_name": "DescriptionStyleModel",
          "model_module_version": "1.5.0",
          "state": {
            "_model_module": "@jupyter-widgets/controls",
            "_model_module_version": "1.5.0",
            "_model_name": "DescriptionStyleModel",
            "_view_count": null,
            "_view_module": "@jupyter-widgets/base",
            "_view_module_version": "1.2.0",
            "_view_name": "StyleView",
            "description_width": ""
          }
        },
        "63947fa976b54543900c1ea7eda253f2": {
          "model_module": "@jupyter-widgets/controls",
          "model_name": "HBoxModel",
          "model_module_version": "1.5.0",
          "state": {
            "_dom_classes": [],
            "_model_module": "@jupyter-widgets/controls",
            "_model_module_version": "1.5.0",
            "_model_name": "HBoxModel",
            "_view_count": null,
            "_view_module": "@jupyter-widgets/controls",
            "_view_module_version": "1.5.0",
            "_view_name": "HBoxView",
            "box_style": "",
            "children": [
              "IPY_MODEL_7ea3cb7509b4447eaac25b5ab17077b5",
              "IPY_MODEL_da748dd83bec4516803696f697ac9da9",
              "IPY_MODEL_e1c0e055743b438182169616e30640cf"
            ],
            "layout": "IPY_MODEL_785e68e6f2d643098d90e46b217456f4"
          }
        },
        "7ea3cb7509b4447eaac25b5ab17077b5": {
          "model_module": "@jupyter-widgets/controls",
          "model_name": "HTMLModel",
          "model_module_version": "1.5.0",
          "state": {
            "_dom_classes": [],
            "_model_module": "@jupyter-widgets/controls",
            "_model_module_version": "1.5.0",
            "_model_name": "HTMLModel",
            "_view_count": null,
            "_view_module": "@jupyter-widgets/controls",
            "_view_module_version": "1.5.0",
            "_view_name": "HTMLView",
            "description": "",
            "description_tooltip": null,
            "layout": "IPY_MODEL_349d3fb6e33345d3853f2b1d0d1d0fbb",
            "placeholder": "​",
            "style": "IPY_MODEL_58889040cecb47ddac23c2ec7ead87af",
            "value": "Downloading: 100%"
          }
        },
        "da748dd83bec4516803696f697ac9da9": {
          "model_module": "@jupyter-widgets/controls",
          "model_name": "FloatProgressModel",
          "model_module_version": "1.5.0",
          "state": {
            "_dom_classes": [],
            "_model_module": "@jupyter-widgets/controls",
            "_model_module_version": "1.5.0",
            "_model_name": "FloatProgressModel",
            "_view_count": null,
            "_view_module": "@jupyter-widgets/controls",
            "_view_module_version": "1.5.0",
            "_view_name": "ProgressView",
            "bar_style": "success",
            "description": "",
            "description_tooltip": null,
            "layout": "IPY_MODEL_94fe280288494be3a3b87771fee7a3de",
            "max": 536063208,
            "min": 0,
            "orientation": "horizontal",
            "style": "IPY_MODEL_6bb941c273d4435d90d997252d139340",
            "value": 536063208
          }
        },
        "e1c0e055743b438182169616e30640cf": {
          "model_module": "@jupyter-widgets/controls",
          "model_name": "HTMLModel",
          "model_module_version": "1.5.0",
          "state": {
            "_dom_classes": [],
            "_model_module": "@jupyter-widgets/controls",
            "_model_module_version": "1.5.0",
            "_model_name": "HTMLModel",
            "_view_count": null,
            "_view_module": "@jupyter-widgets/controls",
            "_view_module_version": "1.5.0",
            "_view_name": "HTMLView",
            "description": "",
            "description_tooltip": null,
            "layout": "IPY_MODEL_033f7d5ba8454c93a98b120349e6cba5",
            "placeholder": "​",
            "style": "IPY_MODEL_c5abfb1711e54bd6a7792472f03508fc",
            "value": " 511M/511M [00:22&lt;00:00, 10.4MB/s]"
          }
        },
        "785e68e6f2d643098d90e46b217456f4": {
          "model_module": "@jupyter-widgets/base",
          "model_name": "LayoutModel",
          "model_module_version": "1.2.0",
          "state": {
            "_model_module": "@jupyter-widgets/base",
            "_model_module_version": "1.2.0",
            "_model_name": "LayoutModel",
            "_view_count": null,
            "_view_module": "@jupyter-widgets/base",
            "_view_module_version": "1.2.0",
            "_view_name": "LayoutView",
            "align_content": null,
            "align_items": null,
            "align_self": null,
            "border": null,
            "bottom": null,
            "display": null,
            "flex": null,
            "flex_flow": null,
            "grid_area": null,
            "grid_auto_columns": null,
            "grid_auto_flow": null,
            "grid_auto_rows": null,
            "grid_column": null,
            "grid_gap": null,
            "grid_row": null,
            "grid_template_areas": null,
            "grid_template_columns": null,
            "grid_template_rows": null,
            "height": null,
            "justify_content": null,
            "justify_items": null,
            "left": null,
            "margin": null,
            "max_height": null,
            "max_width": null,
            "min_height": null,
            "min_width": null,
            "object_fit": null,
            "object_position": null,
            "order": null,
            "overflow": null,
            "overflow_x": null,
            "overflow_y": null,
            "padding": null,
            "right": null,
            "top": null,
            "visibility": null,
            "width": null
          }
        },
        "349d3fb6e33345d3853f2b1d0d1d0fbb": {
          "model_module": "@jupyter-widgets/base",
          "model_name": "LayoutModel",
          "model_module_version": "1.2.0",
          "state": {
            "_model_module": "@jupyter-widgets/base",
            "_model_module_version": "1.2.0",
            "_model_name": "LayoutModel",
            "_view_count": null,
            "_view_module": "@jupyter-widgets/base",
            "_view_module_version": "1.2.0",
            "_view_name": "LayoutView",
            "align_content": null,
            "align_items": null,
            "align_self": null,
            "border": null,
            "bottom": null,
            "display": null,
            "flex": null,
            "flex_flow": null,
            "grid_area": null,
            "grid_auto_columns": null,
            "grid_auto_flow": null,
            "grid_auto_rows": null,
            "grid_column": null,
            "grid_gap": null,
            "grid_row": null,
            "grid_template_areas": null,
            "grid_template_columns": null,
            "grid_template_rows": null,
            "height": null,
            "justify_content": null,
            "justify_items": null,
            "left": null,
            "margin": null,
            "max_height": null,
            "max_width": null,
            "min_height": null,
            "min_width": null,
            "object_fit": null,
            "object_position": null,
            "order": null,
            "overflow": null,
            "overflow_x": null,
            "overflow_y": null,
            "padding": null,
            "right": null,
            "top": null,
            "visibility": null,
            "width": null
          }
        },
        "58889040cecb47ddac23c2ec7ead87af": {
          "model_module": "@jupyter-widgets/controls",
          "model_name": "DescriptionStyleModel",
          "model_module_version": "1.5.0",
          "state": {
            "_model_module": "@jupyter-widgets/controls",
            "_model_module_version": "1.5.0",
            "_model_name": "DescriptionStyleModel",
            "_view_count": null,
            "_view_module": "@jupyter-widgets/base",
            "_view_module_version": "1.2.0",
            "_view_name": "StyleView",
            "description_width": ""
          }
        },
        "94fe280288494be3a3b87771fee7a3de": {
          "model_module": "@jupyter-widgets/base",
          "model_name": "LayoutModel",
          "model_module_version": "1.2.0",
          "state": {
            "_model_module": "@jupyter-widgets/base",
            "_model_module_version": "1.2.0",
            "_model_name": "LayoutModel",
            "_view_count": null,
            "_view_module": "@jupyter-widgets/base",
            "_view_module_version": "1.2.0",
            "_view_name": "LayoutView",
            "align_content": null,
            "align_items": null,
            "align_self": null,
            "border": null,
            "bottom": null,
            "display": null,
            "flex": null,
            "flex_flow": null,
            "grid_area": null,
            "grid_auto_columns": null,
            "grid_auto_flow": null,
            "grid_auto_rows": null,
            "grid_column": null,
            "grid_gap": null,
            "grid_row": null,
            "grid_template_areas": null,
            "grid_template_columns": null,
            "grid_template_rows": null,
            "height": null,
            "justify_content": null,
            "justify_items": null,
            "left": null,
            "margin": null,
            "max_height": null,
            "max_width": null,
            "min_height": null,
            "min_width": null,
            "object_fit": null,
            "object_position": null,
            "order": null,
            "overflow": null,
            "overflow_x": null,
            "overflow_y": null,
            "padding": null,
            "right": null,
            "top": null,
            "visibility": null,
            "width": null
          }
        },
        "6bb941c273d4435d90d997252d139340": {
          "model_module": "@jupyter-widgets/controls",
          "model_name": "ProgressStyleModel",
          "model_module_version": "1.5.0",
          "state": {
            "_model_module": "@jupyter-widgets/controls",
            "_model_module_version": "1.5.0",
            "_model_name": "ProgressStyleModel",
            "_view_count": null,
            "_view_module": "@jupyter-widgets/base",
            "_view_module_version": "1.2.0",
            "_view_name": "StyleView",
            "bar_color": null,
            "description_width": ""
          }
        },
        "033f7d5ba8454c93a98b120349e6cba5": {
          "model_module": "@jupyter-widgets/base",
          "model_name": "LayoutModel",
          "model_module_version": "1.2.0",
          "state": {
            "_model_module": "@jupyter-widgets/base",
            "_model_module_version": "1.2.0",
            "_model_name": "LayoutModel",
            "_view_count": null,
            "_view_module": "@jupyter-widgets/base",
            "_view_module_version": "1.2.0",
            "_view_name": "LayoutView",
            "align_content": null,
            "align_items": null,
            "align_self": null,
            "border": null,
            "bottom": null,
            "display": null,
            "flex": null,
            "flex_flow": null,
            "grid_area": null,
            "grid_auto_columns": null,
            "grid_auto_flow": null,
            "grid_auto_rows": null,
            "grid_column": null,
            "grid_gap": null,
            "grid_row": null,
            "grid_template_areas": null,
            "grid_template_columns": null,
            "grid_template_rows": null,
            "height": null,
            "justify_content": null,
            "justify_items": null,
            "left": null,
            "margin": null,
            "max_height": null,
            "max_width": null,
            "min_height": null,
            "min_width": null,
            "object_fit": null,
            "object_position": null,
            "order": null,
            "overflow": null,
            "overflow_x": null,
            "overflow_y": null,
            "padding": null,
            "right": null,
            "top": null,
            "visibility": null,
            "width": null
          }
        },
        "c5abfb1711e54bd6a7792472f03508fc": {
          "model_module": "@jupyter-widgets/controls",
          "model_name": "DescriptionStyleModel",
          "model_module_version": "1.5.0",
          "state": {
            "_model_module": "@jupyter-widgets/controls",
            "_model_module_version": "1.5.0",
            "_model_name": "DescriptionStyleModel",
            "_view_count": null,
            "_view_module": "@jupyter-widgets/base",
            "_view_module_version": "1.2.0",
            "_view_name": "StyleView",
            "description_width": ""
          }
        },
        "3f365193e5454f6d95ae19e9d833a5bb": {
          "model_module": "@jupyter-widgets/controls",
          "model_name": "HBoxModel",
          "model_module_version": "1.5.0",
          "state": {
            "_dom_classes": [],
            "_model_module": "@jupyter-widgets/controls",
            "_model_module_version": "1.5.0",
            "_model_name": "HBoxModel",
            "_view_count": null,
            "_view_module": "@jupyter-widgets/controls",
            "_view_module_version": "1.5.0",
            "_view_name": "HBoxView",
            "box_style": "",
            "children": [
              "IPY_MODEL_6d184faf76ce460c91fa57f128e8fada",
              "IPY_MODEL_e8039b0ccc42483592ce7734313c380e",
              "IPY_MODEL_f69261e4e12d40cdadbf2d7eb1fd1011"
            ],
            "layout": "IPY_MODEL_e3ccca09956445428677c35832492d85"
          }
        },
        "6d184faf76ce460c91fa57f128e8fada": {
          "model_module": "@jupyter-widgets/controls",
          "model_name": "HTMLModel",
          "model_module_version": "1.5.0",
          "state": {
            "_dom_classes": [],
            "_model_module": "@jupyter-widgets/controls",
            "_model_module_version": "1.5.0",
            "_model_name": "HTMLModel",
            "_view_count": null,
            "_view_module": "@jupyter-widgets/controls",
            "_view_module_version": "1.5.0",
            "_view_name": "HTMLView",
            "description": "",
            "description_tooltip": null,
            "layout": "IPY_MODEL_c893d3da2a0a4be2bc046b8930881563",
            "placeholder": "​",
            "style": "IPY_MODEL_4d271af29c984afea8aab5b57649e8c6",
            "value": "Downloading: 100%"
          }
        },
        "e8039b0ccc42483592ce7734313c380e": {
          "model_module": "@jupyter-widgets/controls",
          "model_name": "FloatProgressModel",
          "model_module_version": "1.5.0",
          "state": {
            "_dom_classes": [],
            "_model_module": "@jupyter-widgets/controls",
            "_model_module_version": "1.5.0",
            "_model_name": "FloatProgressModel",
            "_view_count": null,
            "_view_module": "@jupyter-widgets/controls",
            "_view_module_version": "1.5.0",
            "_view_name": "ProgressView",
            "bar_style": "success",
            "description": "",
            "description_tooltip": null,
            "layout": "IPY_MODEL_0491c05b41e44992ada260694b5edae6",
            "max": 313,
            "min": 0,
            "orientation": "horizontal",
            "style": "IPY_MODEL_bea9c9a24dd24fb5ae6b587dd19dd4e8",
            "value": 313
          }
        },
        "f69261e4e12d40cdadbf2d7eb1fd1011": {
          "model_module": "@jupyter-widgets/controls",
          "model_name": "HTMLModel",
          "model_module_version": "1.5.0",
          "state": {
            "_dom_classes": [],
            "_model_module": "@jupyter-widgets/controls",
            "_model_module_version": "1.5.0",
            "_model_name": "HTMLModel",
            "_view_count": null,
            "_view_module": "@jupyter-widgets/controls",
            "_view_module_version": "1.5.0",
            "_view_name": "HTMLView",
            "description": "",
            "description_tooltip": null,
            "layout": "IPY_MODEL_364cc506e6df497ebbc57d870c896ef4",
            "placeholder": "​",
            "style": "IPY_MODEL_3b2ef4a40754498581123bd965d668e0",
            "value": " 313/313 [00:00&lt;00:00, 8.72kB/s]"
          }
        },
        "e3ccca09956445428677c35832492d85": {
          "model_module": "@jupyter-widgets/base",
          "model_name": "LayoutModel",
          "model_module_version": "1.2.0",
          "state": {
            "_model_module": "@jupyter-widgets/base",
            "_model_module_version": "1.2.0",
            "_model_name": "LayoutModel",
            "_view_count": null,
            "_view_module": "@jupyter-widgets/base",
            "_view_module_version": "1.2.0",
            "_view_name": "LayoutView",
            "align_content": null,
            "align_items": null,
            "align_self": null,
            "border": null,
            "bottom": null,
            "display": null,
            "flex": null,
            "flex_flow": null,
            "grid_area": null,
            "grid_auto_columns": null,
            "grid_auto_flow": null,
            "grid_auto_rows": null,
            "grid_column": null,
            "grid_gap": null,
            "grid_row": null,
            "grid_template_areas": null,
            "grid_template_columns": null,
            "grid_template_rows": null,
            "height": null,
            "justify_content": null,
            "justify_items": null,
            "left": null,
            "margin": null,
            "max_height": null,
            "max_width": null,
            "min_height": null,
            "min_width": null,
            "object_fit": null,
            "object_position": null,
            "order": null,
            "overflow": null,
            "overflow_x": null,
            "overflow_y": null,
            "padding": null,
            "right": null,
            "top": null,
            "visibility": null,
            "width": null
          }
        },
        "c893d3da2a0a4be2bc046b8930881563": {
          "model_module": "@jupyter-widgets/base",
          "model_name": "LayoutModel",
          "model_module_version": "1.2.0",
          "state": {
            "_model_module": "@jupyter-widgets/base",
            "_model_module_version": "1.2.0",
            "_model_name": "LayoutModel",
            "_view_count": null,
            "_view_module": "@jupyter-widgets/base",
            "_view_module_version": "1.2.0",
            "_view_name": "LayoutView",
            "align_content": null,
            "align_items": null,
            "align_self": null,
            "border": null,
            "bottom": null,
            "display": null,
            "flex": null,
            "flex_flow": null,
            "grid_area": null,
            "grid_auto_columns": null,
            "grid_auto_flow": null,
            "grid_auto_rows": null,
            "grid_column": null,
            "grid_gap": null,
            "grid_row": null,
            "grid_template_areas": null,
            "grid_template_columns": null,
            "grid_template_rows": null,
            "height": null,
            "justify_content": null,
            "justify_items": null,
            "left": null,
            "margin": null,
            "max_height": null,
            "max_width": null,
            "min_height": null,
            "min_width": null,
            "object_fit": null,
            "object_position": null,
            "order": null,
            "overflow": null,
            "overflow_x": null,
            "overflow_y": null,
            "padding": null,
            "right": null,
            "top": null,
            "visibility": null,
            "width": null
          }
        },
        "4d271af29c984afea8aab5b57649e8c6": {
          "model_module": "@jupyter-widgets/controls",
          "model_name": "DescriptionStyleModel",
          "model_module_version": "1.5.0",
          "state": {
            "_model_module": "@jupyter-widgets/controls",
            "_model_module_version": "1.5.0",
            "_model_name": "DescriptionStyleModel",
            "_view_count": null,
            "_view_module": "@jupyter-widgets/base",
            "_view_module_version": "1.2.0",
            "_view_name": "StyleView",
            "description_width": ""
          }
        },
        "0491c05b41e44992ada260694b5edae6": {
          "model_module": "@jupyter-widgets/base",
          "model_name": "LayoutModel",
          "model_module_version": "1.2.0",
          "state": {
            "_model_module": "@jupyter-widgets/base",
            "_model_module_version": "1.2.0",
            "_model_name": "LayoutModel",
            "_view_count": null,
            "_view_module": "@jupyter-widgets/base",
            "_view_module_version": "1.2.0",
            "_view_name": "LayoutView",
            "align_content": null,
            "align_items": null,
            "align_self": null,
            "border": null,
            "bottom": null,
            "display": null,
            "flex": null,
            "flex_flow": null,
            "grid_area": null,
            "grid_auto_columns": null,
            "grid_auto_flow": null,
            "grid_auto_rows": null,
            "grid_column": null,
            "grid_gap": null,
            "grid_row": null,
            "grid_template_areas": null,
            "grid_template_columns": null,
            "grid_template_rows": null,
            "height": null,
            "justify_content": null,
            "justify_items": null,
            "left": null,
            "margin": null,
            "max_height": null,
            "max_width": null,
            "min_height": null,
            "min_width": null,
            "object_fit": null,
            "object_position": null,
            "order": null,
            "overflow": null,
            "overflow_x": null,
            "overflow_y": null,
            "padding": null,
            "right": null,
            "top": null,
            "visibility": null,
            "width": null
          }
        },
        "bea9c9a24dd24fb5ae6b587dd19dd4e8": {
          "model_module": "@jupyter-widgets/controls",
          "model_name": "ProgressStyleModel",
          "model_module_version": "1.5.0",
          "state": {
            "_model_module": "@jupyter-widgets/controls",
            "_model_module_version": "1.5.0",
            "_model_name": "ProgressStyleModel",
            "_view_count": null,
            "_view_module": "@jupyter-widgets/base",
            "_view_module_version": "1.2.0",
            "_view_name": "StyleView",
            "bar_color": null,
            "description_width": ""
          }
        },
        "364cc506e6df497ebbc57d870c896ef4": {
          "model_module": "@jupyter-widgets/base",
          "model_name": "LayoutModel",
          "model_module_version": "1.2.0",
          "state": {
            "_model_module": "@jupyter-widgets/base",
            "_model_module_version": "1.2.0",
            "_model_name": "LayoutModel",
            "_view_count": null,
            "_view_module": "@jupyter-widgets/base",
            "_view_module_version": "1.2.0",
            "_view_name": "LayoutView",
            "align_content": null,
            "align_items": null,
            "align_self": null,
            "border": null,
            "bottom": null,
            "display": null,
            "flex": null,
            "flex_flow": null,
            "grid_area": null,
            "grid_auto_columns": null,
            "grid_auto_flow": null,
            "grid_auto_rows": null,
            "grid_column": null,
            "grid_gap": null,
            "grid_row": null,
            "grid_template_areas": null,
            "grid_template_columns": null,
            "grid_template_rows": null,
            "height": null,
            "justify_content": null,
            "justify_items": null,
            "left": null,
            "margin": null,
            "max_height": null,
            "max_width": null,
            "min_height": null,
            "min_width": null,
            "object_fit": null,
            "object_position": null,
            "order": null,
            "overflow": null,
            "overflow_x": null,
            "overflow_y": null,
            "padding": null,
            "right": null,
            "top": null,
            "visibility": null,
            "width": null
          }
        },
        "3b2ef4a40754498581123bd965d668e0": {
          "model_module": "@jupyter-widgets/controls",
          "model_name": "DescriptionStyleModel",
          "model_module_version": "1.5.0",
          "state": {
            "_model_module": "@jupyter-widgets/controls",
            "_model_module_version": "1.5.0",
            "_model_name": "DescriptionStyleModel",
            "_view_count": null,
            "_view_module": "@jupyter-widgets/base",
            "_view_module_version": "1.2.0",
            "_view_name": "StyleView",
            "description_width": ""
          }
        },
        "78082f59dc5e47e98ce10aee3f372375": {
          "model_module": "@jupyter-widgets/controls",
          "model_name": "HBoxModel",
          "model_module_version": "1.5.0",
          "state": {
            "_dom_classes": [],
            "_model_module": "@jupyter-widgets/controls",
            "_model_module_version": "1.5.0",
            "_model_name": "HBoxModel",
            "_view_count": null,
            "_view_module": "@jupyter-widgets/controls",
            "_view_module_version": "1.5.0",
            "_view_name": "HBoxView",
            "box_style": "",
            "children": [
              "IPY_MODEL_af5e35df78b247ac9e29b8c6d1f6fc53",
              "IPY_MODEL_7bfabc2ea6594fca82d201d499db4e03",
              "IPY_MODEL_13dd779722e44939a75455a54e45dac2"
            ],
            "layout": "IPY_MODEL_f9898be499564100a74ef92578e086b3"
          }
        },
        "af5e35df78b247ac9e29b8c6d1f6fc53": {
          "model_module": "@jupyter-widgets/controls",
          "model_name": "HTMLModel",
          "model_module_version": "1.5.0",
          "state": {
            "_dom_classes": [],
            "_model_module": "@jupyter-widgets/controls",
            "_model_module_version": "1.5.0",
            "_model_name": "HTMLModel",
            "_view_count": null,
            "_view_module": "@jupyter-widgets/controls",
            "_view_module_version": "1.5.0",
            "_view_name": "HTMLView",
            "description": "",
            "description_tooltip": null,
            "layout": "IPY_MODEL_3a49202268054262b51130a3137f1bb1",
            "placeholder": "​",
            "style": "IPY_MODEL_225d5e0deab74a33abf553c66c422eaa",
            "value": "Downloading: 100%"
          }
        },
        "7bfabc2ea6594fca82d201d499db4e03": {
          "model_module": "@jupyter-widgets/controls",
          "model_name": "FloatProgressModel",
          "model_module_version": "1.5.0",
          "state": {
            "_dom_classes": [],
            "_model_module": "@jupyter-widgets/controls",
            "_model_module_version": "1.5.0",
            "_model_name": "FloatProgressModel",
            "_view_count": null,
            "_view_module": "@jupyter-widgets/controls",
            "_view_module_version": "1.5.0",
            "_view_name": "ProgressView",
            "bar_style": "success",
            "description": "",
            "description_tooltip": null,
            "layout": "IPY_MODEL_758cd808c5e14a5fb90a78a2e582bc52",
            "max": 213450,
            "min": 0,
            "orientation": "horizontal",
            "style": "IPY_MODEL_14cf2cc659d1439d8f55707839ef0cb1",
            "value": 213450
          }
        },
        "13dd779722e44939a75455a54e45dac2": {
          "model_module": "@jupyter-widgets/controls",
          "model_name": "HTMLModel",
          "model_module_version": "1.5.0",
          "state": {
            "_dom_classes": [],
            "_model_module": "@jupyter-widgets/controls",
            "_model_module_version": "1.5.0",
            "_model_name": "HTMLModel",
            "_view_count": null,
            "_view_module": "@jupyter-widgets/controls",
            "_view_module_version": "1.5.0",
            "_view_name": "HTMLView",
            "description": "",
            "description_tooltip": null,
            "layout": "IPY_MODEL_4e46e3a60b0d4cb5a585722b6bb0a93a",
            "placeholder": "​",
            "style": "IPY_MODEL_07d455b11c66451bb47acf23f3d25d44",
            "value": " 208k/208k [00:00&lt;00:00, 2.75MB/s]"
          }
        },
        "f9898be499564100a74ef92578e086b3": {
          "model_module": "@jupyter-widgets/base",
          "model_name": "LayoutModel",
          "model_module_version": "1.2.0",
          "state": {
            "_model_module": "@jupyter-widgets/base",
            "_model_module_version": "1.2.0",
            "_model_name": "LayoutModel",
            "_view_count": null,
            "_view_module": "@jupyter-widgets/base",
            "_view_module_version": "1.2.0",
            "_view_name": "LayoutView",
            "align_content": null,
            "align_items": null,
            "align_self": null,
            "border": null,
            "bottom": null,
            "display": null,
            "flex": null,
            "flex_flow": null,
            "grid_area": null,
            "grid_auto_columns": null,
            "grid_auto_flow": null,
            "grid_auto_rows": null,
            "grid_column": null,
            "grid_gap": null,
            "grid_row": null,
            "grid_template_areas": null,
            "grid_template_columns": null,
            "grid_template_rows": null,
            "height": null,
            "justify_content": null,
            "justify_items": null,
            "left": null,
            "margin": null,
            "max_height": null,
            "max_width": null,
            "min_height": null,
            "min_width": null,
            "object_fit": null,
            "object_position": null,
            "order": null,
            "overflow": null,
            "overflow_x": null,
            "overflow_y": null,
            "padding": null,
            "right": null,
            "top": null,
            "visibility": null,
            "width": null
          }
        },
        "3a49202268054262b51130a3137f1bb1": {
          "model_module": "@jupyter-widgets/base",
          "model_name": "LayoutModel",
          "model_module_version": "1.2.0",
          "state": {
            "_model_module": "@jupyter-widgets/base",
            "_model_module_version": "1.2.0",
            "_model_name": "LayoutModel",
            "_view_count": null,
            "_view_module": "@jupyter-widgets/base",
            "_view_module_version": "1.2.0",
            "_view_name": "LayoutView",
            "align_content": null,
            "align_items": null,
            "align_self": null,
            "border": null,
            "bottom": null,
            "display": null,
            "flex": null,
            "flex_flow": null,
            "grid_area": null,
            "grid_auto_columns": null,
            "grid_auto_flow": null,
            "grid_auto_rows": null,
            "grid_column": null,
            "grid_gap": null,
            "grid_row": null,
            "grid_template_areas": null,
            "grid_template_columns": null,
            "grid_template_rows": null,
            "height": null,
            "justify_content": null,
            "justify_items": null,
            "left": null,
            "margin": null,
            "max_height": null,
            "max_width": null,
            "min_height": null,
            "min_width": null,
            "object_fit": null,
            "object_position": null,
            "order": null,
            "overflow": null,
            "overflow_x": null,
            "overflow_y": null,
            "padding": null,
            "right": null,
            "top": null,
            "visibility": null,
            "width": null
          }
        },
        "225d5e0deab74a33abf553c66c422eaa": {
          "model_module": "@jupyter-widgets/controls",
          "model_name": "DescriptionStyleModel",
          "model_module_version": "1.5.0",
          "state": {
            "_model_module": "@jupyter-widgets/controls",
            "_model_module_version": "1.5.0",
            "_model_name": "DescriptionStyleModel",
            "_view_count": null,
            "_view_module": "@jupyter-widgets/base",
            "_view_module_version": "1.2.0",
            "_view_name": "StyleView",
            "description_width": ""
          }
        },
        "758cd808c5e14a5fb90a78a2e582bc52": {
          "model_module": "@jupyter-widgets/base",
          "model_name": "LayoutModel",
          "model_module_version": "1.2.0",
          "state": {
            "_model_module": "@jupyter-widgets/base",
            "_model_module_version": "1.2.0",
            "_model_name": "LayoutModel",
            "_view_count": null,
            "_view_module": "@jupyter-widgets/base",
            "_view_module_version": "1.2.0",
            "_view_name": "LayoutView",
            "align_content": null,
            "align_items": null,
            "align_self": null,
            "border": null,
            "bottom": null,
            "display": null,
            "flex": null,
            "flex_flow": null,
            "grid_area": null,
            "grid_auto_columns": null,
            "grid_auto_flow": null,
            "grid_auto_rows": null,
            "grid_column": null,
            "grid_gap": null,
            "grid_row": null,
            "grid_template_areas": null,
            "grid_template_columns": null,
            "grid_template_rows": null,
            "height": null,
            "justify_content": null,
            "justify_items": null,
            "left": null,
            "margin": null,
            "max_height": null,
            "max_width": null,
            "min_height": null,
            "min_width": null,
            "object_fit": null,
            "object_position": null,
            "order": null,
            "overflow": null,
            "overflow_x": null,
            "overflow_y": null,
            "padding": null,
            "right": null,
            "top": null,
            "visibility": null,
            "width": null
          }
        },
        "14cf2cc659d1439d8f55707839ef0cb1": {
          "model_module": "@jupyter-widgets/controls",
          "model_name": "ProgressStyleModel",
          "model_module_version": "1.5.0",
          "state": {
            "_model_module": "@jupyter-widgets/controls",
            "_model_module_version": "1.5.0",
            "_model_name": "ProgressStyleModel",
            "_view_count": null,
            "_view_module": "@jupyter-widgets/base",
            "_view_module_version": "1.2.0",
            "_view_name": "StyleView",
            "bar_color": null,
            "description_width": ""
          }
        },
        "4e46e3a60b0d4cb5a585722b6bb0a93a": {
          "model_module": "@jupyter-widgets/base",
          "model_name": "LayoutModel",
          "model_module_version": "1.2.0",
          "state": {
            "_model_module": "@jupyter-widgets/base",
            "_model_module_version": "1.2.0",
            "_model_name": "LayoutModel",
            "_view_count": null,
            "_view_module": "@jupyter-widgets/base",
            "_view_module_version": "1.2.0",
            "_view_name": "LayoutView",
            "align_content": null,
            "align_items": null,
            "align_self": null,
            "border": null,
            "bottom": null,
            "display": null,
            "flex": null,
            "flex_flow": null,
            "grid_area": null,
            "grid_auto_columns": null,
            "grid_auto_flow": null,
            "grid_auto_rows": null,
            "grid_column": null,
            "grid_gap": null,
            "grid_row": null,
            "grid_template_areas": null,
            "grid_template_columns": null,
            "grid_template_rows": null,
            "height": null,
            "justify_content": null,
            "justify_items": null,
            "left": null,
            "margin": null,
            "max_height": null,
            "max_width": null,
            "min_height": null,
            "min_width": null,
            "object_fit": null,
            "object_position": null,
            "order": null,
            "overflow": null,
            "overflow_x": null,
            "overflow_y": null,
            "padding": null,
            "right": null,
            "top": null,
            "visibility": null,
            "width": null
          }
        },
        "07d455b11c66451bb47acf23f3d25d44": {
          "model_module": "@jupyter-widgets/controls",
          "model_name": "DescriptionStyleModel",
          "model_module_version": "1.5.0",
          "state": {
            "_model_module": "@jupyter-widgets/controls",
            "_model_module_version": "1.5.0",
            "_model_name": "DescriptionStyleModel",
            "_view_count": null,
            "_view_module": "@jupyter-widgets/base",
            "_view_module_version": "1.2.0",
            "_view_name": "StyleView",
            "description_width": ""
          }
        },
        "def66cb4fcd7473e84652bf3a1cd8e69": {
          "model_module": "@jupyter-widgets/controls",
          "model_name": "HBoxModel",
          "model_module_version": "1.5.0",
          "state": {
            "_dom_classes": [],
            "_model_module": "@jupyter-widgets/controls",
            "_model_module_version": "1.5.0",
            "_model_name": "HBoxModel",
            "_view_count": null,
            "_view_module": "@jupyter-widgets/controls",
            "_view_module_version": "1.5.0",
            "_view_name": "HBoxView",
            "box_style": "",
            "children": [
              "IPY_MODEL_df5132162f8a4760aad0c9e27f35b264",
              "IPY_MODEL_c50ef3cad64344eca1c261e9e0368a6c",
              "IPY_MODEL_f3133e55fbfb4150b77d9f73dc57d19b"
            ],
            "layout": "IPY_MODEL_90f885392e3c412b890235d72b797185"
          }
        },
        "df5132162f8a4760aad0c9e27f35b264": {
          "model_module": "@jupyter-widgets/controls",
          "model_name": "HTMLModel",
          "model_module_version": "1.5.0",
          "state": {
            "_dom_classes": [],
            "_model_module": "@jupyter-widgets/controls",
            "_model_module_version": "1.5.0",
            "_model_name": "HTMLModel",
            "_view_count": null,
            "_view_module": "@jupyter-widgets/controls",
            "_view_module_version": "1.5.0",
            "_view_name": "HTMLView",
            "description": "",
            "description_tooltip": null,
            "layout": "IPY_MODEL_970959ea72614405a5bcdfb55fb3e776",
            "placeholder": "​",
            "style": "IPY_MODEL_82e0058e7ca84a6ea17fdd59f032354c",
            "value": "100%"
          }
        },
        "c50ef3cad64344eca1c261e9e0368a6c": {
          "model_module": "@jupyter-widgets/controls",
          "model_name": "FloatProgressModel",
          "model_module_version": "1.5.0",
          "state": {
            "_dom_classes": [],
            "_model_module": "@jupyter-widgets/controls",
            "_model_module_version": "1.5.0",
            "_model_name": "FloatProgressModel",
            "_view_count": null,
            "_view_module": "@jupyter-widgets/controls",
            "_view_module_version": "1.5.0",
            "_view_name": "ProgressView",
            "bar_style": "success",
            "description": "",
            "description_tooltip": null,
            "layout": "IPY_MODEL_d33cbbfce88f448d8e749916abf733af",
            "max": 1,
            "min": 0,
            "orientation": "horizontal",
            "style": "IPY_MODEL_930bf90c5ead45c496b6d41a72e41149",
            "value": 1
          }
        },
        "f3133e55fbfb4150b77d9f73dc57d19b": {
          "model_module": "@jupyter-widgets/controls",
          "model_name": "HTMLModel",
          "model_module_version": "1.5.0",
          "state": {
            "_dom_classes": [],
            "_model_module": "@jupyter-widgets/controls",
            "_model_module_version": "1.5.0",
            "_model_name": "HTMLModel",
            "_view_count": null,
            "_view_module": "@jupyter-widgets/controls",
            "_view_module_version": "1.5.0",
            "_view_name": "HTMLView",
            "description": "",
            "description_tooltip": null,
            "layout": "IPY_MODEL_ce2e4ab8f567449598298da4719be9e3",
            "placeholder": "​",
            "style": "IPY_MODEL_02b4c7fd734e462fb1482fb986c2ae91",
            "value": " 1/1 [00:00&lt;00:00,  7.01ba/s]"
          }
        },
        "90f885392e3c412b890235d72b797185": {
          "model_module": "@jupyter-widgets/base",
          "model_name": "LayoutModel",
          "model_module_version": "1.2.0",
          "state": {
            "_model_module": "@jupyter-widgets/base",
            "_model_module_version": "1.2.0",
            "_model_name": "LayoutModel",
            "_view_count": null,
            "_view_module": "@jupyter-widgets/base",
            "_view_module_version": "1.2.0",
            "_view_name": "LayoutView",
            "align_content": null,
            "align_items": null,
            "align_self": null,
            "border": null,
            "bottom": null,
            "display": null,
            "flex": null,
            "flex_flow": null,
            "grid_area": null,
            "grid_auto_columns": null,
            "grid_auto_flow": null,
            "grid_auto_rows": null,
            "grid_column": null,
            "grid_gap": null,
            "grid_row": null,
            "grid_template_areas": null,
            "grid_template_columns": null,
            "grid_template_rows": null,
            "height": null,
            "justify_content": null,
            "justify_items": null,
            "left": null,
            "margin": null,
            "max_height": null,
            "max_width": null,
            "min_height": null,
            "min_width": null,
            "object_fit": null,
            "object_position": null,
            "order": null,
            "overflow": null,
            "overflow_x": null,
            "overflow_y": null,
            "padding": null,
            "right": null,
            "top": null,
            "visibility": null,
            "width": null
          }
        },
        "970959ea72614405a5bcdfb55fb3e776": {
          "model_module": "@jupyter-widgets/base",
          "model_name": "LayoutModel",
          "model_module_version": "1.2.0",
          "state": {
            "_model_module": "@jupyter-widgets/base",
            "_model_module_version": "1.2.0",
            "_model_name": "LayoutModel",
            "_view_count": null,
            "_view_module": "@jupyter-widgets/base",
            "_view_module_version": "1.2.0",
            "_view_name": "LayoutView",
            "align_content": null,
            "align_items": null,
            "align_self": null,
            "border": null,
            "bottom": null,
            "display": null,
            "flex": null,
            "flex_flow": null,
            "grid_area": null,
            "grid_auto_columns": null,
            "grid_auto_flow": null,
            "grid_auto_rows": null,
            "grid_column": null,
            "grid_gap": null,
            "grid_row": null,
            "grid_template_areas": null,
            "grid_template_columns": null,
            "grid_template_rows": null,
            "height": null,
            "justify_content": null,
            "justify_items": null,
            "left": null,
            "margin": null,
            "max_height": null,
            "max_width": null,
            "min_height": null,
            "min_width": null,
            "object_fit": null,
            "object_position": null,
            "order": null,
            "overflow": null,
            "overflow_x": null,
            "overflow_y": null,
            "padding": null,
            "right": null,
            "top": null,
            "visibility": null,
            "width": null
          }
        },
        "82e0058e7ca84a6ea17fdd59f032354c": {
          "model_module": "@jupyter-widgets/controls",
          "model_name": "DescriptionStyleModel",
          "model_module_version": "1.5.0",
          "state": {
            "_model_module": "@jupyter-widgets/controls",
            "_model_module_version": "1.5.0",
            "_model_name": "DescriptionStyleModel",
            "_view_count": null,
            "_view_module": "@jupyter-widgets/base",
            "_view_module_version": "1.2.0",
            "_view_name": "StyleView",
            "description_width": ""
          }
        },
        "d33cbbfce88f448d8e749916abf733af": {
          "model_module": "@jupyter-widgets/base",
          "model_name": "LayoutModel",
          "model_module_version": "1.2.0",
          "state": {
            "_model_module": "@jupyter-widgets/base",
            "_model_module_version": "1.2.0",
            "_model_name": "LayoutModel",
            "_view_count": null,
            "_view_module": "@jupyter-widgets/base",
            "_view_module_version": "1.2.0",
            "_view_name": "LayoutView",
            "align_content": null,
            "align_items": null,
            "align_self": null,
            "border": null,
            "bottom": null,
            "display": null,
            "flex": null,
            "flex_flow": null,
            "grid_area": null,
            "grid_auto_columns": null,
            "grid_auto_flow": null,
            "grid_auto_rows": null,
            "grid_column": null,
            "grid_gap": null,
            "grid_row": null,
            "grid_template_areas": null,
            "grid_template_columns": null,
            "grid_template_rows": null,
            "height": null,
            "justify_content": null,
            "justify_items": null,
            "left": null,
            "margin": null,
            "max_height": null,
            "max_width": null,
            "min_height": null,
            "min_width": null,
            "object_fit": null,
            "object_position": null,
            "order": null,
            "overflow": null,
            "overflow_x": null,
            "overflow_y": null,
            "padding": null,
            "right": null,
            "top": null,
            "visibility": null,
            "width": null
          }
        },
        "930bf90c5ead45c496b6d41a72e41149": {
          "model_module": "@jupyter-widgets/controls",
          "model_name": "ProgressStyleModel",
          "model_module_version": "1.5.0",
          "state": {
            "_model_module": "@jupyter-widgets/controls",
            "_model_module_version": "1.5.0",
            "_model_name": "ProgressStyleModel",
            "_view_count": null,
            "_view_module": "@jupyter-widgets/base",
            "_view_module_version": "1.2.0",
            "_view_name": "StyleView",
            "bar_color": null,
            "description_width": ""
          }
        },
        "ce2e4ab8f567449598298da4719be9e3": {
          "model_module": "@jupyter-widgets/base",
          "model_name": "LayoutModel",
          "model_module_version": "1.2.0",
          "state": {
            "_model_module": "@jupyter-widgets/base",
            "_model_module_version": "1.2.0",
            "_model_name": "LayoutModel",
            "_view_count": null,
            "_view_module": "@jupyter-widgets/base",
            "_view_module_version": "1.2.0",
            "_view_name": "LayoutView",
            "align_content": null,
            "align_items": null,
            "align_self": null,
            "border": null,
            "bottom": null,
            "display": null,
            "flex": null,
            "flex_flow": null,
            "grid_area": null,
            "grid_auto_columns": null,
            "grid_auto_flow": null,
            "grid_auto_rows": null,
            "grid_column": null,
            "grid_gap": null,
            "grid_row": null,
            "grid_template_areas": null,
            "grid_template_columns": null,
            "grid_template_rows": null,
            "height": null,
            "justify_content": null,
            "justify_items": null,
            "left": null,
            "margin": null,
            "max_height": null,
            "max_width": null,
            "min_height": null,
            "min_width": null,
            "object_fit": null,
            "object_position": null,
            "order": null,
            "overflow": null,
            "overflow_x": null,
            "overflow_y": null,
            "padding": null,
            "right": null,
            "top": null,
            "visibility": null,
            "width": null
          }
        },
        "02b4c7fd734e462fb1482fb986c2ae91": {
          "model_module": "@jupyter-widgets/controls",
          "model_name": "DescriptionStyleModel",
          "model_module_version": "1.5.0",
          "state": {
            "_model_module": "@jupyter-widgets/controls",
            "_model_module_version": "1.5.0",
            "_model_name": "DescriptionStyleModel",
            "_view_count": null,
            "_view_module": "@jupyter-widgets/base",
            "_view_module_version": "1.2.0",
            "_view_name": "StyleView",
            "description_width": ""
          }
        },
        "d532e650f3fe4202bb9571f3b4fd86a5": {
          "model_module": "@jupyter-widgets/controls",
          "model_name": "HBoxModel",
          "model_module_version": "1.5.0",
          "state": {
            "_dom_classes": [],
            "_model_module": "@jupyter-widgets/controls",
            "_model_module_version": "1.5.0",
            "_model_name": "HBoxModel",
            "_view_count": null,
            "_view_module": "@jupyter-widgets/controls",
            "_view_module_version": "1.5.0",
            "_view_name": "HBoxView",
            "box_style": "",
            "children": [
              "IPY_MODEL_cb9d4a8aeafe49b4a27ba12c80b5932b",
              "IPY_MODEL_3f153e2cc85a49aebc75a654385447e1",
              "IPY_MODEL_1ce3313079284f80af5aeedffe043a1d"
            ],
            "layout": "IPY_MODEL_75c75f4c6317426b8af27421eb525ec4"
          }
        },
        "cb9d4a8aeafe49b4a27ba12c80b5932b": {
          "model_module": "@jupyter-widgets/controls",
          "model_name": "HTMLModel",
          "model_module_version": "1.5.0",
          "state": {
            "_dom_classes": [],
            "_model_module": "@jupyter-widgets/controls",
            "_model_module_version": "1.5.0",
            "_model_name": "HTMLModel",
            "_view_count": null,
            "_view_module": "@jupyter-widgets/controls",
            "_view_module_version": "1.5.0",
            "_view_name": "HTMLView",
            "description": "",
            "description_tooltip": null,
            "layout": "IPY_MODEL_1235f61dd2fa429eaac2ab73e45bf756",
            "placeholder": "​",
            "style": "IPY_MODEL_83be9920a33d48fc9c6b591d17b7938a",
            "value": "100%"
          }
        },
        "3f153e2cc85a49aebc75a654385447e1": {
          "model_module": "@jupyter-widgets/controls",
          "model_name": "FloatProgressModel",
          "model_module_version": "1.5.0",
          "state": {
            "_dom_classes": [],
            "_model_module": "@jupyter-widgets/controls",
            "_model_module_version": "1.5.0",
            "_model_name": "FloatProgressModel",
            "_view_count": null,
            "_view_module": "@jupyter-widgets/controls",
            "_view_module_version": "1.5.0",
            "_view_name": "ProgressView",
            "bar_style": "success",
            "description": "",
            "description_tooltip": null,
            "layout": "IPY_MODEL_7829cc68a19347a399bc18a9bfa993c5",
            "max": 1,
            "min": 0,
            "orientation": "horizontal",
            "style": "IPY_MODEL_0a50353a73544a52bdbbfdff533cc5bc",
            "value": 1
          }
        },
        "1ce3313079284f80af5aeedffe043a1d": {
          "model_module": "@jupyter-widgets/controls",
          "model_name": "HTMLModel",
          "model_module_version": "1.5.0",
          "state": {
            "_dom_classes": [],
            "_model_module": "@jupyter-widgets/controls",
            "_model_module_version": "1.5.0",
            "_model_name": "HTMLModel",
            "_view_count": null,
            "_view_module": "@jupyter-widgets/controls",
            "_view_module_version": "1.5.0",
            "_view_name": "HTMLView",
            "description": "",
            "description_tooltip": null,
            "layout": "IPY_MODEL_a5716fb110e44d6d9dac2d1608017d1d",
            "placeholder": "​",
            "style": "IPY_MODEL_96394f4a8a5b4339b9b6b7e0b61f7c4e",
            "value": " 1/1 [00:00&lt;00:00, 13.40ba/s]"
          }
        },
        "75c75f4c6317426b8af27421eb525ec4": {
          "model_module": "@jupyter-widgets/base",
          "model_name": "LayoutModel",
          "model_module_version": "1.2.0",
          "state": {
            "_model_module": "@jupyter-widgets/base",
            "_model_module_version": "1.2.0",
            "_model_name": "LayoutModel",
            "_view_count": null,
            "_view_module": "@jupyter-widgets/base",
            "_view_module_version": "1.2.0",
            "_view_name": "LayoutView",
            "align_content": null,
            "align_items": null,
            "align_self": null,
            "border": null,
            "bottom": null,
            "display": null,
            "flex": null,
            "flex_flow": null,
            "grid_area": null,
            "grid_auto_columns": null,
            "grid_auto_flow": null,
            "grid_auto_rows": null,
            "grid_column": null,
            "grid_gap": null,
            "grid_row": null,
            "grid_template_areas": null,
            "grid_template_columns": null,
            "grid_template_rows": null,
            "height": null,
            "justify_content": null,
            "justify_items": null,
            "left": null,
            "margin": null,
            "max_height": null,
            "max_width": null,
            "min_height": null,
            "min_width": null,
            "object_fit": null,
            "object_position": null,
            "order": null,
            "overflow": null,
            "overflow_x": null,
            "overflow_y": null,
            "padding": null,
            "right": null,
            "top": null,
            "visibility": null,
            "width": null
          }
        },
        "1235f61dd2fa429eaac2ab73e45bf756": {
          "model_module": "@jupyter-widgets/base",
          "model_name": "LayoutModel",
          "model_module_version": "1.2.0",
          "state": {
            "_model_module": "@jupyter-widgets/base",
            "_model_module_version": "1.2.0",
            "_model_name": "LayoutModel",
            "_view_count": null,
            "_view_module": "@jupyter-widgets/base",
            "_view_module_version": "1.2.0",
            "_view_name": "LayoutView",
            "align_content": null,
            "align_items": null,
            "align_self": null,
            "border": null,
            "bottom": null,
            "display": null,
            "flex": null,
            "flex_flow": null,
            "grid_area": null,
            "grid_auto_columns": null,
            "grid_auto_flow": null,
            "grid_auto_rows": null,
            "grid_column": null,
            "grid_gap": null,
            "grid_row": null,
            "grid_template_areas": null,
            "grid_template_columns": null,
            "grid_template_rows": null,
            "height": null,
            "justify_content": null,
            "justify_items": null,
            "left": null,
            "margin": null,
            "max_height": null,
            "max_width": null,
            "min_height": null,
            "min_width": null,
            "object_fit": null,
            "object_position": null,
            "order": null,
            "overflow": null,
            "overflow_x": null,
            "overflow_y": null,
            "padding": null,
            "right": null,
            "top": null,
            "visibility": null,
            "width": null
          }
        },
        "83be9920a33d48fc9c6b591d17b7938a": {
          "model_module": "@jupyter-widgets/controls",
          "model_name": "DescriptionStyleModel",
          "model_module_version": "1.5.0",
          "state": {
            "_model_module": "@jupyter-widgets/controls",
            "_model_module_version": "1.5.0",
            "_model_name": "DescriptionStyleModel",
            "_view_count": null,
            "_view_module": "@jupyter-widgets/base",
            "_view_module_version": "1.2.0",
            "_view_name": "StyleView",
            "description_width": ""
          }
        },
        "7829cc68a19347a399bc18a9bfa993c5": {
          "model_module": "@jupyter-widgets/base",
          "model_name": "LayoutModel",
          "model_module_version": "1.2.0",
          "state": {
            "_model_module": "@jupyter-widgets/base",
            "_model_module_version": "1.2.0",
            "_model_name": "LayoutModel",
            "_view_count": null,
            "_view_module": "@jupyter-widgets/base",
            "_view_module_version": "1.2.0",
            "_view_name": "LayoutView",
            "align_content": null,
            "align_items": null,
            "align_self": null,
            "border": null,
            "bottom": null,
            "display": null,
            "flex": null,
            "flex_flow": null,
            "grid_area": null,
            "grid_auto_columns": null,
            "grid_auto_flow": null,
            "grid_auto_rows": null,
            "grid_column": null,
            "grid_gap": null,
            "grid_row": null,
            "grid_template_areas": null,
            "grid_template_columns": null,
            "grid_template_rows": null,
            "height": null,
            "justify_content": null,
            "justify_items": null,
            "left": null,
            "margin": null,
            "max_height": null,
            "max_width": null,
            "min_height": null,
            "min_width": null,
            "object_fit": null,
            "object_position": null,
            "order": null,
            "overflow": null,
            "overflow_x": null,
            "overflow_y": null,
            "padding": null,
            "right": null,
            "top": null,
            "visibility": null,
            "width": null
          }
        },
        "0a50353a73544a52bdbbfdff533cc5bc": {
          "model_module": "@jupyter-widgets/controls",
          "model_name": "ProgressStyleModel",
          "model_module_version": "1.5.0",
          "state": {
            "_model_module": "@jupyter-widgets/controls",
            "_model_module_version": "1.5.0",
            "_model_name": "ProgressStyleModel",
            "_view_count": null,
            "_view_module": "@jupyter-widgets/base",
            "_view_module_version": "1.2.0",
            "_view_name": "StyleView",
            "bar_color": null,
            "description_width": ""
          }
        },
        "a5716fb110e44d6d9dac2d1608017d1d": {
          "model_module": "@jupyter-widgets/base",
          "model_name": "LayoutModel",
          "model_module_version": "1.2.0",
          "state": {
            "_model_module": "@jupyter-widgets/base",
            "_model_module_version": "1.2.0",
            "_model_name": "LayoutModel",
            "_view_count": null,
            "_view_module": "@jupyter-widgets/base",
            "_view_module_version": "1.2.0",
            "_view_name": "LayoutView",
            "align_content": null,
            "align_items": null,
            "align_self": null,
            "border": null,
            "bottom": null,
            "display": null,
            "flex": null,
            "flex_flow": null,
            "grid_area": null,
            "grid_auto_columns": null,
            "grid_auto_flow": null,
            "grid_auto_rows": null,
            "grid_column": null,
            "grid_gap": null,
            "grid_row": null,
            "grid_template_areas": null,
            "grid_template_columns": null,
            "grid_template_rows": null,
            "height": null,
            "justify_content": null,
            "justify_items": null,
            "left": null,
            "margin": null,
            "max_height": null,
            "max_width": null,
            "min_height": null,
            "min_width": null,
            "object_fit": null,
            "object_position": null,
            "order": null,
            "overflow": null,
            "overflow_x": null,
            "overflow_y": null,
            "padding": null,
            "right": null,
            "top": null,
            "visibility": null,
            "width": null
          }
        },
        "96394f4a8a5b4339b9b6b7e0b61f7c4e": {
          "model_module": "@jupyter-widgets/controls",
          "model_name": "DescriptionStyleModel",
          "model_module_version": "1.5.0",
          "state": {
            "_model_module": "@jupyter-widgets/controls",
            "_model_module_version": "1.5.0",
            "_model_name": "DescriptionStyleModel",
            "_view_count": null,
            "_view_module": "@jupyter-widgets/base",
            "_view_module_version": "1.2.0",
            "_view_name": "StyleView",
            "description_width": ""
          }
        },
        "43299f6df5734dd6b5d1620f4944a635": {
          "model_module": "@jupyter-widgets/controls",
          "model_name": "HBoxModel",
          "model_module_version": "1.5.0",
          "state": {
            "_dom_classes": [],
            "_model_module": "@jupyter-widgets/controls",
            "_model_module_version": "1.5.0",
            "_model_name": "HBoxModel",
            "_view_count": null,
            "_view_module": "@jupyter-widgets/controls",
            "_view_module_version": "1.5.0",
            "_view_name": "HBoxView",
            "box_style": "",
            "children": [
              "IPY_MODEL_c7db520cd37f4831a6b0f3a3301d6779",
              "IPY_MODEL_961b914bada8444cab5c1c81a5b403d4",
              "IPY_MODEL_f4fd1d212fc542bca8b431539a4238b5"
            ],
            "layout": "IPY_MODEL_c6a1846cb19749c69eb46f3a7415af75"
          }
        },
        "c7db520cd37f4831a6b0f3a3301d6779": {
          "model_module": "@jupyter-widgets/controls",
          "model_name": "HTMLModel",
          "model_module_version": "1.5.0",
          "state": {
            "_dom_classes": [],
            "_model_module": "@jupyter-widgets/controls",
            "_model_module_version": "1.5.0",
            "_model_name": "HTMLModel",
            "_view_count": null,
            "_view_module": "@jupyter-widgets/controls",
            "_view_module_version": "1.5.0",
            "_view_name": "HTMLView",
            "description": "",
            "description_tooltip": null,
            "layout": "IPY_MODEL_71e162e965c34b37803501a9c0502ea3",
            "placeholder": "​",
            "style": "IPY_MODEL_656f906ea9744b989dc4376f57778472",
            "value": "Downloading: 100%"
          }
        },
        "961b914bada8444cab5c1c81a5b403d4": {
          "model_module": "@jupyter-widgets/controls",
          "model_name": "FloatProgressModel",
          "model_module_version": "1.5.0",
          "state": {
            "_dom_classes": [],
            "_model_module": "@jupyter-widgets/controls",
            "_model_module_version": "1.5.0",
            "_model_name": "FloatProgressModel",
            "_view_count": null,
            "_view_module": "@jupyter-widgets/controls",
            "_view_module_version": "1.5.0",
            "_view_name": "ProgressView",
            "bar_style": "success",
            "description": "",
            "description_tooltip": null,
            "layout": "IPY_MODEL_b3ed439d868940028d79c95fc95eace7",
            "max": 435780550,
            "min": 0,
            "orientation": "horizontal",
            "style": "IPY_MODEL_bf84d740b1ec45d098ff8fbaef0bf3ef",
            "value": 435780550
          }
        },
        "f4fd1d212fc542bca8b431539a4238b5": {
          "model_module": "@jupyter-widgets/controls",
          "model_name": "HTMLModel",
          "model_module_version": "1.5.0",
          "state": {
            "_dom_classes": [],
            "_model_module": "@jupyter-widgets/controls",
            "_model_module_version": "1.5.0",
            "_model_name": "HTMLModel",
            "_view_count": null,
            "_view_module": "@jupyter-widgets/controls",
            "_view_module_version": "1.5.0",
            "_view_name": "HTMLView",
            "description": "",
            "description_tooltip": null,
            "layout": "IPY_MODEL_119bd7caaec843878471474fb435b4da",
            "placeholder": "​",
            "style": "IPY_MODEL_61ce1921aa29489b82356109f9082813",
            "value": " 416M/416M [00:11&lt;00:00, 35.3MB/s]"
          }
        },
        "c6a1846cb19749c69eb46f3a7415af75": {
          "model_module": "@jupyter-widgets/base",
          "model_name": "LayoutModel",
          "model_module_version": "1.2.0",
          "state": {
            "_model_module": "@jupyter-widgets/base",
            "_model_module_version": "1.2.0",
            "_model_name": "LayoutModel",
            "_view_count": null,
            "_view_module": "@jupyter-widgets/base",
            "_view_module_version": "1.2.0",
            "_view_name": "LayoutView",
            "align_content": null,
            "align_items": null,
            "align_self": null,
            "border": null,
            "bottom": null,
            "display": null,
            "flex": null,
            "flex_flow": null,
            "grid_area": null,
            "grid_auto_columns": null,
            "grid_auto_flow": null,
            "grid_auto_rows": null,
            "grid_column": null,
            "grid_gap": null,
            "grid_row": null,
            "grid_template_areas": null,
            "grid_template_columns": null,
            "grid_template_rows": null,
            "height": null,
            "justify_content": null,
            "justify_items": null,
            "left": null,
            "margin": null,
            "max_height": null,
            "max_width": null,
            "min_height": null,
            "min_width": null,
            "object_fit": null,
            "object_position": null,
            "order": null,
            "overflow": null,
            "overflow_x": null,
            "overflow_y": null,
            "padding": null,
            "right": null,
            "top": null,
            "visibility": null,
            "width": null
          }
        },
        "71e162e965c34b37803501a9c0502ea3": {
          "model_module": "@jupyter-widgets/base",
          "model_name": "LayoutModel",
          "model_module_version": "1.2.0",
          "state": {
            "_model_module": "@jupyter-widgets/base",
            "_model_module_version": "1.2.0",
            "_model_name": "LayoutModel",
            "_view_count": null,
            "_view_module": "@jupyter-widgets/base",
            "_view_module_version": "1.2.0",
            "_view_name": "LayoutView",
            "align_content": null,
            "align_items": null,
            "align_self": null,
            "border": null,
            "bottom": null,
            "display": null,
            "flex": null,
            "flex_flow": null,
            "grid_area": null,
            "grid_auto_columns": null,
            "grid_auto_flow": null,
            "grid_auto_rows": null,
            "grid_column": null,
            "grid_gap": null,
            "grid_row": null,
            "grid_template_areas": null,
            "grid_template_columns": null,
            "grid_template_rows": null,
            "height": null,
            "justify_content": null,
            "justify_items": null,
            "left": null,
            "margin": null,
            "max_height": null,
            "max_width": null,
            "min_height": null,
            "min_width": null,
            "object_fit": null,
            "object_position": null,
            "order": null,
            "overflow": null,
            "overflow_x": null,
            "overflow_y": null,
            "padding": null,
            "right": null,
            "top": null,
            "visibility": null,
            "width": null
          }
        },
        "656f906ea9744b989dc4376f57778472": {
          "model_module": "@jupyter-widgets/controls",
          "model_name": "DescriptionStyleModel",
          "model_module_version": "1.5.0",
          "state": {
            "_model_module": "@jupyter-widgets/controls",
            "_model_module_version": "1.5.0",
            "_model_name": "DescriptionStyleModel",
            "_view_count": null,
            "_view_module": "@jupyter-widgets/base",
            "_view_module_version": "1.2.0",
            "_view_name": "StyleView",
            "description_width": ""
          }
        },
        "b3ed439d868940028d79c95fc95eace7": {
          "model_module": "@jupyter-widgets/base",
          "model_name": "LayoutModel",
          "model_module_version": "1.2.0",
          "state": {
            "_model_module": "@jupyter-widgets/base",
            "_model_module_version": "1.2.0",
            "_model_name": "LayoutModel",
            "_view_count": null,
            "_view_module": "@jupyter-widgets/base",
            "_view_module_version": "1.2.0",
            "_view_name": "LayoutView",
            "align_content": null,
            "align_items": null,
            "align_self": null,
            "border": null,
            "bottom": null,
            "display": null,
            "flex": null,
            "flex_flow": null,
            "grid_area": null,
            "grid_auto_columns": null,
            "grid_auto_flow": null,
            "grid_auto_rows": null,
            "grid_column": null,
            "grid_gap": null,
            "grid_row": null,
            "grid_template_areas": null,
            "grid_template_columns": null,
            "grid_template_rows": null,
            "height": null,
            "justify_content": null,
            "justify_items": null,
            "left": null,
            "margin": null,
            "max_height": null,
            "max_width": null,
            "min_height": null,
            "min_width": null,
            "object_fit": null,
            "object_position": null,
            "order": null,
            "overflow": null,
            "overflow_x": null,
            "overflow_y": null,
            "padding": null,
            "right": null,
            "top": null,
            "visibility": null,
            "width": null
          }
        },
        "bf84d740b1ec45d098ff8fbaef0bf3ef": {
          "model_module": "@jupyter-widgets/controls",
          "model_name": "ProgressStyleModel",
          "model_module_version": "1.5.0",
          "state": {
            "_model_module": "@jupyter-widgets/controls",
            "_model_module_version": "1.5.0",
            "_model_name": "ProgressStyleModel",
            "_view_count": null,
            "_view_module": "@jupyter-widgets/base",
            "_view_module_version": "1.2.0",
            "_view_name": "StyleView",
            "bar_color": null,
            "description_width": ""
          }
        },
        "119bd7caaec843878471474fb435b4da": {
          "model_module": "@jupyter-widgets/base",
          "model_name": "LayoutModel",
          "model_module_version": "1.2.0",
          "state": {
            "_model_module": "@jupyter-widgets/base",
            "_model_module_version": "1.2.0",
            "_model_name": "LayoutModel",
            "_view_count": null,
            "_view_module": "@jupyter-widgets/base",
            "_view_module_version": "1.2.0",
            "_view_name": "LayoutView",
            "align_content": null,
            "align_items": null,
            "align_self": null,
            "border": null,
            "bottom": null,
            "display": null,
            "flex": null,
            "flex_flow": null,
            "grid_area": null,
            "grid_auto_columns": null,
            "grid_auto_flow": null,
            "grid_auto_rows": null,
            "grid_column": null,
            "grid_gap": null,
            "grid_row": null,
            "grid_template_areas": null,
            "grid_template_columns": null,
            "grid_template_rows": null,
            "height": null,
            "justify_content": null,
            "justify_items": null,
            "left": null,
            "margin": null,
            "max_height": null,
            "max_width": null,
            "min_height": null,
            "min_width": null,
            "object_fit": null,
            "object_position": null,
            "order": null,
            "overflow": null,
            "overflow_x": null,
            "overflow_y": null,
            "padding": null,
            "right": null,
            "top": null,
            "visibility": null,
            "width": null
          }
        },
        "61ce1921aa29489b82356109f9082813": {
          "model_module": "@jupyter-widgets/controls",
          "model_name": "DescriptionStyleModel",
          "model_module_version": "1.5.0",
          "state": {
            "_model_module": "@jupyter-widgets/controls",
            "_model_module_version": "1.5.0",
            "_model_name": "DescriptionStyleModel",
            "_view_count": null,
            "_view_module": "@jupyter-widgets/base",
            "_view_module_version": "1.2.0",
            "_view_name": "StyleView",
            "description_width": ""
          }
        }
      }
    },
    "accelerator": "GPU"
  },
  "cells": [
    {
      "cell_type": "markdown",
      "metadata": {
        "id": "view-in-github",
        "colab_type": "text"
      },
      "source": [
        "<a href=\"https://colab.research.google.com/github/emzad05/SJSU_Masters_Final_Project_EmmanuelN/blob/Code-Development/RE_on_Biomedical_texts_using_ML_methods.ipynb\" target=\"_parent\"><img src=\"https://colab.research.google.com/assets/colab-badge.svg\" alt=\"Open In Colab\"/></a>"
      ]
    },
    {
      "cell_type": "markdown",
      "source": [
        "## Relation Extraction in Biomedical Literature using Machine Learning Methods\n",
        "\n",
        "### Emmanuel Nyangweso\n",
        "\n",
        "##### 04/2022"
      ],
      "metadata": {
        "id": "bGLt6yHYIByY"
      }
    },
    {
      "cell_type": "markdown",
      "source": [
        "### Abstract:\n",
        "\n",
        "Medical decisions concerning patient healthcare heavily rely on evidence-based medicine\n",
        "from patient histories, clinical repositories, medical journals and medical databases.\n",
        "Automated Information Extraction (IE) of disease-treatment relations and their classification\n",
        "can significantly improve efficiency in medical decision support. Using the Machine Learning\n",
        "(ML) task of Natural Language Processing (NLP), Relation Extraction (RE) from natural\n",
        "language biomedical texts is performed in order to identify semantic relations between\n",
        "diseases and treatments. Deep learning (DL) models are built and evaluated on classification\n",
        "accuracy and F1-scores, finding that fine-tuned pretrained models perform best on classifying\n",
        "the semantic relations between diseases and treatment entities.\n"
      ],
      "metadata": {
        "id": "TIqHLsL0IUYO"
      }
    },
    {
      "cell_type": "markdown",
      "source": [
        "## Notebook Setup"
      ],
      "metadata": {
        "id": "wq9j0aPjeeGt"
      }
    },
    {
      "cell_type": "code",
      "source": [
        "# Mounting Drive: \n",
        "\n",
        "from google.colab import drive\n",
        "drive.mount('/content/drive')"
      ],
      "metadata": {
        "colab": {
          "base_uri": "https://localhost:8080/"
        },
        "id": "95Lrz0MhsSfk",
        "outputId": "92d89a32-41ad-4cd6-fd6e-f733e4a2a7cb"
      },
      "execution_count": null,
      "outputs": [
        {
          "output_type": "stream",
          "name": "stdout",
          "text": [
            "Mounted at /content/drive\n"
          ]
        }
      ]
    },
    {
      "cell_type": "code",
      "source": [
        "!pip install datasets"
      ],
      "metadata": {
        "id": "D_uCmeoE64Qo",
        "colab": {
          "base_uri": "https://localhost:8080/"
        },
        "outputId": "7a1c1e1a-5aa9-4cc7-fd45-bcb1bf768f2d"
      },
      "execution_count": null,
      "outputs": [
        {
          "output_type": "stream",
          "name": "stdout",
          "text": [
            "Collecting datasets\n",
            "  Downloading datasets-2.1.0-py3-none-any.whl (325 kB)\n",
            "\u001b[?25l\r\u001b[K     |█                               | 10 kB 21.7 MB/s eta 0:00:01\r\u001b[K     |██                              | 20 kB 9.7 MB/s eta 0:00:01\r\u001b[K     |███                             | 30 kB 6.4 MB/s eta 0:00:01\r\u001b[K     |████                            | 40 kB 6.0 MB/s eta 0:00:01\r\u001b[K     |█████                           | 51 kB 4.0 MB/s eta 0:00:01\r\u001b[K     |██████                          | 61 kB 4.8 MB/s eta 0:00:01\r\u001b[K     |███████                         | 71 kB 5.1 MB/s eta 0:00:01\r\u001b[K     |████████                        | 81 kB 4.7 MB/s eta 0:00:01\r\u001b[K     |█████████                       | 92 kB 5.2 MB/s eta 0:00:01\r\u001b[K     |██████████                      | 102 kB 5.0 MB/s eta 0:00:01\r\u001b[K     |███████████                     | 112 kB 5.0 MB/s eta 0:00:01\r\u001b[K     |████████████                    | 122 kB 5.0 MB/s eta 0:00:01\r\u001b[K     |█████████████                   | 133 kB 5.0 MB/s eta 0:00:01\r\u001b[K     |██████████████                  | 143 kB 5.0 MB/s eta 0:00:01\r\u001b[K     |███████████████                 | 153 kB 5.0 MB/s eta 0:00:01\r\u001b[K     |████████████████▏               | 163 kB 5.0 MB/s eta 0:00:01\r\u001b[K     |█████████████████▏              | 174 kB 5.0 MB/s eta 0:00:01\r\u001b[K     |██████████████████▏             | 184 kB 5.0 MB/s eta 0:00:01\r\u001b[K     |███████████████████▏            | 194 kB 5.0 MB/s eta 0:00:01\r\u001b[K     |████████████████████▏           | 204 kB 5.0 MB/s eta 0:00:01\r\u001b[K     |█████████████████████▏          | 215 kB 5.0 MB/s eta 0:00:01\r\u001b[K     |██████████████████████▏         | 225 kB 5.0 MB/s eta 0:00:01\r\u001b[K     |███████████████████████▏        | 235 kB 5.0 MB/s eta 0:00:01\r\u001b[K     |████████████████████████▏       | 245 kB 5.0 MB/s eta 0:00:01\r\u001b[K     |█████████████████████████▏      | 256 kB 5.0 MB/s eta 0:00:01\r\u001b[K     |██████████████████████████▏     | 266 kB 5.0 MB/s eta 0:00:01\r\u001b[K     |███████████████████████████▏    | 276 kB 5.0 MB/s eta 0:00:01\r\u001b[K     |████████████████████████████▏   | 286 kB 5.0 MB/s eta 0:00:01\r\u001b[K     |█████████████████████████████▏  | 296 kB 5.0 MB/s eta 0:00:01\r\u001b[K     |██████████████████████████████▏ | 307 kB 5.0 MB/s eta 0:00:01\r\u001b[K     |███████████████████████████████▏| 317 kB 5.0 MB/s eta 0:00:01\r\u001b[K     |████████████████████████████████| 325 kB 5.0 MB/s \n",
            "\u001b[?25hRequirement already satisfied: pyarrow>=5.0.0 in /usr/local/lib/python3.7/dist-packages (from datasets) (6.0.1)\n",
            "Requirement already satisfied: tqdm>=4.62.1 in /usr/local/lib/python3.7/dist-packages (from datasets) (4.64.0)\n",
            "Collecting xxhash\n",
            "  Downloading xxhash-3.0.0-cp37-cp37m-manylinux_2_17_x86_64.manylinux2014_x86_64.whl (212 kB)\n",
            "\u001b[K     |████████████████████████████████| 212 kB 54.5 MB/s \n",
            "\u001b[?25hRequirement already satisfied: packaging in /usr/local/lib/python3.7/dist-packages (from datasets) (21.3)\n",
            "Collecting fsspec[http]>=2021.05.0\n",
            "  Downloading fsspec-2022.3.0-py3-none-any.whl (136 kB)\n",
            "\u001b[K     |████████████████████████████████| 136 kB 52.5 MB/s \n",
            "\u001b[?25hCollecting responses<0.19\n",
            "  Downloading responses-0.18.0-py3-none-any.whl (38 kB)\n",
            "Requirement already satisfied: pandas in /usr/local/lib/python3.7/dist-packages (from datasets) (1.3.5)\n",
            "Collecting huggingface-hub<1.0.0,>=0.1.0\n",
            "  Downloading huggingface_hub-0.5.1-py3-none-any.whl (77 kB)\n",
            "\u001b[K     |████████████████████████████████| 77 kB 5.0 MB/s \n",
            "\u001b[?25hCollecting aiohttp\n",
            "  Downloading aiohttp-3.8.1-cp37-cp37m-manylinux_2_5_x86_64.manylinux1_x86_64.manylinux_2_12_x86_64.manylinux2010_x86_64.whl (1.1 MB)\n",
            "\u001b[K     |████████████████████████████████| 1.1 MB 53.5 MB/s \n",
            "\u001b[?25hRequirement already satisfied: dill in /usr/local/lib/python3.7/dist-packages (from datasets) (0.3.4)\n",
            "Requirement already satisfied: numpy>=1.17 in /usr/local/lib/python3.7/dist-packages (from datasets) (1.21.5)\n",
            "Requirement already satisfied: multiprocess in /usr/local/lib/python3.7/dist-packages (from datasets) (0.70.12.2)\n",
            "Requirement already satisfied: importlib-metadata in /usr/local/lib/python3.7/dist-packages (from datasets) (4.11.3)\n",
            "Requirement already satisfied: requests>=2.19.0 in /usr/local/lib/python3.7/dist-packages (from datasets) (2.23.0)\n",
            "Requirement already satisfied: pyyaml in /usr/local/lib/python3.7/dist-packages (from huggingface-hub<1.0.0,>=0.1.0->datasets) (3.13)\n",
            "Requirement already satisfied: filelock in /usr/local/lib/python3.7/dist-packages (from huggingface-hub<1.0.0,>=0.1.0->datasets) (3.6.0)\n",
            "Requirement already satisfied: typing-extensions>=3.7.4.3 in /usr/local/lib/python3.7/dist-packages (from huggingface-hub<1.0.0,>=0.1.0->datasets) (4.1.1)\n",
            "Requirement already satisfied: pyparsing!=3.0.5,>=2.0.2 in /usr/local/lib/python3.7/dist-packages (from packaging->datasets) (3.0.8)\n",
            "Requirement already satisfied: idna<3,>=2.5 in /usr/local/lib/python3.7/dist-packages (from requests>=2.19.0->datasets) (2.10)\n",
            "Requirement already satisfied: urllib3!=1.25.0,!=1.25.1,<1.26,>=1.21.1 in /usr/local/lib/python3.7/dist-packages (from requests>=2.19.0->datasets) (1.24.3)\n",
            "Requirement already satisfied: chardet<4,>=3.0.2 in /usr/local/lib/python3.7/dist-packages (from requests>=2.19.0->datasets) (3.0.4)\n",
            "Requirement already satisfied: certifi>=2017.4.17 in /usr/local/lib/python3.7/dist-packages (from requests>=2.19.0->datasets) (2021.10.8)\n",
            "Collecting urllib3!=1.25.0,!=1.25.1,<1.26,>=1.21.1\n",
            "  Downloading urllib3-1.25.11-py2.py3-none-any.whl (127 kB)\n",
            "\u001b[K     |████████████████████████████████| 127 kB 50.0 MB/s \n",
            "\u001b[?25hCollecting async-timeout<5.0,>=4.0.0a3\n",
            "  Downloading async_timeout-4.0.2-py3-none-any.whl (5.8 kB)\n",
            "Collecting multidict<7.0,>=4.5\n",
            "  Downloading multidict-6.0.2-cp37-cp37m-manylinux_2_17_x86_64.manylinux2014_x86_64.whl (94 kB)\n",
            "\u001b[K     |████████████████████████████████| 94 kB 3.5 MB/s \n",
            "\u001b[?25hCollecting aiosignal>=1.1.2\n",
            "  Downloading aiosignal-1.2.0-py3-none-any.whl (8.2 kB)\n",
            "Collecting frozenlist>=1.1.1\n",
            "  Downloading frozenlist-1.3.0-cp37-cp37m-manylinux_2_5_x86_64.manylinux1_x86_64.manylinux_2_17_x86_64.manylinux2014_x86_64.whl (144 kB)\n",
            "\u001b[K     |████████████████████████████████| 144 kB 72.5 MB/s \n",
            "\u001b[?25hRequirement already satisfied: charset-normalizer<3.0,>=2.0 in /usr/local/lib/python3.7/dist-packages (from aiohttp->datasets) (2.0.12)\n",
            "Requirement already satisfied: attrs>=17.3.0 in /usr/local/lib/python3.7/dist-packages (from aiohttp->datasets) (21.4.0)\n",
            "Collecting yarl<2.0,>=1.0\n",
            "  Downloading yarl-1.7.2-cp37-cp37m-manylinux_2_5_x86_64.manylinux1_x86_64.manylinux_2_12_x86_64.manylinux2010_x86_64.whl (271 kB)\n",
            "\u001b[K     |████████████████████████████████| 271 kB 66.3 MB/s \n",
            "\u001b[?25hCollecting asynctest==0.13.0\n",
            "  Downloading asynctest-0.13.0-py3-none-any.whl (26 kB)\n",
            "Requirement already satisfied: zipp>=0.5 in /usr/local/lib/python3.7/dist-packages (from importlib-metadata->datasets) (3.8.0)\n",
            "Requirement already satisfied: python-dateutil>=2.7.3 in /usr/local/lib/python3.7/dist-packages (from pandas->datasets) (2.8.2)\n",
            "Requirement already satisfied: pytz>=2017.3 in /usr/local/lib/python3.7/dist-packages (from pandas->datasets) (2018.9)\n",
            "Requirement already satisfied: six>=1.5 in /usr/local/lib/python3.7/dist-packages (from python-dateutil>=2.7.3->pandas->datasets) (1.15.0)\n",
            "Installing collected packages: multidict, frozenlist, yarl, urllib3, asynctest, async-timeout, aiosignal, fsspec, aiohttp, xxhash, responses, huggingface-hub, datasets\n",
            "  Attempting uninstall: urllib3\n",
            "    Found existing installation: urllib3 1.24.3\n",
            "    Uninstalling urllib3-1.24.3:\n",
            "      Successfully uninstalled urllib3-1.24.3\n",
            "\u001b[31mERROR: pip's dependency resolver does not currently take into account all the packages that are installed. This behaviour is the source of the following dependency conflicts.\n",
            "datascience 0.10.6 requires folium==0.2.1, but you have folium 0.8.3 which is incompatible.\u001b[0m\n",
            "Successfully installed aiohttp-3.8.1 aiosignal-1.2.0 async-timeout-4.0.2 asynctest-0.13.0 datasets-2.1.0 frozenlist-1.3.0 fsspec-2022.3.0 huggingface-hub-0.5.1 multidict-6.0.2 responses-0.18.0 urllib3-1.25.11 xxhash-3.0.0 yarl-1.7.2\n"
          ]
        }
      ]
    },
    {
      "cell_type": "code",
      "execution_count": null,
      "metadata": {
        "colab": {
          "base_uri": "https://localhost:8080/"
        },
        "id": "Eo0EEPHqp-9n",
        "outputId": "62aa14be-7b3b-4816-fe34-f9aaa256d973"
      },
      "outputs": [
        {
          "output_type": "stream",
          "name": "stdout",
          "text": [
            "Tensorflow Version: 2.8.0\n",
            "Keras Version: 2.8.0\n"
          ]
        }
      ],
      "source": [
        "import matplotlib.pyplot as plt\n",
        "%matplotlib inline\n",
        "from matplotlib.pyplot import figure\n",
        "\n",
        "import pandas as pd \n",
        "import numpy as np\n",
        "import seaborn as sns\n",
        "import re\n",
        "\n",
        "from sklearn.model_selection import train_test_split\n",
        "from sklearn.metrics import classification_report, confusion_matrix, roc_curve\n",
        "\n",
        "import tensorflow as tf\n",
        "from tensorflow import keras\n",
        "\n",
        "print(\"Tensorflow Version:\", tf.__version__)\n",
        "print(\"Keras Version:\", keras.__version__)"
      ]
    },
    {
      "cell_type": "code",
      "source": [
        "# Verifying GPU present:\n",
        "\n",
        "%tensorflow_version 2.x\n",
        "device_name = tf.test.gpu_device_name()\n",
        "if device_name != '/device:GPU:0':\n",
        "  raise SystemError('GPU device not found')\n",
        "print('Found GPU at: {}'.format(device_name))"
      ],
      "metadata": {
        "id": "HlVJ5QUJIs1S",
        "colab": {
          "base_uri": "https://localhost:8080/"
        },
        "outputId": "3423420d-0ea6-4cee-e816-a34737c69fe6"
      },
      "execution_count": null,
      "outputs": [
        {
          "output_type": "stream",
          "name": "stdout",
          "text": [
            "Found GPU at: /device:GPU:0\n"
          ]
        }
      ]
    },
    {
      "cell_type": "code",
      "source": [
        "def plot_graphs(history, metric):\n",
        "  plt.plot(history.history[metric])\n",
        "  plt.plot(history.history['val_'+metric], '')\n",
        "  plt.xlabel(\"Epochs\")\n",
        "  plt.ylabel(metric)\n",
        "  plt.legend([metric, 'val_'+metric])"
      ],
      "metadata": {
        "id": "3AZxrARXuOQc"
      },
      "execution_count": null,
      "outputs": []
    },
    {
      "cell_type": "code",
      "source": [
        "import warnings\n",
        "warnings.filterwarnings('ignore')"
      ],
      "metadata": {
        "id": "mrmJe-cjmmEY"
      },
      "execution_count": null,
      "outputs": []
    },
    {
      "cell_type": "code",
      "source": [
        "RANDOM_SEED = 456\n",
        "np.random.seed(RANDOM_SEED)"
      ],
      "metadata": {
        "id": "CnwQ0m5orAji"
      },
      "execution_count": null,
      "outputs": []
    },
    {
      "cell_type": "markdown",
      "source": [
        "## Data Exploration"
      ],
      "metadata": {
        "id": "0aH4-IouKlv6"
      }
    },
    {
      "cell_type": "markdown",
      "source": [
        "Full dataset exploration, prior to subsampling"
      ],
      "metadata": {
        "id": "z_jPEmF6LChx"
      }
    },
    {
      "cell_type": "code",
      "source": [
        "# Reading in dataset and converting into a pandas dataframe \n",
        "\n",
        "# Code references: https://github.com/emanuel-metzenthin/snorkel-biomedical-information-extraction/blob/master/SNORKEL-Biomedical-Information-Extraction.ipynb\n",
        "\n",
        "f = open('/content/drive/MyDrive/Colab Notebooks/Final Project Work/Datasets/BioText/sentences_with_roles_and_relations.txt', encoding = \"ISO-8859-1\")\n",
        "f_data = []\n",
        "for line in f.readlines():\n",
        "    line = line[:-1] # Remove linebreak\n",
        "    f_data.append(line.split('||'))\n",
        "f.close()\n"
      ],
      "metadata": {
        "id": "24U-7_U7K6oe"
      },
      "execution_count": null,
      "outputs": []
    },
    {
      "cell_type": "code",
      "source": [
        "BioText_full_df = pd.DataFrame(f_data, columns = ['Sentence', 'Relationship'])"
      ],
      "metadata": {
        "id": "l4rfAykRLB49"
      },
      "execution_count": null,
      "outputs": []
    },
    {
      "cell_type": "code",
      "source": [
        "BioText_full_df.info()"
      ],
      "metadata": {
        "id": "Ghn0i8DdLLHi",
        "colab": {
          "base_uri": "https://localhost:8080/"
        },
        "outputId": "ddb07169-ec47-45cf-e69c-45ec6e111616"
      },
      "execution_count": null,
      "outputs": [
        {
          "output_type": "stream",
          "name": "stdout",
          "text": [
            "<class 'pandas.core.frame.DataFrame'>\n",
            "RangeIndex: 3655 entries, 0 to 3654\n",
            "Data columns (total 2 columns):\n",
            " #   Column        Non-Null Count  Dtype \n",
            "---  ------        --------------  ----- \n",
            " 0   Sentence      3655 non-null   object\n",
            " 1   Relationship  3655 non-null   object\n",
            "dtypes: object(2)\n",
            "memory usage: 57.2+ KB\n"
          ]
        }
      ]
    },
    {
      "cell_type": "code",
      "source": [
        "BioText_full_df.describe()"
      ],
      "metadata": {
        "id": "Ov8M4kX2LNm-",
        "colab": {
          "base_uri": "https://localhost:8080/",
          "height": 174
        },
        "outputId": "26df4338-6661-4ca3-abe6-636fe9efedf6"
      },
      "execution_count": null,
      "outputs": [
        {
          "output_type": "execute_result",
          "data": {
            "text/plain": [
              "        Sentence Relationship\n",
              "count       3655         3655\n",
              "unique      3569            9\n",
              "top     Online .         NONE\n",
              "freq          17         1818"
            ],
            "text/html": [
              "\n",
              "  <div id=\"df-620626f2-b0de-4e8b-9d59-9f0dd7f91ccd\">\n",
              "    <div class=\"colab-df-container\">\n",
              "      <div>\n",
              "<style scoped>\n",
              "    .dataframe tbody tr th:only-of-type {\n",
              "        vertical-align: middle;\n",
              "    }\n",
              "\n",
              "    .dataframe tbody tr th {\n",
              "        vertical-align: top;\n",
              "    }\n",
              "\n",
              "    .dataframe thead th {\n",
              "        text-align: right;\n",
              "    }\n",
              "</style>\n",
              "<table border=\"1\" class=\"dataframe\">\n",
              "  <thead>\n",
              "    <tr style=\"text-align: right;\">\n",
              "      <th></th>\n",
              "      <th>Sentence</th>\n",
              "      <th>Relationship</th>\n",
              "    </tr>\n",
              "  </thead>\n",
              "  <tbody>\n",
              "    <tr>\n",
              "      <th>count</th>\n",
              "      <td>3655</td>\n",
              "      <td>3655</td>\n",
              "    </tr>\n",
              "    <tr>\n",
              "      <th>unique</th>\n",
              "      <td>3569</td>\n",
              "      <td>9</td>\n",
              "    </tr>\n",
              "    <tr>\n",
              "      <th>top</th>\n",
              "      <td>Online .</td>\n",
              "      <td>NONE</td>\n",
              "    </tr>\n",
              "    <tr>\n",
              "      <th>freq</th>\n",
              "      <td>17</td>\n",
              "      <td>1818</td>\n",
              "    </tr>\n",
              "  </tbody>\n",
              "</table>\n",
              "</div>\n",
              "      <button class=\"colab-df-convert\" onclick=\"convertToInteractive('df-620626f2-b0de-4e8b-9d59-9f0dd7f91ccd')\"\n",
              "              title=\"Convert this dataframe to an interactive table.\"\n",
              "              style=\"display:none;\">\n",
              "        \n",
              "  <svg xmlns=\"http://www.w3.org/2000/svg\" height=\"24px\"viewBox=\"0 0 24 24\"\n",
              "       width=\"24px\">\n",
              "    <path d=\"M0 0h24v24H0V0z\" fill=\"none\"/>\n",
              "    <path d=\"M18.56 5.44l.94 2.06.94-2.06 2.06-.94-2.06-.94-.94-2.06-.94 2.06-2.06.94zm-11 1L8.5 8.5l.94-2.06 2.06-.94-2.06-.94L8.5 2.5l-.94 2.06-2.06.94zm10 10l.94 2.06.94-2.06 2.06-.94-2.06-.94-.94-2.06-.94 2.06-2.06.94z\"/><path d=\"M17.41 7.96l-1.37-1.37c-.4-.4-.92-.59-1.43-.59-.52 0-1.04.2-1.43.59L10.3 9.45l-7.72 7.72c-.78.78-.78 2.05 0 2.83L4 21.41c.39.39.9.59 1.41.59.51 0 1.02-.2 1.41-.59l7.78-7.78 2.81-2.81c.8-.78.8-2.07 0-2.86zM5.41 20L4 18.59l7.72-7.72 1.47 1.35L5.41 20z\"/>\n",
              "  </svg>\n",
              "      </button>\n",
              "      \n",
              "  <style>\n",
              "    .colab-df-container {\n",
              "      display:flex;\n",
              "      flex-wrap:wrap;\n",
              "      gap: 12px;\n",
              "    }\n",
              "\n",
              "    .colab-df-convert {\n",
              "      background-color: #E8F0FE;\n",
              "      border: none;\n",
              "      border-radius: 50%;\n",
              "      cursor: pointer;\n",
              "      display: none;\n",
              "      fill: #1967D2;\n",
              "      height: 32px;\n",
              "      padding: 0 0 0 0;\n",
              "      width: 32px;\n",
              "    }\n",
              "\n",
              "    .colab-df-convert:hover {\n",
              "      background-color: #E2EBFA;\n",
              "      box-shadow: 0px 1px 2px rgba(60, 64, 67, 0.3), 0px 1px 3px 1px rgba(60, 64, 67, 0.15);\n",
              "      fill: #174EA6;\n",
              "    }\n",
              "\n",
              "    [theme=dark] .colab-df-convert {\n",
              "      background-color: #3B4455;\n",
              "      fill: #D2E3FC;\n",
              "    }\n",
              "\n",
              "    [theme=dark] .colab-df-convert:hover {\n",
              "      background-color: #434B5C;\n",
              "      box-shadow: 0px 1px 3px 1px rgba(0, 0, 0, 0.15);\n",
              "      filter: drop-shadow(0px 1px 2px rgba(0, 0, 0, 0.3));\n",
              "      fill: #FFFFFF;\n",
              "    }\n",
              "  </style>\n",
              "\n",
              "      <script>\n",
              "        const buttonEl =\n",
              "          document.querySelector('#df-620626f2-b0de-4e8b-9d59-9f0dd7f91ccd button.colab-df-convert');\n",
              "        buttonEl.style.display =\n",
              "          google.colab.kernel.accessAllowed ? 'block' : 'none';\n",
              "\n",
              "        async function convertToInteractive(key) {\n",
              "          const element = document.querySelector('#df-620626f2-b0de-4e8b-9d59-9f0dd7f91ccd');\n",
              "          const dataTable =\n",
              "            await google.colab.kernel.invokeFunction('convertToInteractive',\n",
              "                                                     [key], {});\n",
              "          if (!dataTable) return;\n",
              "\n",
              "          const docLinkHtml = 'Like what you see? Visit the ' +\n",
              "            '<a target=\"_blank\" href=https://colab.research.google.com/notebooks/data_table.ipynb>data table notebook</a>'\n",
              "            + ' to learn more about interactive tables.';\n",
              "          element.innerHTML = '';\n",
              "          dataTable['output_type'] = 'display_data';\n",
              "          await google.colab.output.renderOutput(dataTable, element);\n",
              "          const docLink = document.createElement('div');\n",
              "          docLink.innerHTML = docLinkHtml;\n",
              "          element.appendChild(docLink);\n",
              "        }\n",
              "      </script>\n",
              "    </div>\n",
              "  </div>\n",
              "  "
            ]
          },
          "metadata": {},
          "execution_count": 11
        }
      ]
    },
    {
      "cell_type": "code",
      "source": [
        "BioText_full_df['Relationship'].value_counts()"
      ],
      "metadata": {
        "id": "zdw663nzLQ6p",
        "colab": {
          "base_uri": "https://localhost:8080/"
        },
        "outputId": "0bc4f96b-5f22-41c5-9056-61f6d226caf2"
      },
      "execution_count": null,
      "outputs": [
        {
          "output_type": "execute_result",
          "data": {
            "text/plain": [
              "NONE                1818\n",
              "TREAT_FOR_DIS        830\n",
              "DISONLY              629\n",
              "TREATONLY            169\n",
              "TO_SEE                75\n",
              "PREVENT               63\n",
              "VAGUE                 37\n",
              "SIDE_EFF              30\n",
              "TREAT_NO_FOR_DIS       4\n",
              "Name: Relationship, dtype: int64"
            ]
          },
          "metadata": {},
          "execution_count": 12
        }
      ]
    },
    {
      "cell_type": "code",
      "source": [
        "BioText_full_df.tail()"
      ],
      "metadata": {
        "id": "xI0sxdkjLTfN",
        "colab": {
          "base_uri": "https://localhost:8080/",
          "height": 206
        },
        "outputId": "2962c178-7332-4ac1-8163-bedb296c6540"
      },
      "execution_count": null,
      "outputs": [
        {
          "output_type": "execute_result",
          "data": {
            "text/plain": [
              "                                               Sentence   Relationship\n",
              "3650   Special report : <TREAT> pressure-reducing su...  TREAT_FOR_DIS\n",
              "3651   <TREAT> Intravenous immune globulin </TREAT> ...  TREAT_FOR_DIS\n",
              "3652   <TREAT> External counterpulsation </TREAT> fo...  TREAT_FOR_DIS\n",
              "3653   <TREAT> Intra-articular hyaluronan injections...  TREAT_FOR_DIS\n",
              "3654   <DIS_PREV> Pneumococcal </DIS_PREV> <TREAT_PR...        PREVENT"
            ],
            "text/html": [
              "\n",
              "  <div id=\"df-782a14ea-ae50-49ba-93c0-6bfdb325a45d\">\n",
              "    <div class=\"colab-df-container\">\n",
              "      <div>\n",
              "<style scoped>\n",
              "    .dataframe tbody tr th:only-of-type {\n",
              "        vertical-align: middle;\n",
              "    }\n",
              "\n",
              "    .dataframe tbody tr th {\n",
              "        vertical-align: top;\n",
              "    }\n",
              "\n",
              "    .dataframe thead th {\n",
              "        text-align: right;\n",
              "    }\n",
              "</style>\n",
              "<table border=\"1\" class=\"dataframe\">\n",
              "  <thead>\n",
              "    <tr style=\"text-align: right;\">\n",
              "      <th></th>\n",
              "      <th>Sentence</th>\n",
              "      <th>Relationship</th>\n",
              "    </tr>\n",
              "  </thead>\n",
              "  <tbody>\n",
              "    <tr>\n",
              "      <th>3650</th>\n",
              "      <td>Special report : &lt;TREAT&gt; pressure-reducing su...</td>\n",
              "      <td>TREAT_FOR_DIS</td>\n",
              "    </tr>\n",
              "    <tr>\n",
              "      <th>3651</th>\n",
              "      <td>&lt;TREAT&gt; Intravenous immune globulin &lt;/TREAT&gt; ...</td>\n",
              "      <td>TREAT_FOR_DIS</td>\n",
              "    </tr>\n",
              "    <tr>\n",
              "      <th>3652</th>\n",
              "      <td>&lt;TREAT&gt; External counterpulsation &lt;/TREAT&gt; fo...</td>\n",
              "      <td>TREAT_FOR_DIS</td>\n",
              "    </tr>\n",
              "    <tr>\n",
              "      <th>3653</th>\n",
              "      <td>&lt;TREAT&gt; Intra-articular hyaluronan injections...</td>\n",
              "      <td>TREAT_FOR_DIS</td>\n",
              "    </tr>\n",
              "    <tr>\n",
              "      <th>3654</th>\n",
              "      <td>&lt;DIS_PREV&gt; Pneumococcal &lt;/DIS_PREV&gt; &lt;TREAT_PR...</td>\n",
              "      <td>PREVENT</td>\n",
              "    </tr>\n",
              "  </tbody>\n",
              "</table>\n",
              "</div>\n",
              "      <button class=\"colab-df-convert\" onclick=\"convertToInteractive('df-782a14ea-ae50-49ba-93c0-6bfdb325a45d')\"\n",
              "              title=\"Convert this dataframe to an interactive table.\"\n",
              "              style=\"display:none;\">\n",
              "        \n",
              "  <svg xmlns=\"http://www.w3.org/2000/svg\" height=\"24px\"viewBox=\"0 0 24 24\"\n",
              "       width=\"24px\">\n",
              "    <path d=\"M0 0h24v24H0V0z\" fill=\"none\"/>\n",
              "    <path d=\"M18.56 5.44l.94 2.06.94-2.06 2.06-.94-2.06-.94-.94-2.06-.94 2.06-2.06.94zm-11 1L8.5 8.5l.94-2.06 2.06-.94-2.06-.94L8.5 2.5l-.94 2.06-2.06.94zm10 10l.94 2.06.94-2.06 2.06-.94-2.06-.94-.94-2.06-.94 2.06-2.06.94z\"/><path d=\"M17.41 7.96l-1.37-1.37c-.4-.4-.92-.59-1.43-.59-.52 0-1.04.2-1.43.59L10.3 9.45l-7.72 7.72c-.78.78-.78 2.05 0 2.83L4 21.41c.39.39.9.59 1.41.59.51 0 1.02-.2 1.41-.59l7.78-7.78 2.81-2.81c.8-.78.8-2.07 0-2.86zM5.41 20L4 18.59l7.72-7.72 1.47 1.35L5.41 20z\"/>\n",
              "  </svg>\n",
              "      </button>\n",
              "      \n",
              "  <style>\n",
              "    .colab-df-container {\n",
              "      display:flex;\n",
              "      flex-wrap:wrap;\n",
              "      gap: 12px;\n",
              "    }\n",
              "\n",
              "    .colab-df-convert {\n",
              "      background-color: #E8F0FE;\n",
              "      border: none;\n",
              "      border-radius: 50%;\n",
              "      cursor: pointer;\n",
              "      display: none;\n",
              "      fill: #1967D2;\n",
              "      height: 32px;\n",
              "      padding: 0 0 0 0;\n",
              "      width: 32px;\n",
              "    }\n",
              "\n",
              "    .colab-df-convert:hover {\n",
              "      background-color: #E2EBFA;\n",
              "      box-shadow: 0px 1px 2px rgba(60, 64, 67, 0.3), 0px 1px 3px 1px rgba(60, 64, 67, 0.15);\n",
              "      fill: #174EA6;\n",
              "    }\n",
              "\n",
              "    [theme=dark] .colab-df-convert {\n",
              "      background-color: #3B4455;\n",
              "      fill: #D2E3FC;\n",
              "    }\n",
              "\n",
              "    [theme=dark] .colab-df-convert:hover {\n",
              "      background-color: #434B5C;\n",
              "      box-shadow: 0px 1px 3px 1px rgba(0, 0, 0, 0.15);\n",
              "      filter: drop-shadow(0px 1px 2px rgba(0, 0, 0, 0.3));\n",
              "      fill: #FFFFFF;\n",
              "    }\n",
              "  </style>\n",
              "\n",
              "      <script>\n",
              "        const buttonEl =\n",
              "          document.querySelector('#df-782a14ea-ae50-49ba-93c0-6bfdb325a45d button.colab-df-convert');\n",
              "        buttonEl.style.display =\n",
              "          google.colab.kernel.accessAllowed ? 'block' : 'none';\n",
              "\n",
              "        async function convertToInteractive(key) {\n",
              "          const element = document.querySelector('#df-782a14ea-ae50-49ba-93c0-6bfdb325a45d');\n",
              "          const dataTable =\n",
              "            await google.colab.kernel.invokeFunction('convertToInteractive',\n",
              "                                                     [key], {});\n",
              "          if (!dataTable) return;\n",
              "\n",
              "          const docLinkHtml = 'Like what you see? Visit the ' +\n",
              "            '<a target=\"_blank\" href=https://colab.research.google.com/notebooks/data_table.ipynb>data table notebook</a>'\n",
              "            + ' to learn more about interactive tables.';\n",
              "          element.innerHTML = '';\n",
              "          dataTable['output_type'] = 'display_data';\n",
              "          await google.colab.output.renderOutput(dataTable, element);\n",
              "          const docLink = document.createElement('div');\n",
              "          docLink.innerHTML = docLinkHtml;\n",
              "          element.appendChild(docLink);\n",
              "        }\n",
              "      </script>\n",
              "    </div>\n",
              "  </div>\n",
              "  "
            ]
          },
          "metadata": {},
          "execution_count": 13
        }
      ]
    },
    {
      "cell_type": "code",
      "source": [
        "sample_loc = 3651\n",
        "sample_sentence = BioText_full_df['Sentence'].iloc[sample_loc]\n",
        "sample_relation = BioText_full_df['Relationship'].iloc[sample_loc]\n",
        "print(sample_sentence)\n",
        "print(sample_relation)"
      ],
      "metadata": {
        "id": "InsZ4k7zLXoE",
        "colab": {
          "base_uri": "https://localhost:8080/"
        },
        "outputId": "4e7119ff-14db-426e-d878-02e0ee02475d"
      },
      "execution_count": null,
      "outputs": [
        {
          "output_type": "stream",
          "name": "stdout",
          "text": [
            " <TREAT> Intravenous immune globulin </TREAT> for <DIS> recurrent spontaneous abortion </DIS> .\n",
            "TREAT_FOR_DIS\n"
          ]
        }
      ]
    },
    {
      "cell_type": "markdown",
      "source": [
        "## Dataset preprocessing"
      ],
      "metadata": {
        "id": "i4u16u02Kqgy"
      }
    },
    {
      "cell_type": "code",
      "source": [
        "f = open('/content/drive/MyDrive/Colab Notebooks/Final Project Work/Datasets/BioText/sentences_with_roles_and_relations.txt', encoding = \"ISO-8859-1\")\n",
        "f_data = []\n",
        "for line in f.readlines():\n",
        "    line = line[:-1] # Remove linebreak\n",
        "    f_data.append(line.split('||'))\n",
        "f.close()\n",
        "\n",
        "rows = []\n",
        "for l in f_data:\n",
        "    if l[1] not in ['NONE', 'TREATONLY', 'DISONLY', 'TO_SEE']:\n",
        "        dis_re = re.compile('<DIS.*>(.*)</DIS.*>')\n",
        "        disease = dis_re.search(l[0]).group(1)\n",
        "        treat_re = re.compile('<TREAT.*>(.*)</TREAT.*>')\n",
        "        treat = treat_re.search(l[0]).group(1)\n",
        "        \n",
        "        sent = re.sub(r'<.*?>', '', l[0])\n",
        "        \n",
        "        rows.append([sent, l[1], treat.upper(), disease.upper()])\n",
        "\n",
        "BioText = pd.DataFrame(data=rows, columns=['Sentence', 'Type', 'Treatment', 'Disease'])\n"
      ],
      "metadata": {
        "id": "ctRCokGHsd8K"
      },
      "execution_count": null,
      "outputs": []
    },
    {
      "cell_type": "code",
      "source": [
        "# Dataframe contains sentences with disease-treatment relations\n",
        "print('Shape of BioText data: {}'.format(BioText.shape))\n",
        "BioText.head()"
      ],
      "metadata": {
        "colab": {
          "base_uri": "https://localhost:8080/",
          "height": 224
        },
        "id": "eiVHkQ_n6XF3",
        "outputId": "36beec0a-9cb2-465c-b559-7e2c57397854"
      },
      "execution_count": null,
      "outputs": [
        {
          "output_type": "stream",
          "name": "stdout",
          "text": [
            "Shape of BioText data: (964, 4)\n"
          ]
        },
        {
          "output_type": "execute_result",
          "data": {
            "text/plain": [
              "                                            Sentence           Type  \\\n",
              "0  We conclude that to reduce the rate of  macros...        PREVENT   \n",
              "1  Although long-term survival can be achieved by...          VAGUE   \n",
              "2   OBJECTIVE : To study the safety and efficacy ...  TREAT_FOR_DIS   \n",
              "3  CONCLUSION :  Methylphenidate  is effective in...  TREAT_FOR_DIS   \n",
              "4   BACKGROUND :  Antiplatelet therapy with aspir...  TREAT_FOR_DIS   \n",
              "\n",
              "                                           Treatment  \\\n",
              "0                             GOOD GLYCEMIC CONTROL    \n",
              "1                                CORRECTIVE SURGERY    \n",
              "2                                   METHYLPHENIDATE    \n",
              "3                                   METHYLPHENIDATE    \n",
              "4   ANTIPLATELET THERAPY WITH ASPIRIN AND SYSTEMA...   \n",
              "\n",
              "                                             Disease  \n",
              "0   MACROSOMIC INFANTS IN GESTATIONAL DIABETES CA...  \n",
              "1                                        HYPOPLASIA   \n",
              "2   ATTENTION DEFICIT HYPERACTIVITY DISORDER ( AD...  \n",
              "3                                              ADHD   \n",
              "4   CARDIOVASCULAR MORBIDITY AND MORTALITY AFTER ...  "
            ],
            "text/html": [
              "\n",
              "  <div id=\"df-14539269-fe93-44ba-a50c-97b2101b325f\">\n",
              "    <div class=\"colab-df-container\">\n",
              "      <div>\n",
              "<style scoped>\n",
              "    .dataframe tbody tr th:only-of-type {\n",
              "        vertical-align: middle;\n",
              "    }\n",
              "\n",
              "    .dataframe tbody tr th {\n",
              "        vertical-align: top;\n",
              "    }\n",
              "\n",
              "    .dataframe thead th {\n",
              "        text-align: right;\n",
              "    }\n",
              "</style>\n",
              "<table border=\"1\" class=\"dataframe\">\n",
              "  <thead>\n",
              "    <tr style=\"text-align: right;\">\n",
              "      <th></th>\n",
              "      <th>Sentence</th>\n",
              "      <th>Type</th>\n",
              "      <th>Treatment</th>\n",
              "      <th>Disease</th>\n",
              "    </tr>\n",
              "  </thead>\n",
              "  <tbody>\n",
              "    <tr>\n",
              "      <th>0</th>\n",
              "      <td>We conclude that to reduce the rate of  macros...</td>\n",
              "      <td>PREVENT</td>\n",
              "      <td>GOOD GLYCEMIC CONTROL</td>\n",
              "      <td>MACROSOMIC INFANTS IN GESTATIONAL DIABETES CA...</td>\n",
              "    </tr>\n",
              "    <tr>\n",
              "      <th>1</th>\n",
              "      <td>Although long-term survival can be achieved by...</td>\n",
              "      <td>VAGUE</td>\n",
              "      <td>CORRECTIVE SURGERY</td>\n",
              "      <td>HYPOPLASIA</td>\n",
              "    </tr>\n",
              "    <tr>\n",
              "      <th>2</th>\n",
              "      <td>OBJECTIVE : To study the safety and efficacy ...</td>\n",
              "      <td>TREAT_FOR_DIS</td>\n",
              "      <td>METHYLPHENIDATE</td>\n",
              "      <td>ATTENTION DEFICIT HYPERACTIVITY DISORDER ( AD...</td>\n",
              "    </tr>\n",
              "    <tr>\n",
              "      <th>3</th>\n",
              "      <td>CONCLUSION :  Methylphenidate  is effective in...</td>\n",
              "      <td>TREAT_FOR_DIS</td>\n",
              "      <td>METHYLPHENIDATE</td>\n",
              "      <td>ADHD</td>\n",
              "    </tr>\n",
              "    <tr>\n",
              "      <th>4</th>\n",
              "      <td>BACKGROUND :  Antiplatelet therapy with aspir...</td>\n",
              "      <td>TREAT_FOR_DIS</td>\n",
              "      <td>ANTIPLATELET THERAPY WITH ASPIRIN AND SYSTEMA...</td>\n",
              "      <td>CARDIOVASCULAR MORBIDITY AND MORTALITY AFTER ...</td>\n",
              "    </tr>\n",
              "  </tbody>\n",
              "</table>\n",
              "</div>\n",
              "      <button class=\"colab-df-convert\" onclick=\"convertToInteractive('df-14539269-fe93-44ba-a50c-97b2101b325f')\"\n",
              "              title=\"Convert this dataframe to an interactive table.\"\n",
              "              style=\"display:none;\">\n",
              "        \n",
              "  <svg xmlns=\"http://www.w3.org/2000/svg\" height=\"24px\"viewBox=\"0 0 24 24\"\n",
              "       width=\"24px\">\n",
              "    <path d=\"M0 0h24v24H0V0z\" fill=\"none\"/>\n",
              "    <path d=\"M18.56 5.44l.94 2.06.94-2.06 2.06-.94-2.06-.94-.94-2.06-.94 2.06-2.06.94zm-11 1L8.5 8.5l.94-2.06 2.06-.94-2.06-.94L8.5 2.5l-.94 2.06-2.06.94zm10 10l.94 2.06.94-2.06 2.06-.94-2.06-.94-.94-2.06-.94 2.06-2.06.94z\"/><path d=\"M17.41 7.96l-1.37-1.37c-.4-.4-.92-.59-1.43-.59-.52 0-1.04.2-1.43.59L10.3 9.45l-7.72 7.72c-.78.78-.78 2.05 0 2.83L4 21.41c.39.39.9.59 1.41.59.51 0 1.02-.2 1.41-.59l7.78-7.78 2.81-2.81c.8-.78.8-2.07 0-2.86zM5.41 20L4 18.59l7.72-7.72 1.47 1.35L5.41 20z\"/>\n",
              "  </svg>\n",
              "      </button>\n",
              "      \n",
              "  <style>\n",
              "    .colab-df-container {\n",
              "      display:flex;\n",
              "      flex-wrap:wrap;\n",
              "      gap: 12px;\n",
              "    }\n",
              "\n",
              "    .colab-df-convert {\n",
              "      background-color: #E8F0FE;\n",
              "      border: none;\n",
              "      border-radius: 50%;\n",
              "      cursor: pointer;\n",
              "      display: none;\n",
              "      fill: #1967D2;\n",
              "      height: 32px;\n",
              "      padding: 0 0 0 0;\n",
              "      width: 32px;\n",
              "    }\n",
              "\n",
              "    .colab-df-convert:hover {\n",
              "      background-color: #E2EBFA;\n",
              "      box-shadow: 0px 1px 2px rgba(60, 64, 67, 0.3), 0px 1px 3px 1px rgba(60, 64, 67, 0.15);\n",
              "      fill: #174EA6;\n",
              "    }\n",
              "\n",
              "    [theme=dark] .colab-df-convert {\n",
              "      background-color: #3B4455;\n",
              "      fill: #D2E3FC;\n",
              "    }\n",
              "\n",
              "    [theme=dark] .colab-df-convert:hover {\n",
              "      background-color: #434B5C;\n",
              "      box-shadow: 0px 1px 3px 1px rgba(0, 0, 0, 0.15);\n",
              "      filter: drop-shadow(0px 1px 2px rgba(0, 0, 0, 0.3));\n",
              "      fill: #FFFFFF;\n",
              "    }\n",
              "  </style>\n",
              "\n",
              "      <script>\n",
              "        const buttonEl =\n",
              "          document.querySelector('#df-14539269-fe93-44ba-a50c-97b2101b325f button.colab-df-convert');\n",
              "        buttonEl.style.display =\n",
              "          google.colab.kernel.accessAllowed ? 'block' : 'none';\n",
              "\n",
              "        async function convertToInteractive(key) {\n",
              "          const element = document.querySelector('#df-14539269-fe93-44ba-a50c-97b2101b325f');\n",
              "          const dataTable =\n",
              "            await google.colab.kernel.invokeFunction('convertToInteractive',\n",
              "                                                     [key], {});\n",
              "          if (!dataTable) return;\n",
              "\n",
              "          const docLinkHtml = 'Like what you see? Visit the ' +\n",
              "            '<a target=\"_blank\" href=https://colab.research.google.com/notebooks/data_table.ipynb>data table notebook</a>'\n",
              "            + ' to learn more about interactive tables.';\n",
              "          element.innerHTML = '';\n",
              "          dataTable['output_type'] = 'display_data';\n",
              "          await google.colab.output.renderOutput(dataTable, element);\n",
              "          const docLink = document.createElement('div');\n",
              "          docLink.innerHTML = docLinkHtml;\n",
              "          element.appendChild(docLink);\n",
              "        }\n",
              "      </script>\n",
              "    </div>\n",
              "  </div>\n",
              "  "
            ]
          },
          "metadata": {},
          "execution_count": 16
        }
      ]
    },
    {
      "cell_type": "code",
      "source": [
        "BioText['Type'].value_counts()"
      ],
      "metadata": {
        "colab": {
          "base_uri": "https://localhost:8080/"
        },
        "id": "7MJnvAvw8Npv",
        "outputId": "fdd61b1a-0934-40de-9a1f-4e75fc93a375"
      },
      "execution_count": null,
      "outputs": [
        {
          "output_type": "execute_result",
          "data": {
            "text/plain": [
              "TREAT_FOR_DIS       830\n",
              "PREVENT              63\n",
              "VAGUE                37\n",
              "SIDE_EFF             30\n",
              "TREAT_NO_FOR_DIS      4\n",
              "Name: Type, dtype: int64"
            ]
          },
          "metadata": {},
          "execution_count": 17
        }
      ]
    },
    {
      "cell_type": "markdown",
      "source": [
        "### Categorical Encoding of Relation (Type)"
      ],
      "metadata": {
        "id": "Rlcdh0h-agvu"
      }
    },
    {
      "cell_type": "code",
      "source": [
        "from sklearn import preprocessing\n",
        "\n",
        "labels = BioText['Type']\n",
        "labels_arr = np.array(labels)\n",
        "\n",
        "label_encoder = preprocessing.LabelEncoder()\n",
        "labels_vec = label_encoder.fit_transform(labels_arr)\n",
        "BioText['Type_ENC'] = labels_vec"
      ],
      "metadata": {
        "id": "0jnJIp_ziH_z"
      },
      "execution_count": null,
      "outputs": []
    },
    {
      "cell_type": "code",
      "source": [
        "# Dataframe contains sentences with disease-treatment relations, categorized\n",
        "print('Shape of categorized BioText data: {}'.format(BioText.shape))\n",
        "BioText.head()"
      ],
      "metadata": {
        "colab": {
          "base_uri": "https://localhost:8080/",
          "height": 224
        },
        "id": "C_6vx_VieLp7",
        "outputId": "fc5c743c-53e5-46b4-e80b-03a13250f179"
      },
      "execution_count": null,
      "outputs": [
        {
          "output_type": "stream",
          "name": "stdout",
          "text": [
            "Shape of categorized BioText data: (964, 5)\n"
          ]
        },
        {
          "output_type": "execute_result",
          "data": {
            "text/plain": [
              "                                            Sentence           Type  \\\n",
              "0  We conclude that to reduce the rate of  macros...        PREVENT   \n",
              "1  Although long-term survival can be achieved by...          VAGUE   \n",
              "2   OBJECTIVE : To study the safety and efficacy ...  TREAT_FOR_DIS   \n",
              "3  CONCLUSION :  Methylphenidate  is effective in...  TREAT_FOR_DIS   \n",
              "4   BACKGROUND :  Antiplatelet therapy with aspir...  TREAT_FOR_DIS   \n",
              "\n",
              "                                           Treatment  \\\n",
              "0                             GOOD GLYCEMIC CONTROL    \n",
              "1                                CORRECTIVE SURGERY    \n",
              "2                                   METHYLPHENIDATE    \n",
              "3                                   METHYLPHENIDATE    \n",
              "4   ANTIPLATELET THERAPY WITH ASPIRIN AND SYSTEMA...   \n",
              "\n",
              "                                             Disease  Type_ENC  \n",
              "0   MACROSOMIC INFANTS IN GESTATIONAL DIABETES CA...         0  \n",
              "1                                        HYPOPLASIA          4  \n",
              "2   ATTENTION DEFICIT HYPERACTIVITY DISORDER ( AD...         2  \n",
              "3                                              ADHD          2  \n",
              "4   CARDIOVASCULAR MORBIDITY AND MORTALITY AFTER ...         2  "
            ],
            "text/html": [
              "\n",
              "  <div id=\"df-4027abb1-6b46-4c33-9595-4023be9b823d\">\n",
              "    <div class=\"colab-df-container\">\n",
              "      <div>\n",
              "<style scoped>\n",
              "    .dataframe tbody tr th:only-of-type {\n",
              "        vertical-align: middle;\n",
              "    }\n",
              "\n",
              "    .dataframe tbody tr th {\n",
              "        vertical-align: top;\n",
              "    }\n",
              "\n",
              "    .dataframe thead th {\n",
              "        text-align: right;\n",
              "    }\n",
              "</style>\n",
              "<table border=\"1\" class=\"dataframe\">\n",
              "  <thead>\n",
              "    <tr style=\"text-align: right;\">\n",
              "      <th></th>\n",
              "      <th>Sentence</th>\n",
              "      <th>Type</th>\n",
              "      <th>Treatment</th>\n",
              "      <th>Disease</th>\n",
              "      <th>Type_ENC</th>\n",
              "    </tr>\n",
              "  </thead>\n",
              "  <tbody>\n",
              "    <tr>\n",
              "      <th>0</th>\n",
              "      <td>We conclude that to reduce the rate of  macros...</td>\n",
              "      <td>PREVENT</td>\n",
              "      <td>GOOD GLYCEMIC CONTROL</td>\n",
              "      <td>MACROSOMIC INFANTS IN GESTATIONAL DIABETES CA...</td>\n",
              "      <td>0</td>\n",
              "    </tr>\n",
              "    <tr>\n",
              "      <th>1</th>\n",
              "      <td>Although long-term survival can be achieved by...</td>\n",
              "      <td>VAGUE</td>\n",
              "      <td>CORRECTIVE SURGERY</td>\n",
              "      <td>HYPOPLASIA</td>\n",
              "      <td>4</td>\n",
              "    </tr>\n",
              "    <tr>\n",
              "      <th>2</th>\n",
              "      <td>OBJECTIVE : To study the safety and efficacy ...</td>\n",
              "      <td>TREAT_FOR_DIS</td>\n",
              "      <td>METHYLPHENIDATE</td>\n",
              "      <td>ATTENTION DEFICIT HYPERACTIVITY DISORDER ( AD...</td>\n",
              "      <td>2</td>\n",
              "    </tr>\n",
              "    <tr>\n",
              "      <th>3</th>\n",
              "      <td>CONCLUSION :  Methylphenidate  is effective in...</td>\n",
              "      <td>TREAT_FOR_DIS</td>\n",
              "      <td>METHYLPHENIDATE</td>\n",
              "      <td>ADHD</td>\n",
              "      <td>2</td>\n",
              "    </tr>\n",
              "    <tr>\n",
              "      <th>4</th>\n",
              "      <td>BACKGROUND :  Antiplatelet therapy with aspir...</td>\n",
              "      <td>TREAT_FOR_DIS</td>\n",
              "      <td>ANTIPLATELET THERAPY WITH ASPIRIN AND SYSTEMA...</td>\n",
              "      <td>CARDIOVASCULAR MORBIDITY AND MORTALITY AFTER ...</td>\n",
              "      <td>2</td>\n",
              "    </tr>\n",
              "  </tbody>\n",
              "</table>\n",
              "</div>\n",
              "      <button class=\"colab-df-convert\" onclick=\"convertToInteractive('df-4027abb1-6b46-4c33-9595-4023be9b823d')\"\n",
              "              title=\"Convert this dataframe to an interactive table.\"\n",
              "              style=\"display:none;\">\n",
              "        \n",
              "  <svg xmlns=\"http://www.w3.org/2000/svg\" height=\"24px\"viewBox=\"0 0 24 24\"\n",
              "       width=\"24px\">\n",
              "    <path d=\"M0 0h24v24H0V0z\" fill=\"none\"/>\n",
              "    <path d=\"M18.56 5.44l.94 2.06.94-2.06 2.06-.94-2.06-.94-.94-2.06-.94 2.06-2.06.94zm-11 1L8.5 8.5l.94-2.06 2.06-.94-2.06-.94L8.5 2.5l-.94 2.06-2.06.94zm10 10l.94 2.06.94-2.06 2.06-.94-2.06-.94-.94-2.06-.94 2.06-2.06.94z\"/><path d=\"M17.41 7.96l-1.37-1.37c-.4-.4-.92-.59-1.43-.59-.52 0-1.04.2-1.43.59L10.3 9.45l-7.72 7.72c-.78.78-.78 2.05 0 2.83L4 21.41c.39.39.9.59 1.41.59.51 0 1.02-.2 1.41-.59l7.78-7.78 2.81-2.81c.8-.78.8-2.07 0-2.86zM5.41 20L4 18.59l7.72-7.72 1.47 1.35L5.41 20z\"/>\n",
              "  </svg>\n",
              "      </button>\n",
              "      \n",
              "  <style>\n",
              "    .colab-df-container {\n",
              "      display:flex;\n",
              "      flex-wrap:wrap;\n",
              "      gap: 12px;\n",
              "    }\n",
              "\n",
              "    .colab-df-convert {\n",
              "      background-color: #E8F0FE;\n",
              "      border: none;\n",
              "      border-radius: 50%;\n",
              "      cursor: pointer;\n",
              "      display: none;\n",
              "      fill: #1967D2;\n",
              "      height: 32px;\n",
              "      padding: 0 0 0 0;\n",
              "      width: 32px;\n",
              "    }\n",
              "\n",
              "    .colab-df-convert:hover {\n",
              "      background-color: #E2EBFA;\n",
              "      box-shadow: 0px 1px 2px rgba(60, 64, 67, 0.3), 0px 1px 3px 1px rgba(60, 64, 67, 0.15);\n",
              "      fill: #174EA6;\n",
              "    }\n",
              "\n",
              "    [theme=dark] .colab-df-convert {\n",
              "      background-color: #3B4455;\n",
              "      fill: #D2E3FC;\n",
              "    }\n",
              "\n",
              "    [theme=dark] .colab-df-convert:hover {\n",
              "      background-color: #434B5C;\n",
              "      box-shadow: 0px 1px 3px 1px rgba(0, 0, 0, 0.15);\n",
              "      filter: drop-shadow(0px 1px 2px rgba(0, 0, 0, 0.3));\n",
              "      fill: #FFFFFF;\n",
              "    }\n",
              "  </style>\n",
              "\n",
              "      <script>\n",
              "        const buttonEl =\n",
              "          document.querySelector('#df-4027abb1-6b46-4c33-9595-4023be9b823d button.colab-df-convert');\n",
              "        buttonEl.style.display =\n",
              "          google.colab.kernel.accessAllowed ? 'block' : 'none';\n",
              "\n",
              "        async function convertToInteractive(key) {\n",
              "          const element = document.querySelector('#df-4027abb1-6b46-4c33-9595-4023be9b823d');\n",
              "          const dataTable =\n",
              "            await google.colab.kernel.invokeFunction('convertToInteractive',\n",
              "                                                     [key], {});\n",
              "          if (!dataTable) return;\n",
              "\n",
              "          const docLinkHtml = 'Like what you see? Visit the ' +\n",
              "            '<a target=\"_blank\" href=https://colab.research.google.com/notebooks/data_table.ipynb>data table notebook</a>'\n",
              "            + ' to learn more about interactive tables.';\n",
              "          element.innerHTML = '';\n",
              "          dataTable['output_type'] = 'display_data';\n",
              "          await google.colab.output.renderOutput(dataTable, element);\n",
              "          const docLink = document.createElement('div');\n",
              "          docLink.innerHTML = docLinkHtml;\n",
              "          element.appendChild(docLink);\n",
              "        }\n",
              "      </script>\n",
              "    </div>\n",
              "  </div>\n",
              "  "
            ]
          },
          "metadata": {},
          "execution_count": 19
        }
      ]
    },
    {
      "cell_type": "code",
      "source": [
        "num_relations=len(BioText.Type_ENC.unique())\n",
        "print(num_relations)"
      ],
      "metadata": {
        "colab": {
          "base_uri": "https://localhost:8080/"
        },
        "id": "cRgRo0sqjOBG",
        "outputId": "5684ee50-06da-4e5d-eb28-84ea91a33510"
      },
      "execution_count": null,
      "outputs": [
        {
          "output_type": "stream",
          "name": "stdout",
          "text": [
            "5\n"
          ]
        }
      ]
    },
    {
      "cell_type": "code",
      "source": [
        "integer_mapping = {l: i for i, l in enumerate(label_encoder.classes_)}\n",
        "print(integer_mapping)"
      ],
      "metadata": {
        "colab": {
          "base_uri": "https://localhost:8080/"
        },
        "id": "gtJYdkaOpzGM",
        "outputId": "f01788d3-0076-48cf-b70c-b2f64894d736"
      },
      "execution_count": null,
      "outputs": [
        {
          "output_type": "stream",
          "name": "stdout",
          "text": [
            "{'PREVENT': 0, 'SIDE_EFF': 1, 'TREAT_FOR_DIS': 2, 'TREAT_NO_FOR_DIS': 3, 'VAGUE': 4}\n"
          ]
        }
      ]
    },
    {
      "cell_type": "markdown",
      "source": [
        "### Train, test split"
      ],
      "metadata": {
        "id": "D8G-6iQFfhKS"
      }
    },
    {
      "cell_type": "code",
      "source": [
        "BioTrain, BioTest = train_test_split(BioText, test_size = .20, random_state= 45) \n",
        "# BioTrain, BioVal = train_test_split(BioTrain, test_size = .20, random_state= 45)"
      ],
      "metadata": {
        "id": "fHtvf5sUAKT6"
      },
      "execution_count": null,
      "outputs": []
    },
    {
      "cell_type": "code",
      "source": [
        "print('Shape of BioTrain data: {}'.format(BioTrain.shape))\n",
        "# print('Shape of BioVal data: {}'.format(BioVal.shape))\n",
        "print('Shape of BioTest data: {}'.format(BioTest.shape))"
      ],
      "metadata": {
        "colab": {
          "base_uri": "https://localhost:8080/"
        },
        "id": "FQqPtr-FYl1A",
        "outputId": "6b22162f-ded9-48f0-dc5a-f698d9c0a901"
      },
      "execution_count": null,
      "outputs": [
        {
          "output_type": "stream",
          "name": "stdout",
          "text": [
            "Shape of BioTrain data: (771, 5)\n",
            "Shape of BioTest data: (193, 5)\n"
          ]
        }
      ]
    },
    {
      "cell_type": "code",
      "source": [
        "BioTrain['Type'].value_counts()"
      ],
      "metadata": {
        "colab": {
          "base_uri": "https://localhost:8080/"
        },
        "id": "eJO7eGptA9-r",
        "outputId": "e4202345-9cf1-433b-d406-5b7b4a5bd094"
      },
      "execution_count": null,
      "outputs": [
        {
          "output_type": "execute_result",
          "data": {
            "text/plain": [
              "TREAT_FOR_DIS       665\n",
              "PREVENT              50\n",
              "VAGUE                30\n",
              "SIDE_EFF             23\n",
              "TREAT_NO_FOR_DIS      3\n",
              "Name: Type, dtype: int64"
            ]
          },
          "metadata": {},
          "execution_count": 24
        }
      ]
    },
    {
      "cell_type": "code",
      "source": [
        "x=BioTrain['Type'].value_counts()\n",
        "sns.barplot(x.index,x)\n",
        "plt.xticks(rotation=60)\n",
        "plt.gca().set_ylabel('Samples')"
      ],
      "metadata": {
        "colab": {
          "base_uri": "https://localhost:8080/",
          "height": 364
        },
        "id": "68nkRWqflyCT",
        "outputId": "680788f0-eadb-448e-b77d-649af6080f62"
      },
      "execution_count": null,
      "outputs": [
        {
          "output_type": "execute_result",
          "data": {
            "text/plain": [
              "Text(0, 0.5, 'Samples')"
            ]
          },
          "metadata": {},
          "execution_count": 25
        },
        {
          "output_type": "display_data",
          "data": {
            "text/plain": [
              "<Figure size 432x288 with 1 Axes>"
            ],
            "image/png": "[encoded data removed]"
          },
          "metadata": {
            "needs_background": "light"
          }
        }
      ]
    },
    {
      "cell_type": "code",
      "source": [
        "# BioVal['Type'].value_counts()"
      ],
      "metadata": {
        "id": "CGrfAXFNjQhD"
      },
      "execution_count": null,
      "outputs": []
    },
    {
      "cell_type": "code",
      "source": [
        "BioTest.reset_index(drop=True, inplace=True)\n",
        "BioTest['Type'].value_counts()"
      ],
      "metadata": {
        "colab": {
          "base_uri": "https://localhost:8080/"
        },
        "id": "sthMup9pBFZV",
        "outputId": "a7748018-4a5a-4931-ee6b-aea1cdb48ff4"
      },
      "execution_count": null,
      "outputs": [
        {
          "output_type": "execute_result",
          "data": {
            "text/plain": [
              "TREAT_FOR_DIS       165\n",
              "PREVENT              13\n",
              "VAGUE                 7\n",
              "SIDE_EFF              7\n",
              "TREAT_NO_FOR_DIS      1\n",
              "Name: Type, dtype: int64"
            ]
          },
          "metadata": {},
          "execution_count": 27
        }
      ]
    },
    {
      "cell_type": "code",
      "source": [
        "BioTrain.reset_index(drop=True, inplace=True)\n",
        "\n",
        "print('Shape of combined original Biotrain: {}'.format(BioTrain.shape))\n",
        "BioTrain.head()\n"
      ],
      "metadata": {
        "colab": {
          "base_uri": "https://localhost:8080/",
          "height": 224
        },
        "id": "FptqCNOtEPqs",
        "outputId": "b5768113-6beb-454c-febf-bf02d653492b"
      },
      "execution_count": null,
      "outputs": [
        {
          "output_type": "stream",
          "name": "stdout",
          "text": [
            "Shape of combined original Biotrain: (771, 5)\n"
          ]
        },
        {
          "output_type": "execute_result",
          "data": {
            "text/plain": [
              "                                            Sentence           Type  \\\n",
              "0    New therapies  for  severe meningococcal dis...  TREAT_FOR_DIS   \n",
              "1    Pharmacological management  of  acute myocar...  TREAT_FOR_DIS   \n",
              "2    Aspirin therapy  for  cardiovascular disease  .  TREAT_FOR_DIS   \n",
              "3   A 66-year-old male engineer diagnosed with  m...  TREAT_FOR_DIS   \n",
              "4    amifostine ( wr-2721 )  is a cytoprotective ...        PREVENT   \n",
              "\n",
              "                                         Treatment  \\\n",
              "0                                   NEW THERAPIES    \n",
              "1                      PHARMACOLOGICAL MANAGEMENT    \n",
              "2                                 ASPIRIN THERAPY    \n",
              "3   THORACOTOMY , RADIOTHERAPY , AND CHEMOTHERAPY    \n",
              "4                          AMIFOSTINE ( WR-2721 )    \n",
              "\n",
              "                                            Disease  Type_ENC  \n",
              "0                     SEVERE MENINGOCOCCAL DISEASE          2  \n",
              "1                      ACUTE MYOCARDIAL INFARCTION          2  \n",
              "2                           CARDIOVASCULAR DISEASE          2  \n",
              "3                   MALIGNANT PLEURAL MESOTHELIOMA          2  \n",
              "4   TOXIC EFFECTS OF CHEMOTHERAPY AND RADIOTHERAPY          0  "
            ],
            "text/html": [
              "\n",
              "  <div id=\"df-15ae6a50-ee29-426b-9f57-ceef5cfd0380\">\n",
              "    <div class=\"colab-df-container\">\n",
              "      <div>\n",
              "<style scoped>\n",
              "    .dataframe tbody tr th:only-of-type {\n",
              "        vertical-align: middle;\n",
              "    }\n",
              "\n",
              "    .dataframe tbody tr th {\n",
              "        vertical-align: top;\n",
              "    }\n",
              "\n",
              "    .dataframe thead th {\n",
              "        text-align: right;\n",
              "    }\n",
              "</style>\n",
              "<table border=\"1\" class=\"dataframe\">\n",
              "  <thead>\n",
              "    <tr style=\"text-align: right;\">\n",
              "      <th></th>\n",
              "      <th>Sentence</th>\n",
              "      <th>Type</th>\n",
              "      <th>Treatment</th>\n",
              "      <th>Disease</th>\n",
              "      <th>Type_ENC</th>\n",
              "    </tr>\n",
              "  </thead>\n",
              "  <tbody>\n",
              "    <tr>\n",
              "      <th>0</th>\n",
              "      <td>New therapies  for  severe meningococcal dis...</td>\n",
              "      <td>TREAT_FOR_DIS</td>\n",
              "      <td>NEW THERAPIES</td>\n",
              "      <td>SEVERE MENINGOCOCCAL DISEASE</td>\n",
              "      <td>2</td>\n",
              "    </tr>\n",
              "    <tr>\n",
              "      <th>1</th>\n",
              "      <td>Pharmacological management  of  acute myocar...</td>\n",
              "      <td>TREAT_FOR_DIS</td>\n",
              "      <td>PHARMACOLOGICAL MANAGEMENT</td>\n",
              "      <td>ACUTE MYOCARDIAL INFARCTION</td>\n",
              "      <td>2</td>\n",
              "    </tr>\n",
              "    <tr>\n",
              "      <th>2</th>\n",
              "      <td>Aspirin therapy  for  cardiovascular disease  .</td>\n",
              "      <td>TREAT_FOR_DIS</td>\n",
              "      <td>ASPIRIN THERAPY</td>\n",
              "      <td>CARDIOVASCULAR DISEASE</td>\n",
              "      <td>2</td>\n",
              "    </tr>\n",
              "    <tr>\n",
              "      <th>3</th>\n",
              "      <td>A 66-year-old male engineer diagnosed with  m...</td>\n",
              "      <td>TREAT_FOR_DIS</td>\n",
              "      <td>THORACOTOMY , RADIOTHERAPY , AND CHEMOTHERAPY</td>\n",
              "      <td>MALIGNANT PLEURAL MESOTHELIOMA</td>\n",
              "      <td>2</td>\n",
              "    </tr>\n",
              "    <tr>\n",
              "      <th>4</th>\n",
              "      <td>amifostine ( wr-2721 )  is a cytoprotective ...</td>\n",
              "      <td>PREVENT</td>\n",
              "      <td>AMIFOSTINE ( WR-2721 )</td>\n",
              "      <td>TOXIC EFFECTS OF CHEMOTHERAPY AND RADIOTHERAPY</td>\n",
              "      <td>0</td>\n",
              "    </tr>\n",
              "  </tbody>\n",
              "</table>\n",
              "</div>\n",
              "      <button class=\"colab-df-convert\" onclick=\"convertToInteractive('df-15ae6a50-ee29-426b-9f57-ceef5cfd0380')\"\n",
              "              title=\"Convert this dataframe to an interactive table.\"\n",
              "              style=\"display:none;\">\n",
              "        \n",
              "  <svg xmlns=\"http://www.w3.org/2000/svg\" height=\"24px\"viewBox=\"0 0 24 24\"\n",
              "       width=\"24px\">\n",
              "    <path d=\"M0 0h24v24H0V0z\" fill=\"none\"/>\n",
              "    <path d=\"M18.56 5.44l.94 2.06.94-2.06 2.06-.94-2.06-.94-.94-2.06-.94 2.06-2.06.94zm-11 1L8.5 8.5l.94-2.06 2.06-.94-2.06-.94L8.5 2.5l-.94 2.06-2.06.94zm10 10l.94 2.06.94-2.06 2.06-.94-2.06-.94-.94-2.06-.94 2.06-2.06.94z\"/><path d=\"M17.41 7.96l-1.37-1.37c-.4-.4-.92-.59-1.43-.59-.52 0-1.04.2-1.43.59L10.3 9.45l-7.72 7.72c-.78.78-.78 2.05 0 2.83L4 21.41c.39.39.9.59 1.41.59.51 0 1.02-.2 1.41-.59l7.78-7.78 2.81-2.81c.8-.78.8-2.07 0-2.86zM5.41 20L4 18.59l7.72-7.72 1.47 1.35L5.41 20z\"/>\n",
              "  </svg>\n",
              "      </button>\n",
              "      \n",
              "  <style>\n",
              "    .colab-df-container {\n",
              "      display:flex;\n",
              "      flex-wrap:wrap;\n",
              "      gap: 12px;\n",
              "    }\n",
              "\n",
              "    .colab-df-convert {\n",
              "      background-color: #E8F0FE;\n",
              "      border: none;\n",
              "      border-radius: 50%;\n",
              "      cursor: pointer;\n",
              "      display: none;\n",
              "      fill: #1967D2;\n",
              "      height: 32px;\n",
              "      padding: 0 0 0 0;\n",
              "      width: 32px;\n",
              "    }\n",
              "\n",
              "    .colab-df-convert:hover {\n",
              "      background-color: #E2EBFA;\n",
              "      box-shadow: 0px 1px 2px rgba(60, 64, 67, 0.3), 0px 1px 3px 1px rgba(60, 64, 67, 0.15);\n",
              "      fill: #174EA6;\n",
              "    }\n",
              "\n",
              "    [theme=dark] .colab-df-convert {\n",
              "      background-color: #3B4455;\n",
              "      fill: #D2E3FC;\n",
              "    }\n",
              "\n",
              "    [theme=dark] .colab-df-convert:hover {\n",
              "      background-color: #434B5C;\n",
              "      box-shadow: 0px 1px 3px 1px rgba(0, 0, 0, 0.15);\n",
              "      filter: drop-shadow(0px 1px 2px rgba(0, 0, 0, 0.3));\n",
              "      fill: #FFFFFF;\n",
              "    }\n",
              "  </style>\n",
              "\n",
              "      <script>\n",
              "        const buttonEl =\n",
              "          document.querySelector('#df-15ae6a50-ee29-426b-9f57-ceef5cfd0380 button.colab-df-convert');\n",
              "        buttonEl.style.display =\n",
              "          google.colab.kernel.accessAllowed ? 'block' : 'none';\n",
              "\n",
              "        async function convertToInteractive(key) {\n",
              "          const element = document.querySelector('#df-15ae6a50-ee29-426b-9f57-ceef5cfd0380');\n",
              "          const dataTable =\n",
              "            await google.colab.kernel.invokeFunction('convertToInteractive',\n",
              "                                                     [key], {});\n",
              "          if (!dataTable) return;\n",
              "\n",
              "          const docLinkHtml = 'Like what you see? Visit the ' +\n",
              "            '<a target=\"_blank\" href=https://colab.research.google.com/notebooks/data_table.ipynb>data table notebook</a>'\n",
              "            + ' to learn more about interactive tables.';\n",
              "          element.innerHTML = '';\n",
              "          dataTable['output_type'] = 'display_data';\n",
              "          await google.colab.output.renderOutput(dataTable, element);\n",
              "          const docLink = document.createElement('div');\n",
              "          docLink.innerHTML = docLinkHtml;\n",
              "          element.appendChild(docLink);\n",
              "        }\n",
              "      </script>\n",
              "    </div>\n",
              "  </div>\n",
              "  "
            ]
          },
          "metadata": {},
          "execution_count": 28
        }
      ]
    },
    {
      "cell_type": "markdown",
      "source": [
        "## Data Augmentation"
      ],
      "metadata": {
        "id": "mojrZbJUeOgy"
      }
    },
    {
      "cell_type": "code",
      "source": [
        "from tqdm import tqdm"
      ],
      "metadata": {
        "id": "oAttbVCzLTxE"
      },
      "execution_count": null,
      "outputs": []
    },
    {
      "cell_type": "code",
      "source": [
        "!pip install numpy requests nlpaug"
      ],
      "metadata": {
        "id": "GDbR33z2EBA6",
        "colab": {
          "base_uri": "https://localhost:8080/"
        },
        "outputId": "1ed19fd0-1a1b-41d4-8980-8c102818679f"
      },
      "execution_count": null,
      "outputs": [
        {
          "output_type": "stream",
          "name": "stdout",
          "text": [
            "Requirement already satisfied: numpy in /usr/local/lib/python3.7/dist-packages (1.21.5)\n",
            "Requirement already satisfied: requests in /usr/local/lib/python3.7/dist-packages (2.23.0)\n",
            "Collecting nlpaug\n",
            "  Downloading nlpaug-1.1.10-py3-none-any.whl (410 kB)\n",
            "\u001b[K     |████████████████████████████████| 410 kB 5.2 MB/s \n",
            "\u001b[?25hRequirement already satisfied: certifi>=2017.4.17 in /usr/local/lib/python3.7/dist-packages (from requests) (2021.10.8)\n",
            "Requirement already satisfied: idna<3,>=2.5 in /usr/local/lib/python3.7/dist-packages (from requests) (2.10)\n",
            "Requirement already satisfied: chardet<4,>=3.0.2 in /usr/local/lib/python3.7/dist-packages (from requests) (3.0.4)\n",
            "Requirement already satisfied: urllib3!=1.25.0,!=1.25.1,<1.26,>=1.21.1 in /usr/local/lib/python3.7/dist-packages (from requests) (1.25.11)\n",
            "Requirement already satisfied: pandas>=1.2.0 in /usr/local/lib/python3.7/dist-packages (from nlpaug) (1.3.5)\n",
            "Requirement already satisfied: pytz>=2017.3 in /usr/local/lib/python3.7/dist-packages (from pandas>=1.2.0->nlpaug) (2018.9)\n",
            "Requirement already satisfied: python-dateutil>=2.7.3 in /usr/local/lib/python3.7/dist-packages (from pandas>=1.2.0->nlpaug) (2.8.2)\n",
            "Requirement already satisfied: six>=1.5 in /usr/local/lib/python3.7/dist-packages (from python-dateutil>=2.7.3->pandas>=1.2.0->nlpaug) (1.15.0)\n",
            "Installing collected packages: nlpaug\n",
            "Successfully installed nlpaug-1.1.10\n"
          ]
        }
      ]
    },
    {
      "cell_type": "code",
      "source": [
        "!pip install torch>=1.6.0 transformers>=3.4.0 sentencepiece"
      ],
      "metadata": {
        "id": "THJE7yvoeS1D"
      },
      "execution_count": null,
      "outputs": []
    },
    {
      "cell_type": "code",
      "source": [
        "# sampleText = BioTrain.iloc[3]['Sentence']\n",
        "# print(sampleText)\n",
        "\n",
        "sampleTexts = BioTrain.iloc[3]['Sentence']\n",
        "print(sampleTexts)"
      ],
      "metadata": {
        "colab": {
          "base_uri": "https://localhost:8080/"
        },
        "id": "lfrIzsinGtbV",
        "outputId": "f226a7f4-e86d-4cf8-96b0-8c2448ae233d"
      },
      "execution_count": null,
      "outputs": [
        {
          "output_type": "stream",
          "name": "stdout",
          "text": [
            " A 66-year-old male engineer diagnosed with  malignant pleural mesothelioma  4 years previously had  thoracotomy , radiotherapy , and chemotherapy  .\n"
          ]
        }
      ]
    },
    {
      "cell_type": "code",
      "source": [
        "\n",
        "import nlpaug.augmenter.char as nac\n",
        "import nlpaug.augmenter.word as naw\n",
        "import nlpaug.augmenter.sentence as nas\n",
        "import nlpaug.flow as naf\n",
        "\n",
        "from nlpaug.util import Action"
      ],
      "metadata": {
        "id": "7Mn-dqrVBdEK"
      },
      "execution_count": null,
      "outputs": []
    },
    {
      "cell_type": "code",
      "source": [
        "\n",
        "aug_bert_model = naw.ContextualWordEmbsAug(\n",
        "    model_path='bert-base-uncased', action=\"insert\")\n",
        "\n",
        "print(\"Original:\")\n",
        "print(sampleTexts)\n",
        "\n",
        "print(\"Augmented Texts:\")\n",
        "for ii in range(5):\n",
        "  augmented_text = aug_bert_model.augment(sampleTexts)\n",
        "  print(augmented_text)"
      ],
      "metadata": {
        "id": "KKYxllLRHQtf",
        "colab": {
          "base_uri": "https://localhost:8080/",
          "height": 324,
          "referenced_widgets": [
            "9551258b63f34b54969748098df342bd",
            "165ea6b1293f44fe8d7fac2d97cbcd20",
            "74981158abde458d8a77a5b48294b410",
            "a0d45ac02fd5495f9d6a64a22feef0b9",
            "baf45554fa5142a491969ed2b4540c37",
            "dbe09c27912f4d43b00fc20c25d965e1",
            "49d46202bd6d46c2b59015956552822b",
            "639066d806d54a088258d4b9e5d30d78",
            "61667e60882540b397dba4cdad820b31",
            "230ee54da2df43aba4bf6a3d73fb2612",
            "a14be5ca75fd46c8be3e71982d45d956",
            "8ff8323c89c44c9da0763649b95770cb",
            "0c1de8437e51494aa3130d9107b5a324",
            "7c763969dbd74851b4cd21486d672b23",
            "34131fdcdf3b42f28dcd4f99df2264c4",
            "f9a2049aff6546cebf11a350872c663b",
            "60e60423a31a4e9fbaf7f04ebed2aa79",
            "ac321914e2a543caa5f4f2a45bf2e50c",
            "b6474950349a4080b823b8bb1eec8074",
            "101ab812c2264c309443b05a40b756e2",
            "e58a87b9fc4846bb903c98edbd7ae190",
            "6929e1ae56fe4f4099d9e493321af293",
            "f08c81f154cd4163b24afd99337aedad",
            "c509f937d3484228abb42945b70e1072",
            "33096d5879e940d0a043f362d335462d",
            "6659a9705eea48e781e740e1ca36d7a7",
            "03f00c4e16c14bfb830d55f5d898b422",
            "6e315580e011468ab20f1deda0fab050",
            "d67e1bb585eb43fc99ef5bac6884bda1",
            "5ade6da88f4645139c8ce02d414b672d",
            "6e23781e82074cc1aa10717891e3d46b",
            "a2cf59734bf44901b1d979a49b878ff6",
            "c69e03cf57e340f18acb49fe2c9472b8",
            "c776e341929f4215b2ae5b7648f9260d",
            "7272ef7d319747a9ac8ab2e68746ab74",
            "fa4d2aeeadda4850bf13bf50cc4151a9",
            "e7a6c6dffeb744beae83cdc621696c66",
            "22848256173d406591fae2e58dcd256e",
            "d38236de2fe44ac4bffd2ca2b1bd2e0e",
            "01d00b5deef64fba9e158e7c944590bd",
            "0a36bda376dc41cd8a14b0dcff8f103a",
            "60e615dfb15a4600882e4d8b00ada5fe",
            "1c5de8e7e049422fba1a10fc307a4a56",
            "8e81952058ba43f7a2dffb5c322ff007",
            "de913159765b4f6796bd93b5761af74e",
            "a1e5095926194d37aaaffc5c870af039",
            "37312da05b444645a46d06009de3e373",
            "37ed793873664e659b4e51ea819eb5b1",
            "4869aad45d7d436182df7adbd05bdcca",
            "4a7098f358744f1b8dfc0fdc5ede2375",
            "add5ce2c5f274cd4b82408f1bf03a1ec",
            "8e3429d200924b6d81f3a3d4445820c6",
            "1f8b82eb4c224c459224b3bff3b7b8f8",
            "e8dd8698b1b446e49c1fbc3e296d1a9b",
            "93b9f8f002604b01a804a4e691e508d6"
          ]
        },
        "outputId": "7af70fab-7c17-4c2e-8b67-e8888bce1220"
      },
      "execution_count": null,
      "outputs": [
        {
          "output_type": "display_data",
          "data": {
            "text/plain": [
              "Downloading:   0%|          | 0.00/28.0 [00:00<?, ?B/s]"
            ],
            "application/vnd.jupyter.widget-view+json": {
              "version_major": 2,
              "version_minor": 0,
              "model_id": "9551258b63f34b54969748098df342bd"
            }
          },
          "metadata": {}
        },
        {
          "output_type": "display_data",
          "data": {
            "text/plain": [
              "Downloading:   0%|          | 0.00/570 [00:00<?, ?B/s]"
            ],
            "application/vnd.jupyter.widget-view+json": {
              "version_major": 2,
              "version_minor": 0,
              "model_id": "8ff8323c89c44c9da0763649b95770cb"
            }
          },
          "metadata": {}
        },
        {
          "output_type": "display_data",
          "data": {
            "text/plain": [
              "Downloading:   0%|          | 0.00/226k [00:00<?, ?B/s]"
            ],
            "application/vnd.jupyter.widget-view+json": {
              "version_major": 2,
              "version_minor": 0,
              "model_id": "f08c81f154cd4163b24afd99337aedad"
            }
          },
          "metadata": {}
        },
        {
          "output_type": "display_data",
          "data": {
            "text/plain": [
              "Downloading:   0%|          | 0.00/455k [00:00<?, ?B/s]"
            ],
            "application/vnd.jupyter.widget-view+json": {
              "version_major": 2,
              "version_minor": 0,
              "model_id": "c776e341929f4215b2ae5b7648f9260d"
            }
          },
          "metadata": {}
        },
        {
          "output_type": "display_data",
          "data": {
            "text/plain": [
              "Downloading:   0%|          | 0.00/420M [00:00<?, ?B/s]"
            ],
            "application/vnd.jupyter.widget-view+json": {
              "version_major": 2,
              "version_minor": 0,
              "model_id": "de913159765b4f6796bd93b5761af74e"
            }
          },
          "metadata": {}
        },
        {
          "output_type": "stream",
          "name": "stdout",
          "text": [
            "Original:\n",
            " A 66-year-old male engineer diagnosed with  malignant pleural mesothelioma  4 years previously had  thoracotomy , radiotherapy , and chemotherapy  .\n",
            "Augmented Texts:\n",
            "when a healthy 66 - year - old gay male aerospace engineer diagnosed young with the malignant bilateral pleural bypass mesothelioma 4 years previously and had thoracotomy, radiotherapy, and cancer chemotherapy.\n",
            "a then 66 - five year - though old male engineer who diagnosed with persistent malignant and pleural invasive mesothelioma over 4 years previously had undergone thoracotomy, iv radiotherapy, and chemotherapy.\n",
            "even a 66 - five year - old trans male electronics engineer man diagnosed later with malignant pleural mesothelioma 4 metric years previously had thoracotomy, periodic radiotherapy, medications and even chemotherapy.\n",
            "a 66 - 10 year - pin old young male consultant engineer diagnosed wilson with a malignant pleural duct mesothelioma identified 4 years previously was had thoracotomy, emergency radiotherapy, and chemotherapy.\n",
            "and a 66 - 13 year - plus old japanese male aerospace engineer diagnosed with malignant right pleural node mesothelioma 4 months years previously who had thoracotomy, radiotherapy, and initial chemotherapy.\n"
          ]
        }
      ]
    },
    {
      "cell_type": "code",
      "source": [
        "def augment_text(to_aug_df,num_aug_samples=20,augpercent=0.2, type_categ=1):\n",
        "    aug_bert_model.aug_p=augpercent\n",
        "    new_aug_list=[]\n",
        "    \n",
        "    ##dropping rest of other category samples from augmentatation\n",
        "    df_categ=to_aug_df[to_aug_df.Type_ENC==type_categ].reset_index(drop=True)\n",
        "\n",
        "    ## data augmentation loop\n",
        "    for i in tqdm(np.random.randint(0,len(df_categ),num_aug_samples)):\n",
        "        \n",
        "            orig_Sentence = df_categ.iloc[i]['Sentence']\n",
        "            orig_Type = df_categ.iloc[i]['Type']\n",
        "            orig_Treatment = df_categ.iloc[i]['Treatment']\n",
        "            orig_Disease = df_categ.iloc[i]['Disease']\n",
        "            orig_Type_ENC = df_categ.iloc[i]['Type_ENC']\n",
        "\n",
        "            augmented_Sentence = aug_bert_model.augment(orig_Sentence)\n",
        "            new_aug_list.append([augmented_Sentence, orig_Type, orig_Treatment, orig_Disease,orig_Type_ENC])\n",
        "\n",
        "                    \n",
        "    ## dataframe of category specific augmented text\n",
        "    to_aug_df=pd.DataFrame(new_aug_list, columns=['Sentence','Type','Treatment','Disease','Type_ENC'])\n",
        "\n",
        "    return to_aug_df"
      ],
      "metadata": {
        "id": "WA0X_FDbn4aU"
      },
      "execution_count": null,
      "outputs": []
    },
    {
      "cell_type": "markdown",
      "source": [
        "### Calling the Augment function"
      ],
      "metadata": {
        "id": "W6ecNDuYzs4x"
      }
    },
    {
      "cell_type": "code",
      "source": [
        "aug_train_Treat_no_for_dis = augment_text(BioTrain,num_aug_samples=40,type_categ=3)   ## change samples to 0 for no augmentation"
      ],
      "metadata": {
        "colab": {
          "base_uri": "https://localhost:8080/"
        },
        "id": "WcepPSWVo_tw",
        "outputId": "bb280f2d-82ef-45d8-df80-0220d17fce49"
      },
      "execution_count": null,
      "outputs": [
        {
          "output_type": "stream",
          "name": "stderr",
          "text": [
            "100%|██████████| 40/40 [00:45<00:00,  1.13s/it]\n"
          ]
        }
      ]
    },
    {
      "cell_type": "code",
      "source": [
        "orig_sentences = BioTrain[BioTrain.Type_ENC==3]\n",
        "\n",
        "with pd.option_context('display.max_colwidth', None):\n",
        "  display(orig_sentences.Sentence.head())"
      ],
      "metadata": {
        "colab": {
          "base_uri": "https://localhost:8080/",
          "height": 91
        },
        "id": "7e67F5e2uOtK",
        "outputId": "85280ff8-750c-41ee-c09c-2e90a80e0eeb"
      },
      "execution_count": null,
      "outputs": [
        {
          "output_type": "display_data",
          "data": {
            "text/plain": [
              "176                                                                                                                 Evidence for double resistance to  permethrin and malathion  in  head lice  .\n",
              "489                                       To avoid medicalising a self limiting illness doctors should avoid  antibiotics  or offer a delayed prescription for most patients with  sore throat  .\n",
              "611      Subcutaneous injection of irradiated LLC-IL2  did not affect the growth of preexisting  s.c. tumors  and also did not improve survival of mice bearing the  lung or peritoneal tumors  .\n",
              "Name: Sentence, dtype: object"
            ]
          },
          "metadata": {}
        }
      ]
    },
    {
      "cell_type": "code",
      "source": [
        "sample_aug_sent = aug_train_Treat_no_for_dis.iloc[0]['Sentence']\n",
        "print(sample_aug_sent)"
      ],
      "metadata": {
        "colab": {
          "base_uri": "https://localhost:8080/"
        },
        "id": "dBKqEE1gz4N6",
        "outputId": "d754bd5b-8383-4600-cb5a-66e27737750d"
      },
      "execution_count": null,
      "outputs": [
        {
          "output_type": "stream",
          "name": "stdout",
          "text": [
            "to effectively avoid unnecessary medicalising for a self limiting illness doctors should avoid antibiotics or offer out a delayed prescription replacement for most patients with sore throat.\n"
          ]
        }
      ]
    },
    {
      "cell_type": "code",
      "source": [
        "print('Shape of augmented train_Treat_no_for_dis subset: {}'.format(aug_train_Treat_no_for_dis.shape))\n",
        "aug_train_Treat_no_for_dis.head()"
      ],
      "metadata": {
        "colab": {
          "base_uri": "https://localhost:8080/",
          "height": 224
        },
        "id": "SLGK95w9tVvh",
        "outputId": "5e6210c2-b913-44dd-bcd2-14070a397ac8"
      },
      "execution_count": null,
      "outputs": [
        {
          "output_type": "stream",
          "name": "stdout",
          "text": [
            "Shape of augmented train_Treat_no_for_dis subset: (40, 5)\n"
          ]
        },
        {
          "output_type": "execute_result",
          "data": {
            "text/plain": [
              "                                            Sentence              Type  \\\n",
              "0  to effectively avoid unnecessary medicalising ...  TREAT_NO_FOR_DIS   \n",
              "1  to avoid further medicalising a self limiting ...  TREAT_NO_FOR_DIS   \n",
              "2  the subcutaneous fluid injection of irradiated...  TREAT_NO_FOR_DIS   \n",
              "3  broad evidence stands for double resistance to...  TREAT_NO_FOR_DIS   \n",
              "4  subcutaneous injection initiation of irradiate...  TREAT_NO_FOR_DIS   \n",
              "\n",
              "                                        Treatment  \\\n",
              "0                                    ANTIBIOTICS    \n",
              "1                                    ANTIBIOTICS    \n",
              "2   SUBCUTANEOUS INJECTION OF IRRADIATED LLC-IL2    \n",
              "3                       PERMETHRIN AND MALATHION    \n",
              "4   SUBCUTANEOUS INJECTION OF IRRADIATED LLC-IL2    \n",
              "\n",
              "                       Disease  Type_ENC  \n",
              "0                 SORE THROAT          3  \n",
              "1                 SORE THROAT          3  \n",
              "2   LUNG OR PERITONEAL TUMORS          3  \n",
              "3                   HEAD LICE          3  \n",
              "4   LUNG OR PERITONEAL TUMORS          3  "
            ],
            "text/html": [
              "\n",
              "  <div id=\"df-c8aab7a5-4921-4e4d-adb2-17f32fb5c7b0\">\n",
              "    <div class=\"colab-df-container\">\n",
              "      <div>\n",
              "<style scoped>\n",
              "    .dataframe tbody tr th:only-of-type {\n",
              "        vertical-align: middle;\n",
              "    }\n",
              "\n",
              "    .dataframe tbody tr th {\n",
              "        vertical-align: top;\n",
              "    }\n",
              "\n",
              "    .dataframe thead th {\n",
              "        text-align: right;\n",
              "    }\n",
              "</style>\n",
              "<table border=\"1\" class=\"dataframe\">\n",
              "  <thead>\n",
              "    <tr style=\"text-align: right;\">\n",
              "      <th></th>\n",
              "      <th>Sentence</th>\n",
              "      <th>Type</th>\n",
              "      <th>Treatment</th>\n",
              "      <th>Disease</th>\n",
              "      <th>Type_ENC</th>\n",
              "    </tr>\n",
              "  </thead>\n",
              "  <tbody>\n",
              "    <tr>\n",
              "      <th>0</th>\n",
              "      <td>to effectively avoid unnecessary medicalising ...</td>\n",
              "      <td>TREAT_NO_FOR_DIS</td>\n",
              "      <td>ANTIBIOTICS</td>\n",
              "      <td>SORE THROAT</td>\n",
              "      <td>3</td>\n",
              "    </tr>\n",
              "    <tr>\n",
              "      <th>1</th>\n",
              "      <td>to avoid further medicalising a self limiting ...</td>\n",
              "      <td>TREAT_NO_FOR_DIS</td>\n",
              "      <td>ANTIBIOTICS</td>\n",
              "      <td>SORE THROAT</td>\n",
              "      <td>3</td>\n",
              "    </tr>\n",
              "    <tr>\n",
              "      <th>2</th>\n",
              "      <td>the subcutaneous fluid injection of irradiated...</td>\n",
              "      <td>TREAT_NO_FOR_DIS</td>\n",
              "      <td>SUBCUTANEOUS INJECTION OF IRRADIATED LLC-IL2</td>\n",
              "      <td>LUNG OR PERITONEAL TUMORS</td>\n",
              "      <td>3</td>\n",
              "    </tr>\n",
              "    <tr>\n",
              "      <th>3</th>\n",
              "      <td>broad evidence stands for double resistance to...</td>\n",
              "      <td>TREAT_NO_FOR_DIS</td>\n",
              "      <td>PERMETHRIN AND MALATHION</td>\n",
              "      <td>HEAD LICE</td>\n",
              "      <td>3</td>\n",
              "    </tr>\n",
              "    <tr>\n",
              "      <th>4</th>\n",
              "      <td>subcutaneous injection initiation of irradiate...</td>\n",
              "      <td>TREAT_NO_FOR_DIS</td>\n",
              "      <td>SUBCUTANEOUS INJECTION OF IRRADIATED LLC-IL2</td>\n",
              "      <td>LUNG OR PERITONEAL TUMORS</td>\n",
              "      <td>3</td>\n",
              "    </tr>\n",
              "  </tbody>\n",
              "</table>\n",
              "</div>\n",
              "      <button class=\"colab-df-convert\" onclick=\"convertToInteractive('df-c8aab7a5-4921-4e4d-adb2-17f32fb5c7b0')\"\n",
              "              title=\"Convert this dataframe to an interactive table.\"\n",
              "              style=\"display:none;\">\n",
              "        \n",
              "  <svg xmlns=\"http://www.w3.org/2000/svg\" height=\"24px\"viewBox=\"0 0 24 24\"\n",
              "       width=\"24px\">\n",
              "    <path d=\"M0 0h24v24H0V0z\" fill=\"none\"/>\n",
              "    <path d=\"M18.56 5.44l.94 2.06.94-2.06 2.06-.94-2.06-.94-.94-2.06-.94 2.06-2.06.94zm-11 1L8.5 8.5l.94-2.06 2.06-.94-2.06-.94L8.5 2.5l-.94 2.06-2.06.94zm10 10l.94 2.06.94-2.06 2.06-.94-2.06-.94-.94-2.06-.94 2.06-2.06.94z\"/><path d=\"M17.41 7.96l-1.37-1.37c-.4-.4-.92-.59-1.43-.59-.52 0-1.04.2-1.43.59L10.3 9.45l-7.72 7.72c-.78.78-.78 2.05 0 2.83L4 21.41c.39.39.9.59 1.41.59.51 0 1.02-.2 1.41-.59l7.78-7.78 2.81-2.81c.8-.78.8-2.07 0-2.86zM5.41 20L4 18.59l7.72-7.72 1.47 1.35L5.41 20z\"/>\n",
              "  </svg>\n",
              "      </button>\n",
              "      \n",
              "  <style>\n",
              "    .colab-df-container {\n",
              "      display:flex;\n",
              "      flex-wrap:wrap;\n",
              "      gap: 12px;\n",
              "    }\n",
              "\n",
              "    .colab-df-convert {\n",
              "      background-color: #E8F0FE;\n",
              "      border: none;\n",
              "      border-radius: 50%;\n",
              "      cursor: pointer;\n",
              "      display: none;\n",
              "      fill: #1967D2;\n",
              "      height: 32px;\n",
              "      padding: 0 0 0 0;\n",
              "      width: 32px;\n",
              "    }\n",
              "\n",
              "    .colab-df-convert:hover {\n",
              "      background-color: #E2EBFA;\n",
              "      box-shadow: 0px 1px 2px rgba(60, 64, 67, 0.3), 0px 1px 3px 1px rgba(60, 64, 67, 0.15);\n",
              "      fill: #174EA6;\n",
              "    }\n",
              "\n",
              "    [theme=dark] .colab-df-convert {\n",
              "      background-color: #3B4455;\n",
              "      fill: #D2E3FC;\n",
              "    }\n",
              "\n",
              "    [theme=dark] .colab-df-convert:hover {\n",
              "      background-color: #434B5C;\n",
              "      box-shadow: 0px 1px 3px 1px rgba(0, 0, 0, 0.15);\n",
              "      filter: drop-shadow(0px 1px 2px rgba(0, 0, 0, 0.3));\n",
              "      fill: #FFFFFF;\n",
              "    }\n",
              "  </style>\n",
              "\n",
              "      <script>\n",
              "        const buttonEl =\n",
              "          document.querySelector('#df-c8aab7a5-4921-4e4d-adb2-17f32fb5c7b0 button.colab-df-convert');\n",
              "        buttonEl.style.display =\n",
              "          google.colab.kernel.accessAllowed ? 'block' : 'none';\n",
              "\n",
              "        async function convertToInteractive(key) {\n",
              "          const element = document.querySelector('#df-c8aab7a5-4921-4e4d-adb2-17f32fb5c7b0');\n",
              "          const dataTable =\n",
              "            await google.colab.kernel.invokeFunction('convertToInteractive',\n",
              "                                                     [key], {});\n",
              "          if (!dataTable) return;\n",
              "\n",
              "          const docLinkHtml = 'Like what you see? Visit the ' +\n",
              "            '<a target=\"_blank\" href=https://colab.research.google.com/notebooks/data_table.ipynb>data table notebook</a>'\n",
              "            + ' to learn more about interactive tables.';\n",
              "          element.innerHTML = '';\n",
              "          dataTable['output_type'] = 'display_data';\n",
              "          await google.colab.output.renderOutput(dataTable, element);\n",
              "          const docLink = document.createElement('div');\n",
              "          docLink.innerHTML = docLinkHtml;\n",
              "          element.appendChild(docLink);\n",
              "        }\n",
              "      </script>\n",
              "    </div>\n",
              "  </div>\n",
              "  "
            ]
          },
          "metadata": {},
          "execution_count": 39
        }
      ]
    },
    {
      "cell_type": "code",
      "source": [
        "aug_train_Side_EFF = augment_text(BioTrain,num_aug_samples=20,type_categ=1)   ## change samples to 0 for no augmentation"
      ],
      "metadata": {
        "colab": {
          "base_uri": "https://localhost:8080/"
        },
        "id": "q1XN6m9Syzyc",
        "outputId": "159b86c1-fb24-434f-c6dc-a36683aa314b"
      },
      "execution_count": null,
      "outputs": [
        {
          "output_type": "stream",
          "name": "stderr",
          "text": [
            "100%|██████████| 20/20 [00:32<00:00,  1.63s/it]\n"
          ]
        }
      ]
    },
    {
      "cell_type": "code",
      "source": [
        "aug_train_Vague = augment_text(BioTrain,num_aug_samples=20,type_categ=4)   ## change samples to 0 for no augmentation"
      ],
      "metadata": {
        "colab": {
          "base_uri": "https://localhost:8080/"
        },
        "id": "WixIJ0Kay0Qr",
        "outputId": "c3f35270-7b2f-486c-d61b-027ccdc64835"
      },
      "execution_count": null,
      "outputs": [
        {
          "output_type": "stream",
          "name": "stderr",
          "text": [
            "100%|██████████| 20/20 [00:20<00:00,  1.03s/it]\n"
          ]
        }
      ]
    },
    {
      "cell_type": "code",
      "source": [
        "aug_train_Prevent = augment_text(BioTrain,num_aug_samples=20,type_categ=0)   ## change samples to 0 for no augmentation"
      ],
      "metadata": {
        "colab": {
          "base_uri": "https://localhost:8080/"
        },
        "id": "BZ8B7pFGy4Jo",
        "outputId": "eca8813b-1fd5-47dd-e8f5-50edbd87646f"
      },
      "execution_count": null,
      "outputs": [
        {
          "output_type": "stream",
          "name": "stderr",
          "text": [
            "100%|██████████| 20/20 [00:29<00:00,  1.47s/it]\n"
          ]
        }
      ]
    },
    {
      "cell_type": "code",
      "source": [
        "from sklearn.utils import shuffle\n"
      ],
      "metadata": {
        "id": "T8g-fZIb6SX2"
      },
      "execution_count": null,
      "outputs": []
    },
    {
      "cell_type": "code",
      "source": [
        "aug_train_samples=shuffle(pd.concat([aug_train_Treat_no_for_dis,\n",
        "                                     aug_train_Side_EFF,\n",
        "                                     aug_train_Vague,\n",
        "                                     aug_train_Prevent]), random_state = 43).reset_index(drop=True)                                                        \n",
        "                                                    "
      ],
      "metadata": {
        "id": "8LIm6PlU_rSm"
      },
      "execution_count": null,
      "outputs": []
    },
    {
      "cell_type": "code",
      "source": [
        "print('Shape of concatenated aug_train_samples: {}'.format(aug_train_samples.shape))\n",
        "aug_train_samples.head()"
      ],
      "metadata": {
        "colab": {
          "base_uri": "https://localhost:8080/",
          "height": 224
        },
        "id": "vzRJOC5CAztY",
        "outputId": "6e09eb28-b005-4b20-89ce-01d76ad85cac"
      },
      "execution_count": null,
      "outputs": [
        {
          "output_type": "stream",
          "name": "stdout",
          "text": [
            "Shape of concatenated aug_train_samples: (100, 5)\n"
          ]
        },
        {
          "output_type": "execute_result",
          "data": {
            "text/plain": [
              "                                            Sentence              Type  \\\n",
              "0  double subcutaneous knockout injection of irra...  TREAT_NO_FOR_DIS   \n",
              "1  the subcutaneous fluid injection of irradiated...  TREAT_NO_FOR_DIS   \n",
              "2  to help avoid easily medicalising a self limit...  TREAT_NO_FOR_DIS   \n",
              "3  evidence for possible double resistance to the...  TREAT_NO_FOR_DIS   \n",
              "4  initially, all eyes tested that had acquired o...          SIDE_EFF   \n",
              "\n",
              "                                        Treatment  \\\n",
              "0   SUBCUTANEOUS INJECTION OF IRRADIATED LLC-IL2    \n",
              "1   SUBCUTANEOUS INJECTION OF IRRADIATED LLC-IL2    \n",
              "2                                    ANTIBIOTICS    \n",
              "3                       PERMETHRIN AND MALATHION    \n",
              "4                                     VITRECTOMY    \n",
              "\n",
              "                       Disease  Type_ENC  \n",
              "0   LUNG OR PERITONEAL TUMORS          3  \n",
              "1   LUNG OR PERITONEAL TUMORS          3  \n",
              "2                 SORE THROAT          3  \n",
              "3                   HEAD LICE          3  \n",
              "4               OPACIFICATION          1  "
            ],
            "text/html": [
              "\n",
              "  <div id=\"df-f4e54d6e-e092-43a8-b50a-84351a185586\">\n",
              "    <div class=\"colab-df-container\">\n",
              "      <div>\n",
              "<style scoped>\n",
              "    .dataframe tbody tr th:only-of-type {\n",
              "        vertical-align: middle;\n",
              "    }\n",
              "\n",
              "    .dataframe tbody tr th {\n",
              "        vertical-align: top;\n",
              "    }\n",
              "\n",
              "    .dataframe thead th {\n",
              "        text-align: right;\n",
              "    }\n",
              "</style>\n",
              "<table border=\"1\" class=\"dataframe\">\n",
              "  <thead>\n",
              "    <tr style=\"text-align: right;\">\n",
              "      <th></th>\n",
              "      <th>Sentence</th>\n",
              "      <th>Type</th>\n",
              "      <th>Treatment</th>\n",
              "      <th>Disease</th>\n",
              "      <th>Type_ENC</th>\n",
              "    </tr>\n",
              "  </thead>\n",
              "  <tbody>\n",
              "    <tr>\n",
              "      <th>0</th>\n",
              "      <td>double subcutaneous knockout injection of irra...</td>\n",
              "      <td>TREAT_NO_FOR_DIS</td>\n",
              "      <td>SUBCUTANEOUS INJECTION OF IRRADIATED LLC-IL2</td>\n",
              "      <td>LUNG OR PERITONEAL TUMORS</td>\n",
              "      <td>3</td>\n",
              "    </tr>\n",
              "    <tr>\n",
              "      <th>1</th>\n",
              "      <td>the subcutaneous fluid injection of irradiated...</td>\n",
              "      <td>TREAT_NO_FOR_DIS</td>\n",
              "      <td>SUBCUTANEOUS INJECTION OF IRRADIATED LLC-IL2</td>\n",
              "      <td>LUNG OR PERITONEAL TUMORS</td>\n",
              "      <td>3</td>\n",
              "    </tr>\n",
              "    <tr>\n",
              "      <th>2</th>\n",
              "      <td>to help avoid easily medicalising a self limit...</td>\n",
              "      <td>TREAT_NO_FOR_DIS</td>\n",
              "      <td>ANTIBIOTICS</td>\n",
              "      <td>SORE THROAT</td>\n",
              "      <td>3</td>\n",
              "    </tr>\n",
              "    <tr>\n",
              "      <th>3</th>\n",
              "      <td>evidence for possible double resistance to the...</td>\n",
              "      <td>TREAT_NO_FOR_DIS</td>\n",
              "      <td>PERMETHRIN AND MALATHION</td>\n",
              "      <td>HEAD LICE</td>\n",
              "      <td>3</td>\n",
              "    </tr>\n",
              "    <tr>\n",
              "      <th>4</th>\n",
              "      <td>initially, all eyes tested that had acquired o...</td>\n",
              "      <td>SIDE_EFF</td>\n",
              "      <td>VITRECTOMY</td>\n",
              "      <td>OPACIFICATION</td>\n",
              "      <td>1</td>\n",
              "    </tr>\n",
              "  </tbody>\n",
              "</table>\n",
              "</div>\n",
              "      <button class=\"colab-df-convert\" onclick=\"convertToInteractive('df-f4e54d6e-e092-43a8-b50a-84351a185586')\"\n",
              "              title=\"Convert this dataframe to an interactive table.\"\n",
              "              style=\"display:none;\">\n",
              "        \n",
              "  <svg xmlns=\"http://www.w3.org/2000/svg\" height=\"24px\"viewBox=\"0 0 24 24\"\n",
              "       width=\"24px\">\n",
              "    <path d=\"M0 0h24v24H0V0z\" fill=\"none\"/>\n",
              "    <path d=\"M18.56 5.44l.94 2.06.94-2.06 2.06-.94-2.06-.94-.94-2.06-.94 2.06-2.06.94zm-11 1L8.5 8.5l.94-2.06 2.06-.94-2.06-.94L8.5 2.5l-.94 2.06-2.06.94zm10 10l.94 2.06.94-2.06 2.06-.94-2.06-.94-.94-2.06-.94 2.06-2.06.94z\"/><path d=\"M17.41 7.96l-1.37-1.37c-.4-.4-.92-.59-1.43-.59-.52 0-1.04.2-1.43.59L10.3 9.45l-7.72 7.72c-.78.78-.78 2.05 0 2.83L4 21.41c.39.39.9.59 1.41.59.51 0 1.02-.2 1.41-.59l7.78-7.78 2.81-2.81c.8-.78.8-2.07 0-2.86zM5.41 20L4 18.59l7.72-7.72 1.47 1.35L5.41 20z\"/>\n",
              "  </svg>\n",
              "      </button>\n",
              "      \n",
              "  <style>\n",
              "    .colab-df-container {\n",
              "      display:flex;\n",
              "      flex-wrap:wrap;\n",
              "      gap: 12px;\n",
              "    }\n",
              "\n",
              "    .colab-df-convert {\n",
              "      background-color: #E8F0FE;\n",
              "      border: none;\n",
              "      border-radius: 50%;\n",
              "      cursor: pointer;\n",
              "      display: none;\n",
              "      fill: #1967D2;\n",
              "      height: 32px;\n",
              "      padding: 0 0 0 0;\n",
              "      width: 32px;\n",
              "    }\n",
              "\n",
              "    .colab-df-convert:hover {\n",
              "      background-color: #E2EBFA;\n",
              "      box-shadow: 0px 1px 2px rgba(60, 64, 67, 0.3), 0px 1px 3px 1px rgba(60, 64, 67, 0.15);\n",
              "      fill: #174EA6;\n",
              "    }\n",
              "\n",
              "    [theme=dark] .colab-df-convert {\n",
              "      background-color: #3B4455;\n",
              "      fill: #D2E3FC;\n",
              "    }\n",
              "\n",
              "    [theme=dark] .colab-df-convert:hover {\n",
              "      background-color: #434B5C;\n",
              "      box-shadow: 0px 1px 3px 1px rgba(0, 0, 0, 0.15);\n",
              "      filter: drop-shadow(0px 1px 2px rgba(0, 0, 0, 0.3));\n",
              "      fill: #FFFFFF;\n",
              "    }\n",
              "  </style>\n",
              "\n",
              "      <script>\n",
              "        const buttonEl =\n",
              "          document.querySelector('#df-f4e54d6e-e092-43a8-b50a-84351a185586 button.colab-df-convert');\n",
              "        buttonEl.style.display =\n",
              "          google.colab.kernel.accessAllowed ? 'block' : 'none';\n",
              "\n",
              "        async function convertToInteractive(key) {\n",
              "          const element = document.querySelector('#df-f4e54d6e-e092-43a8-b50a-84351a185586');\n",
              "          const dataTable =\n",
              "            await google.colab.kernel.invokeFunction('convertToInteractive',\n",
              "                                                     [key], {});\n",
              "          if (!dataTable) return;\n",
              "\n",
              "          const docLinkHtml = 'Like what you see? Visit the ' +\n",
              "            '<a target=\"_blank\" href=https://colab.research.google.com/notebooks/data_table.ipynb>data table notebook</a>'\n",
              "            + ' to learn more about interactive tables.';\n",
              "          element.innerHTML = '';\n",
              "          dataTable['output_type'] = 'display_data';\n",
              "          await google.colab.output.renderOutput(dataTable, element);\n",
              "          const docLink = document.createElement('div');\n",
              "          docLink.innerHTML = docLinkHtml;\n",
              "          element.appendChild(docLink);\n",
              "        }\n",
              "      </script>\n",
              "    </div>\n",
              "  </div>\n",
              "  "
            ]
          },
          "metadata": {},
          "execution_count": 45
        }
      ]
    },
    {
      "cell_type": "code",
      "source": [
        "aug_BioTrain=shuffle(pd.concat([aug_train_samples,\n",
        "                                         BioTrain]), random_state = 43).reset_index(drop=True) "
      ],
      "metadata": {
        "id": "JIJlpXsUVhxN"
      },
      "execution_count": null,
      "outputs": []
    },
    {
      "cell_type": "code",
      "source": [
        "print('Shape of combined augmented and original Biotrain: {}'.format(aug_BioTrain.shape))\n",
        "aug_BioTrain.head()"
      ],
      "metadata": {
        "colab": {
          "base_uri": "https://localhost:8080/",
          "height": 224
        },
        "id": "qFGLy96VV-qZ",
        "outputId": "3bd4331a-d019-4d11-9ebe-05599b02d414"
      },
      "execution_count": null,
      "outputs": [
        {
          "output_type": "stream",
          "name": "stdout",
          "text": [
            "Shape of combined augmented and original Biotrain: (871, 5)\n"
          ]
        },
        {
          "output_type": "execute_result",
          "data": {
            "text/plain": [
              "                                            Sentence              Type  \\\n",
              "0   A comparison of  noninvasive positive-pressur...     TREAT_FOR_DIS   \n",
              "1   Acute effect of  lorazepam  on respiratory mu...             VAGUE   \n",
              "2   The rationale of  extended resection  for  co...     TREAT_FOR_DIS   \n",
              "3    Oral contraceptives  ,  thrombosis  , and cy...             VAGUE   \n",
              "4  to avoid future medicalising from a self limit...  TREAT_NO_FOR_DIS   \n",
              "\n",
              "                               Treatment  \\\n",
              "0   CONVENTIONAL MECHANICAL VENTILATION    \n",
              "1                             LORAZEPAM    \n",
              "2                    EXTENDED RESECTION    \n",
              "3                   ORAL CONTRACEPTIVES    \n",
              "4                           ANTIBIOTICS    \n",
              "\n",
              "                                   Disease  Type_ENC  \n",
              "0               ACUTE RESPIRATORY FAILURE          2  \n",
              "1   CHRONIC OBSTRUCTIVE PULMONARY DISEASE          4  \n",
              "2   COMPLICATED CANCER OF THE LARGE BOWEL          2  \n",
              "3                              THROMBOSIS          4  \n",
              "4                             SORE THROAT          3  "
            ],
            "text/html": [
              "\n",
              "  <div id=\"df-027cc9f7-f2d5-42a0-be83-b53cb818af26\">\n",
              "    <div class=\"colab-df-container\">\n",
              "      <div>\n",
              "<style scoped>\n",
              "    .dataframe tbody tr th:only-of-type {\n",
              "        vertical-align: middle;\n",
              "    }\n",
              "\n",
              "    .dataframe tbody tr th {\n",
              "        vertical-align: top;\n",
              "    }\n",
              "\n",
              "    .dataframe thead th {\n",
              "        text-align: right;\n",
              "    }\n",
              "</style>\n",
              "<table border=\"1\" class=\"dataframe\">\n",
              "  <thead>\n",
              "    <tr style=\"text-align: right;\">\n",
              "      <th></th>\n",
              "      <th>Sentence</th>\n",
              "      <th>Type</th>\n",
              "      <th>Treatment</th>\n",
              "      <th>Disease</th>\n",
              "      <th>Type_ENC</th>\n",
              "    </tr>\n",
              "  </thead>\n",
              "  <tbody>\n",
              "    <tr>\n",
              "      <th>0</th>\n",
              "      <td>A comparison of  noninvasive positive-pressur...</td>\n",
              "      <td>TREAT_FOR_DIS</td>\n",
              "      <td>CONVENTIONAL MECHANICAL VENTILATION</td>\n",
              "      <td>ACUTE RESPIRATORY FAILURE</td>\n",
              "      <td>2</td>\n",
              "    </tr>\n",
              "    <tr>\n",
              "      <th>1</th>\n",
              "      <td>Acute effect of  lorazepam  on respiratory mu...</td>\n",
              "      <td>VAGUE</td>\n",
              "      <td>LORAZEPAM</td>\n",
              "      <td>CHRONIC OBSTRUCTIVE PULMONARY DISEASE</td>\n",
              "      <td>4</td>\n",
              "    </tr>\n",
              "    <tr>\n",
              "      <th>2</th>\n",
              "      <td>The rationale of  extended resection  for  co...</td>\n",
              "      <td>TREAT_FOR_DIS</td>\n",
              "      <td>EXTENDED RESECTION</td>\n",
              "      <td>COMPLICATED CANCER OF THE LARGE BOWEL</td>\n",
              "      <td>2</td>\n",
              "    </tr>\n",
              "    <tr>\n",
              "      <th>3</th>\n",
              "      <td>Oral contraceptives  ,  thrombosis  , and cy...</td>\n",
              "      <td>VAGUE</td>\n",
              "      <td>ORAL CONTRACEPTIVES</td>\n",
              "      <td>THROMBOSIS</td>\n",
              "      <td>4</td>\n",
              "    </tr>\n",
              "    <tr>\n",
              "      <th>4</th>\n",
              "      <td>to avoid future medicalising from a self limit...</td>\n",
              "      <td>TREAT_NO_FOR_DIS</td>\n",
              "      <td>ANTIBIOTICS</td>\n",
              "      <td>SORE THROAT</td>\n",
              "      <td>3</td>\n",
              "    </tr>\n",
              "  </tbody>\n",
              "</table>\n",
              "</div>\n",
              "      <button class=\"colab-df-convert\" onclick=\"convertToInteractive('df-027cc9f7-f2d5-42a0-be83-b53cb818af26')\"\n",
              "              title=\"Convert this dataframe to an interactive table.\"\n",
              "              style=\"display:none;\">\n",
              "        \n",
              "  <svg xmlns=\"http://www.w3.org/2000/svg\" height=\"24px\"viewBox=\"0 0 24 24\"\n",
              "       width=\"24px\">\n",
              "    <path d=\"M0 0h24v24H0V0z\" fill=\"none\"/>\n",
              "    <path d=\"M18.56 5.44l.94 2.06.94-2.06 2.06-.94-2.06-.94-.94-2.06-.94 2.06-2.06.94zm-11 1L8.5 8.5l.94-2.06 2.06-.94-2.06-.94L8.5 2.5l-.94 2.06-2.06.94zm10 10l.94 2.06.94-2.06 2.06-.94-2.06-.94-.94-2.06-.94 2.06-2.06.94z\"/><path d=\"M17.41 7.96l-1.37-1.37c-.4-.4-.92-.59-1.43-.59-.52 0-1.04.2-1.43.59L10.3 9.45l-7.72 7.72c-.78.78-.78 2.05 0 2.83L4 21.41c.39.39.9.59 1.41.59.51 0 1.02-.2 1.41-.59l7.78-7.78 2.81-2.81c.8-.78.8-2.07 0-2.86zM5.41 20L4 18.59l7.72-7.72 1.47 1.35L5.41 20z\"/>\n",
              "  </svg>\n",
              "      </button>\n",
              "      \n",
              "  <style>\n",
              "    .colab-df-container {\n",
              "      display:flex;\n",
              "      flex-wrap:wrap;\n",
              "      gap: 12px;\n",
              "    }\n",
              "\n",
              "    .colab-df-convert {\n",
              "      background-color: #E8F0FE;\n",
              "      border: none;\n",
              "      border-radius: 50%;\n",
              "      cursor: pointer;\n",
              "      display: none;\n",
              "      fill: #1967D2;\n",
              "      height: 32px;\n",
              "      padding: 0 0 0 0;\n",
              "      width: 32px;\n",
              "    }\n",
              "\n",
              "    .colab-df-convert:hover {\n",
              "      background-color: #E2EBFA;\n",
              "      box-shadow: 0px 1px 2px rgba(60, 64, 67, 0.3), 0px 1px 3px 1px rgba(60, 64, 67, 0.15);\n",
              "      fill: #174EA6;\n",
              "    }\n",
              "\n",
              "    [theme=dark] .colab-df-convert {\n",
              "      background-color: #3B4455;\n",
              "      fill: #D2E3FC;\n",
              "    }\n",
              "\n",
              "    [theme=dark] .colab-df-convert:hover {\n",
              "      background-color: #434B5C;\n",
              "      box-shadow: 0px 1px 3px 1px rgba(0, 0, 0, 0.15);\n",
              "      filter: drop-shadow(0px 1px 2px rgba(0, 0, 0, 0.3));\n",
              "      fill: #FFFFFF;\n",
              "    }\n",
              "  </style>\n",
              "\n",
              "      <script>\n",
              "        const buttonEl =\n",
              "          document.querySelector('#df-027cc9f7-f2d5-42a0-be83-b53cb818af26 button.colab-df-convert');\n",
              "        buttonEl.style.display =\n",
              "          google.colab.kernel.accessAllowed ? 'block' : 'none';\n",
              "\n",
              "        async function convertToInteractive(key) {\n",
              "          const element = document.querySelector('#df-027cc9f7-f2d5-42a0-be83-b53cb818af26');\n",
              "          const dataTable =\n",
              "            await google.colab.kernel.invokeFunction('convertToInteractive',\n",
              "                                                     [key], {});\n",
              "          if (!dataTable) return;\n",
              "\n",
              "          const docLinkHtml = 'Like what you see? Visit the ' +\n",
              "            '<a target=\"_blank\" href=https://colab.research.google.com/notebooks/data_table.ipynb>data table notebook</a>'\n",
              "            + ' to learn more about interactive tables.';\n",
              "          element.innerHTML = '';\n",
              "          dataTable['output_type'] = 'display_data';\n",
              "          await google.colab.output.renderOutput(dataTable, element);\n",
              "          const docLink = document.createElement('div');\n",
              "          docLink.innerHTML = docLinkHtml;\n",
              "          element.appendChild(docLink);\n",
              "        }\n",
              "      </script>\n",
              "    </div>\n",
              "  </div>\n",
              "  "
            ]
          },
          "metadata": {},
          "execution_count": 47
        }
      ]
    },
    {
      "cell_type": "markdown",
      "source": [
        "### New Train data value counts"
      ],
      "metadata": {
        "id": "HInSVsrazJNk"
      }
    },
    {
      "cell_type": "code",
      "source": [
        "aug_BioTrain['Type'].value_counts()"
      ],
      "metadata": {
        "colab": {
          "base_uri": "https://localhost:8080/"
        },
        "id": "pxu862T8WdJ6",
        "outputId": "0a61b2a8-5f0c-44b5-dbab-58f23402f290"
      },
      "execution_count": null,
      "outputs": [
        {
          "output_type": "execute_result",
          "data": {
            "text/plain": [
              "TREAT_FOR_DIS       665\n",
              "PREVENT              70\n",
              "VAGUE                50\n",
              "TREAT_NO_FOR_DIS     43\n",
              "SIDE_EFF             43\n",
              "Name: Type, dtype: int64"
            ]
          },
          "metadata": {},
          "execution_count": 48
        }
      ]
    },
    {
      "cell_type": "code",
      "source": [
        "x=aug_BioTrain['Type'].value_counts()\n",
        "sns.barplot(x.index,x)\n",
        "plt.xticks(rotation=60)\n",
        "plt.gca().set_ylabel('Samples')"
      ],
      "metadata": {
        "colab": {
          "base_uri": "https://localhost:8080/",
          "height": 364
        },
        "id": "lfV2ntDKWeCW",
        "outputId": "7075e691-f783-4758-a3b1-257de34613ac"
      },
      "execution_count": null,
      "outputs": [
        {
          "output_type": "execute_result",
          "data": {
            "text/plain": [
              "Text(0, 0.5, 'Samples')"
            ]
          },
          "metadata": {},
          "execution_count": 49
        },
        {
          "output_type": "display_data",
          "data": {
            "text/plain": [
              "<Figure size 432x288 with 1 Axes>"
            ],
            "image/png": "[encoded data removed]"
          },
          "metadata": {
            "needs_background": "light"
          }
        }
      ]
    },
    {
      "cell_type": "markdown",
      "source": [
        "## Model Development and Testing"
      ],
      "metadata": {
        "id": "aCZLtJaoeX5A"
      }
    },
    {
      "cell_type": "markdown",
      "source": [
        "### LSTM Models"
      ],
      "metadata": {
        "id": "eC5wF-VcODo7"
      }
    },
    {
      "cell_type": "markdown",
      "source": [
        "#### Standard setup"
      ],
      "metadata": {
        "id": "ROgg6E2FRTYw"
      }
    },
    {
      "cell_type": "code",
      "source": [
        "from keras.preprocessing.text import Tokenizer\n",
        "from keras.preprocessing import sequence\n",
        "from tensorflow.keras.utils import to_categorical # don't think i use this.\n",
        "# from tensorflow.keras.utils import np_utils"
      ],
      "metadata": {
        "id": "lgpChb9QObmQ"
      },
      "execution_count": null,
      "outputs": []
    },
    {
      "cell_type": "code",
      "source": [
        "from keras.models import Model\n",
        "from keras.layers import Bidirectional, LSTM, Activation, Dense, Dropout, Input, Embedding"
      ],
      "metadata": {
        "id": "ARZ-LWWtOjJ0"
      },
      "execution_count": null,
      "outputs": []
    },
    {
      "cell_type": "code",
      "source": [
        "\n",
        "n_most_common_words = 20000 # vocabulary size\n",
        "max_len = 100\n",
        "\n",
        "# Initialization\n",
        "tokenizer = Tokenizer(num_words=n_most_common_words, filters='!\"#$%&()*+,-./:;=?@[]^_`{|}~', lower=True)\n",
        "\n",
        "# Fit \n",
        "tokenizer.fit_on_texts(aug_BioTrain['Sentence'].values)\n",
        "word_index = tokenizer.word_index\n",
        "\n",
        "print('Found %s unique tokens.' % len(word_index))\n",
        "\n",
        "# Transformation\n",
        "x_train_sequences = tokenizer.texts_to_sequences(aug_BioTrain['Sentence'].values)\n",
        "x_test_sequences = tokenizer.texts_to_sequences(BioTest['Sentence'].values)\n",
        "\n",
        "\n",
        "# Padding\n",
        "X_train = sequence.pad_sequences(x_train_sequences, maxlen=max_len)\n",
        "X_test = sequence.pad_sequences(x_test_sequences, maxlen=max_len)"
      ],
      "metadata": {
        "id": "14Oqzf_KOn2W",
        "colab": {
          "base_uri": "https://localhost:8080/"
        },
        "outputId": "28879777-ea05-47e5-cff9-35e7791da8ef"
      },
      "execution_count": null,
      "outputs": [
        {
          "output_type": "stream",
          "name": "stdout",
          "text": [
            "Found 3618 unique tokens.\n"
          ]
        }
      ]
    },
    {
      "cell_type": "code",
      "source": [
        "y_train = to_categorical(aug_BioTrain['Type_ENC'] , num_classes=num_relations) # from keras.utils.np_utils\n",
        "# y_val = to_categorical(BioVal['Type_ENC'] , num_classes=num_relations)\n",
        "y_test = to_categorical(BioTest['Type_ENC'] , num_classes=num_relations)"
      ],
      "metadata": {
        "id": "KyG3NYljOx9Q"
      },
      "execution_count": null,
      "outputs": []
    },
    {
      "cell_type": "code",
      "source": [
        "rounded_y_test=np.argmax(y_test, axis=1)\n",
        "np.unique(rounded_y_test)"
      ],
      "metadata": {
        "id": "-5McuanaRpha",
        "colab": {
          "base_uri": "https://localhost:8080/"
        },
        "outputId": "3b0a5e68-1077-42d3-af09-82096cdfed54"
      },
      "execution_count": null,
      "outputs": [
        {
          "output_type": "execute_result",
          "data": {
            "text/plain": [
              "array([0, 1, 2, 3, 4])"
            ]
          },
          "metadata": {},
          "execution_count": 54
        }
      ]
    },
    {
      "cell_type": "markdown",
      "source": [
        "#### 1 layer LSTM"
      ],
      "metadata": {
        "id": "075q-HYoTQBm"
      }
    },
    {
      "cell_type": "markdown",
      "source": [
        "##### Model setup"
      ],
      "metadata": {
        "id": "GPZ0PeHTTUCw"
      }
    },
    {
      "cell_type": "code",
      "source": [
        "\n",
        "embedding_size = 300\n",
        "model_lstm_1 = keras.models.Sequential()\n",
        "model_lstm_1.add(Embedding(n_most_common_words, embedding_size, input_length=X_train.shape[1]))\n",
        "model_lstm_1.add(LSTM(128))\n",
        "model_lstm_1.add(Dense(y_train.shape[1], activation='softmax'))\n",
        "model_lstm_1.compile(optimizer='adam', loss='categorical_crossentropy', metrics=['accuracy'])\n",
        "print(model_lstm_1.summary())"
      ],
      "metadata": {
        "id": "pPYGnsIfTrcq",
        "colab": {
          "base_uri": "https://localhost:8080/"
        },
        "outputId": "cb5c4378-9451-415f-eb68-3857108ae54e"
      },
      "execution_count": null,
      "outputs": [
        {
          "output_type": "stream",
          "name": "stdout",
          "text": [
            "Model: \"sequential\"\n",
            "_________________________________________________________________\n",
            " Layer (type)                Output Shape              Param #   \n",
            "=================================================================\n",
            " embedding (Embedding)       (None, 100, 300)          6000000   \n",
            "                                                                 \n",
            " lstm (LSTM)                 (None, 128)               219648    \n",
            "                                                                 \n",
            " dense (Dense)               (None, 5)                 645       \n",
            "                                                                 \n",
            "=================================================================\n",
            "Total params: 6,220,293\n",
            "Trainable params: 6,220,293\n",
            "Non-trainable params: 0\n",
            "_________________________________________________________________\n",
            "None\n"
          ]
        }
      ]
    },
    {
      "cell_type": "code",
      "source": [
        "keras.utils.plot_model(model_lstm_1, to_file=\"my_ref3_model.png\", show_shapes=True)"
      ],
      "metadata": {
        "id": "37uoPxyGTrSL",
        "colab": {
          "base_uri": "https://localhost:8080/",
          "height": 422
        },
        "outputId": "c012b7fb-a06c-4c0f-df91-0c6d9ed0c0c5"
      },
      "execution_count": null,
      "outputs": [
        {
          "output_type": "execute_result",
          "data": {
            "text/plain": [
              "<IPython.core.display.Image object>"
            ],
            "image/png": "[encoded data removed]"
          },
          "metadata": {},
          "execution_count": 56
        }
      ]
    },
    {
      "cell_type": "markdown",
      "source": [
        "##### Training and validation loss and accuracy"
      ],
      "metadata": {
        "id": "iYBD3e48TT2f"
      }
    },
    {
      "cell_type": "code",
      "source": [
        "history = model_lstm_1.fit(X_train, y_train, epochs=20, batch_size=128, validation_data=(X_test,y_test))"
      ],
      "metadata": {
        "id": "w8j23AirTtgi",
        "colab": {
          "base_uri": "https://localhost:8080/"
        },
        "outputId": "16c3186b-2e57-42c0-8b93-64b5e27dd52d"
      },
      "execution_count": null,
      "outputs": [
        {
          "output_type": "stream",
          "name": "stdout",
          "text": [
            "Epoch 1/20\n",
            "7/7 [==============================] - 7s 106ms/step - loss: 1.4199 - accuracy: 0.6751 - val_loss: 0.6798 - val_accuracy: 0.8549\n",
            "Epoch 2/20\n",
            "7/7 [==============================] - 0s 24ms/step - loss: 0.8788 - accuracy: 0.7635 - val_loss: 0.6342 - val_accuracy: 0.8549\n",
            "Epoch 3/20\n",
            "7/7 [==============================] - 0s 24ms/step - loss: 0.7670 - accuracy: 0.7635 - val_loss: 0.6086 - val_accuracy: 0.8549\n",
            "Epoch 4/20\n",
            "7/7 [==============================] - 0s 20ms/step - loss: 0.6475 - accuracy: 0.7784 - val_loss: 0.5758 - val_accuracy: 0.8549\n",
            "Epoch 5/20\n",
            "7/7 [==============================] - 0s 20ms/step - loss: 0.4984 - accuracy: 0.8703 - val_loss: 0.5671 - val_accuracy: 0.8549\n",
            "Epoch 6/20\n",
            "7/7 [==============================] - 0s 18ms/step - loss: 0.3744 - accuracy: 0.9104 - val_loss: 0.5181 - val_accuracy: 0.8497\n",
            "Epoch 7/20\n",
            "7/7 [==============================] - 0s 19ms/step - loss: 0.2845 - accuracy: 0.9380 - val_loss: 0.6307 - val_accuracy: 0.8446\n",
            "Epoch 8/20\n",
            "7/7 [==============================] - 0s 18ms/step - loss: 0.2141 - accuracy: 0.9690 - val_loss: 0.7150 - val_accuracy: 0.8497\n",
            "Epoch 9/20\n",
            "7/7 [==============================] - 0s 19ms/step - loss: 0.1507 - accuracy: 0.9897 - val_loss: 0.6371 - val_accuracy: 0.8549\n",
            "Epoch 10/20\n",
            "7/7 [==============================] - 0s 19ms/step - loss: 0.0905 - accuracy: 0.9977 - val_loss: 0.7209 - val_accuracy: 0.8497\n",
            "Epoch 11/20\n",
            "7/7 [==============================] - 0s 19ms/step - loss: 0.0418 - accuracy: 1.0000 - val_loss: 0.8019 - val_accuracy: 0.8394\n",
            "Epoch 12/20\n",
            "7/7 [==============================] - 0s 18ms/step - loss: 0.0207 - accuracy: 1.0000 - val_loss: 0.7767 - val_accuracy: 0.8342\n",
            "Epoch 13/20\n",
            "7/7 [==============================] - 0s 18ms/step - loss: 0.0100 - accuracy: 1.0000 - val_loss: 0.7964 - val_accuracy: 0.8290\n",
            "Epoch 14/20\n",
            "7/7 [==============================] - 0s 18ms/step - loss: 0.0085 - accuracy: 0.9989 - val_loss: 0.8144 - val_accuracy: 0.8290\n",
            "Epoch 15/20\n",
            "7/7 [==============================] - 0s 19ms/step - loss: 0.0080 - accuracy: 0.9989 - val_loss: 0.8750 - val_accuracy: 0.8497\n",
            "Epoch 16/20\n",
            "7/7 [==============================] - 0s 20ms/step - loss: 0.0044 - accuracy: 1.0000 - val_loss: 0.9015 - val_accuracy: 0.8549\n",
            "Epoch 17/20\n",
            "7/7 [==============================] - 0s 18ms/step - loss: 0.0028 - accuracy: 1.0000 - val_loss: 0.8577 - val_accuracy: 0.8394\n",
            "Epoch 18/20\n",
            "7/7 [==============================] - 0s 18ms/step - loss: 0.0022 - accuracy: 1.0000 - val_loss: 0.8931 - val_accuracy: 0.8394\n",
            "Epoch 19/20\n",
            "7/7 [==============================] - 0s 19ms/step - loss: 0.0019 - accuracy: 1.0000 - val_loss: 0.8969 - val_accuracy: 0.8446\n",
            "Epoch 20/20\n",
            "7/7 [==============================] - 0s 20ms/step - loss: 0.0015 - accuracy: 1.0000 - val_loss: 0.9073 - val_accuracy: 0.8446\n"
          ]
        }
      ]
    },
    {
      "cell_type": "code",
      "source": [
        "val_loss, val_acc = model_lstm_1.evaluate(X_test, y_test)\n",
        "print('Validation Loss:', val_loss)\n",
        "print('Validation Accuracy:', val_acc)"
      ],
      "metadata": {
        "id": "DJppvyOVTtYa",
        "colab": {
          "base_uri": "https://localhost:8080/"
        },
        "outputId": "dec2f0e0-6acc-4b9d-e744-68a7b1ac552c"
      },
      "execution_count": null,
      "outputs": [
        {
          "output_type": "stream",
          "name": "stdout",
          "text": [
            "7/7 [==============================] - 0s 17ms/step - loss: 0.9073 - accuracy: 0.8446\n",
            "Validation Loss: 0.9073234796524048\n",
            "Validation Accuracy: 0.8445596098899841\n"
          ]
        }
      ]
    },
    {
      "cell_type": "code",
      "source": [
        "plt.figure(figsize=(16, 6))\n",
        "plt.subplot(1, 2, 1)\n",
        "plot_graphs(history, 'accuracy')\n",
        "plt.subplot(1, 2, 2)\n",
        "plot_graphs(history, 'loss')"
      ],
      "metadata": {
        "id": "J0wyoX_7TtOl",
        "colab": {
          "base_uri": "https://localhost:8080/",
          "height": 387
        },
        "outputId": "b02003f1-16fd-40d0-d5ee-fdbc596bbbb2"
      },
      "execution_count": null,
      "outputs": [
        {
          "output_type": "display_data",
          "data": {
            "text/plain": [
              "<Figure size 1152x432 with 2 Axes>"
            ],
            "image/png": "[encoded data removed]"
          },
          "metadata": {
            "needs_background": "light"
          }
        }
      ]
    },
    {
      "cell_type": "code",
      "source": [
        "print(model_lstm_1.summary())"
      ],
      "metadata": {
        "id": "Uj8jWD-7uNXm",
        "colab": {
          "base_uri": "https://localhost:8080/"
        },
        "outputId": "310f9d37-454d-4448-87dc-3dbcc712ec1b"
      },
      "execution_count": null,
      "outputs": [
        {
          "output_type": "stream",
          "name": "stdout",
          "text": [
            "Model: \"sequential\"\n",
            "_________________________________________________________________\n",
            " Layer (type)                Output Shape              Param #   \n",
            "=================================================================\n",
            " embedding (Embedding)       (None, 100, 300)          6000000   \n",
            "                                                                 \n",
            " lstm (LSTM)                 (None, 128)               219648    \n",
            "                                                                 \n",
            " dense (Dense)               (None, 5)                 645       \n",
            "                                                                 \n",
            "=================================================================\n",
            "Total params: 6,220,293\n",
            "Trainable params: 6,220,293\n",
            "Non-trainable params: 0\n",
            "_________________________________________________________________\n",
            "None\n"
          ]
        }
      ]
    },
    {
      "cell_type": "markdown",
      "source": [
        "##### Confusion matrix and classification report"
      ],
      "metadata": {
        "id": "ZVkZmXTMTTjR"
      }
    },
    {
      "cell_type": "code",
      "source": [
        "print(\"Categorical Mapping: \", integer_mapping)"
      ],
      "metadata": {
        "id": "f5VVusq5TvHY",
        "colab": {
          "base_uri": "https://localhost:8080/"
        },
        "outputId": "cad3722e-54b2-42df-e5b8-b0c3718d12d5"
      },
      "execution_count": null,
      "outputs": [
        {
          "output_type": "stream",
          "name": "stdout",
          "text": [
            "Categorical Mapping:  {'PREVENT': 0, 'SIDE_EFF': 1, 'TREAT_FOR_DIS': 2, 'TREAT_NO_FOR_DIS': 3, 'VAGUE': 4}\n"
          ]
        }
      ]
    },
    {
      "cell_type": "code",
      "source": [
        "\n",
        "prediction_probas = model_lstm_1.predict(X_test) \n",
        "predictions = np.argmax(prediction_probas, axis=1)\n",
        "\n",
        "conf_matrix = confusion_matrix(rounded_y_test, predictions)\n",
        "\n",
        "fig, ax = plt.subplots(figsize =(10,10))\n",
        "\n",
        "sns.heatmap(conf_matrix, annot=True, fmt=\"d\");\n",
        "\n",
        "plt.title('Heatmap of confusion matrix') \n",
        "plt.xlabel('Predicted') \n",
        "plt.ylabel('Actual') \n",
        "\n",
        "plt.show()"
      ],
      "metadata": {
        "id": "r9Rtwut_TvBA",
        "colab": {
          "base_uri": "https://localhost:8080/",
          "height": 621
        },
        "outputId": "51c1cffc-927f-4be8-c446-dd7a9c9a1ee0"
      },
      "execution_count": null,
      "outputs": [
        {
          "output_type": "display_data",
          "data": {
            "text/plain": [
              "<Figure size 720x720 with 2 Axes>"
            ],
            "image/png": "[encoded data removed]"
          },
          "metadata": {
            "needs_background": "light"
          }
        }
      ]
    },
    {
      "cell_type": "code",
      "source": [
        "print(classification_report(rounded_y_test, predictions, digits=3, zero_division=0)) #Delete zero_division param to see warnings"
      ],
      "metadata": {
        "id": "UkIL8pmUTu4b",
        "colab": {
          "base_uri": "https://localhost:8080/"
        },
        "outputId": "d93b0650-8205-4550-c421-95dde37f2f25"
      },
      "execution_count": null,
      "outputs": [
        {
          "output_type": "stream",
          "name": "stdout",
          "text": [
            "              precision    recall  f1-score   support\n",
            "\n",
            "           0      0.667     0.154     0.250        13\n",
            "           1      1.000     0.143     0.250         7\n",
            "           2      0.883     0.964     0.922       165\n",
            "           3      0.000     0.000     0.000         1\n",
            "           4      0.111     0.143     0.125         7\n",
            "\n",
            "    accuracy                          0.845       193\n",
            "   macro avg      0.532     0.281     0.309       193\n",
            "weighted avg      0.840     0.845     0.818       193\n",
            "\n"
          ]
        }
      ]
    },
    {
      "cell_type": "markdown",
      "source": [
        "##### Saving model"
      ],
      "metadata": {
        "id": "_FgVQTIuuxnZ"
      }
    },
    {
      "cell_type": "code",
      "source": [
        "# !mkdir -p lstm_1_saved_model    #/content/lstm_1_saved_model\n",
        "# model_lstm_1.save('/content/drive/MyDrive/Colab Notebooks/Final Project Work/Saved models/lstm_1_saved_model/lstm_1_model')\n",
        "\n",
        "# # /content/drive/MyDrive/Colab Notebooks/Final Project Work/Saved models/lstm_1saved_model"
      ],
      "metadata": {
        "id": "ur0Y3C62uyTj",
        "colab": {
          "base_uri": "https://localhost:8080/"
        },
        "outputId": "e58f0427-348a-415e-9bc8-0b311b1caebf"
      },
      "execution_count": null,
      "outputs": [
        {
          "output_type": "stream",
          "name": "stderr",
          "text": [
            "WARNING:absl:Found untraced functions such as lstm_cell_layer_call_fn, lstm_cell_layer_call_and_return_conditional_losses while saving (showing 2 of 2). These functions will not be directly callable after loading.\n"
          ]
        },
        {
          "output_type": "stream",
          "name": "stdout",
          "text": [
            "INFO:tensorflow:Assets written to: /content/drive/MyDrive/Colab Notebooks/Final Project Work/Saved models/lstm_1_saved_model/lstm_1_model/assets\n"
          ]
        },
        {
          "output_type": "stream",
          "name": "stderr",
          "text": [
            "INFO:tensorflow:Assets written to: /content/drive/MyDrive/Colab Notebooks/Final Project Work/Saved models/lstm_1_saved_model/lstm_1_model/assets\n",
            "WARNING:absl:<keras.layers.recurrent.LSTMCell object at 0x7ff62cbe1c50> has the same name 'LSTMCell' as a built-in Keras object. Consider renaming <class 'keras.layers.recurrent.LSTMCell'> to avoid naming conflicts when loading with `tf.keras.models.load_model`. If renaming is not possible, pass the object in the `custom_objects` parameter of the load function.\n"
          ]
        }
      ]
    },
    {
      "cell_type": "markdown",
      "source": [
        "#### 2 layer LSTM"
      ],
      "metadata": {
        "id": "0EdYXWhdOMaI"
      }
    },
    {
      "cell_type": "markdown",
      "source": [
        "##### Model setup"
      ],
      "metadata": {
        "id": "34ak7Y3tQhgU"
      }
    },
    {
      "cell_type": "code",
      "source": [
        "\n",
        "embedding_size = 300\n",
        "model_lstm_2 = keras.models.Sequential()\n",
        "model_lstm_2.add(Embedding(n_most_common_words, embedding_size, input_length=X_train.shape[1]))\n",
        "model_lstm_2.add(LSTM(128,return_sequences=True))\n",
        "model_lstm_2.add(LSTM(128))\n",
        "model_lstm_2.add(Dense(y_train.shape[1], activation='softmax'))\n",
        "model_lstm_2.compile(optimizer='adam', loss='categorical_crossentropy', metrics=['accuracy'])\n",
        "print(model_lstm_2.summary())"
      ],
      "metadata": {
        "id": "4cGefbV6O1Xc",
        "colab": {
          "base_uri": "https://localhost:8080/"
        },
        "outputId": "159b6bdf-a5b6-43b0-97c3-237922302203"
      },
      "execution_count": null,
      "outputs": [
        {
          "output_type": "stream",
          "name": "stdout",
          "text": [
            "Model: \"sequential_1\"\n",
            "_________________________________________________________________\n",
            " Layer (type)                Output Shape              Param #   \n",
            "=================================================================\n",
            " embedding_1 (Embedding)     (None, 100, 300)          6000000   \n",
            "                                                                 \n",
            " lstm_1 (LSTM)               (None, 100, 128)          219648    \n",
            "                                                                 \n",
            " lstm_2 (LSTM)               (None, 128)               131584    \n",
            "                                                                 \n",
            " dense_1 (Dense)             (None, 5)                 645       \n",
            "                                                                 \n",
            "=================================================================\n",
            "Total params: 6,351,877\n",
            "Trainable params: 6,351,877\n",
            "Non-trainable params: 0\n",
            "_________________________________________________________________\n",
            "None\n"
          ]
        }
      ]
    },
    {
      "cell_type": "code",
      "source": [
        "keras.utils.plot_model(model_lstm_2, to_file=\"my_ref3_model.png\", show_shapes=True)"
      ],
      "metadata": {
        "id": "eSbN0l4iO50F",
        "colab": {
          "base_uri": "https://localhost:8080/",
          "height": 533
        },
        "outputId": "4b30fed4-e872-4d98-e557-c16f059593be"
      },
      "execution_count": null,
      "outputs": [
        {
          "output_type": "execute_result",
          "data": {
            "text/plain": [
              "<IPython.core.display.Image object>"
            ],
            "image/png": "[encoded data removed]"
          },
          "metadata": {},
          "execution_count": 66
        }
      ]
    },
    {
      "cell_type": "markdown",
      "source": [
        "##### Training and validation loss and accuracy"
      ],
      "metadata": {
        "id": "i25EmkivO-E-"
      }
    },
    {
      "cell_type": "code",
      "source": [
        "history = model_lstm_2.fit(X_train, y_train, epochs=20, batch_size=128, validation_data=(X_test,y_test))"
      ],
      "metadata": {
        "id": "BmxYyQCuPJTJ",
        "colab": {
          "base_uri": "https://localhost:8080/"
        },
        "outputId": "d1f2887f-bec1-4a58-8ea6-3991656c9579"
      },
      "execution_count": null,
      "outputs": [
        {
          "output_type": "stream",
          "name": "stdout",
          "text": [
            "Epoch 1/20\n",
            "7/7 [==============================] - 4s 161ms/step - loss: 1.3085 - accuracy: 0.6923 - val_loss: 0.6699 - val_accuracy: 0.8549\n",
            "Epoch 2/20\n",
            "7/7 [==============================] - 0s 31ms/step - loss: 0.8953 - accuracy: 0.7635 - val_loss: 0.7144 - val_accuracy: 0.8549\n",
            "Epoch 3/20\n",
            "7/7 [==============================] - 0s 28ms/step - loss: 0.8327 - accuracy: 0.7635 - val_loss: 0.6004 - val_accuracy: 0.8549\n",
            "Epoch 4/20\n",
            "7/7 [==============================] - 0s 28ms/step - loss: 0.7147 - accuracy: 0.7876 - val_loss: 0.6071 - val_accuracy: 0.8549\n",
            "Epoch 5/20\n",
            "7/7 [==============================] - 0s 26ms/step - loss: 0.5695 - accuracy: 0.8037 - val_loss: 0.5835 - val_accuracy: 0.8549\n",
            "Epoch 6/20\n",
            "7/7 [==============================] - 0s 26ms/step - loss: 0.4156 - accuracy: 0.8370 - val_loss: 0.5159 - val_accuracy: 0.8549\n",
            "Epoch 7/20\n",
            "7/7 [==============================] - 0s 26ms/step - loss: 0.2969 - accuracy: 0.9013 - val_loss: 0.5555 - val_accuracy: 0.8549\n",
            "Epoch 8/20\n",
            "7/7 [==============================] - 0s 29ms/step - loss: 0.1900 - accuracy: 0.9449 - val_loss: 0.6336 - val_accuracy: 0.8653\n",
            "Epoch 9/20\n",
            "7/7 [==============================] - 0s 29ms/step - loss: 0.1024 - accuracy: 0.9782 - val_loss: 0.6368 - val_accuracy: 0.8497\n",
            "Epoch 10/20\n",
            "7/7 [==============================] - 0s 26ms/step - loss: 0.0413 - accuracy: 0.9943 - val_loss: 0.6590 - val_accuracy: 0.8549\n",
            "Epoch 11/20\n",
            "7/7 [==============================] - 0s 26ms/step - loss: 0.0154 - accuracy: 0.9977 - val_loss: 0.6870 - val_accuracy: 0.8653\n",
            "Epoch 12/20\n",
            "7/7 [==============================] - 0s 26ms/step - loss: 0.0061 - accuracy: 1.0000 - val_loss: 0.7385 - val_accuracy: 0.8653\n",
            "Epoch 13/20\n",
            "7/7 [==============================] - 0s 27ms/step - loss: 0.0032 - accuracy: 1.0000 - val_loss: 0.7664 - val_accuracy: 0.8497\n",
            "Epoch 14/20\n",
            "7/7 [==============================] - 0s 28ms/step - loss: 0.0021 - accuracy: 1.0000 - val_loss: 0.8014 - val_accuracy: 0.8601\n",
            "Epoch 15/20\n",
            "7/7 [==============================] - 0s 26ms/step - loss: 0.0015 - accuracy: 1.0000 - val_loss: 0.8226 - val_accuracy: 0.8549\n",
            "Epoch 16/20\n",
            "7/7 [==============================] - 0s 26ms/step - loss: 0.0013 - accuracy: 1.0000 - val_loss: 0.8379 - val_accuracy: 0.8549\n",
            "Epoch 17/20\n",
            "7/7 [==============================] - 0s 27ms/step - loss: 0.0011 - accuracy: 1.0000 - val_loss: 0.8499 - val_accuracy: 0.8549\n",
            "Epoch 18/20\n",
            "7/7 [==============================] - 0s 27ms/step - loss: 9.7709e-04 - accuracy: 1.0000 - val_loss: 0.8622 - val_accuracy: 0.8549\n",
            "Epoch 19/20\n",
            "7/7 [==============================] - 0s 26ms/step - loss: 8.9841e-04 - accuracy: 1.0000 - val_loss: 0.8701 - val_accuracy: 0.8549\n",
            "Epoch 20/20\n",
            "7/7 [==============================] - 0s 29ms/step - loss: 8.1859e-04 - accuracy: 1.0000 - val_loss: 0.8808 - val_accuracy: 0.8549\n"
          ]
        }
      ]
    },
    {
      "cell_type": "code",
      "source": [
        "val_loss, val_acc = model_lstm_2.evaluate(X_test, y_test)\n",
        "print('Validation Loss:', val_loss)\n",
        "print('Validation Accuracy:', val_acc)"
      ],
      "metadata": {
        "id": "hsJOTEdLPOka",
        "colab": {
          "base_uri": "https://localhost:8080/"
        },
        "outputId": "dae1e2a2-ea0e-4736-f676-e3ca615ed8ef"
      },
      "execution_count": null,
      "outputs": [
        {
          "output_type": "stream",
          "name": "stdout",
          "text": [
            "7/7 [==============================] - 0s 11ms/step - loss: 0.8808 - accuracy: 0.8549\n",
            "Validation Loss: 0.8808131217956543\n",
            "Validation Accuracy: 0.8549222946166992\n"
          ]
        }
      ]
    },
    {
      "cell_type": "code",
      "source": [
        "plt.figure(figsize=(16, 6))\n",
        "plt.subplot(1, 2, 1)\n",
        "plot_graphs(history, 'accuracy')\n",
        "plt.subplot(1, 2, 2)\n",
        "plot_graphs(history, 'loss')"
      ],
      "metadata": {
        "id": "XwhRZ55DPSRh",
        "colab": {
          "base_uri": "https://localhost:8080/",
          "height": 387
        },
        "outputId": "86737750-2ee7-45ee-9432-63391762f10e"
      },
      "execution_count": null,
      "outputs": [
        {
          "output_type": "display_data",
          "data": {
            "text/plain": [
              "<Figure size 1152x432 with 2 Axes>"
            ],
            "image/png": "[encoded data removed]"
          },
          "metadata": {
            "needs_background": "light"
          }
        }
      ]
    },
    {
      "cell_type": "code",
      "source": [
        "print(model_lstm_2.summary())"
      ],
      "metadata": {
        "id": "FMQQzmv9uGpN",
        "colab": {
          "base_uri": "https://localhost:8080/"
        },
        "outputId": "cee08a05-1f65-4a10-dbed-2028aeabb09f"
      },
      "execution_count": null,
      "outputs": [
        {
          "output_type": "stream",
          "name": "stdout",
          "text": [
            "Model: \"sequential_1\"\n",
            "_________________________________________________________________\n",
            " Layer (type)                Output Shape              Param #   \n",
            "=================================================================\n",
            " embedding_1 (Embedding)     (None, 100, 300)          6000000   \n",
            "                                                                 \n",
            " lstm_1 (LSTM)               (None, 100, 128)          219648    \n",
            "                                                                 \n",
            " lstm_2 (LSTM)               (None, 128)               131584    \n",
            "                                                                 \n",
            " dense_1 (Dense)             (None, 5)                 645       \n",
            "                                                                 \n",
            "=================================================================\n",
            "Total params: 6,351,877\n",
            "Trainable params: 6,351,877\n",
            "Non-trainable params: 0\n",
            "_________________________________________________________________\n",
            "None\n"
          ]
        }
      ]
    },
    {
      "cell_type": "markdown",
      "source": [
        "##### Confusion matrix and classification report"
      ],
      "metadata": {
        "id": "oEWFHxRUPrS1"
      }
    },
    {
      "cell_type": "code",
      "source": [
        "print(\"Categorical Mapping: \", integer_mapping)"
      ],
      "metadata": {
        "id": "ONTuuoZ3P6aL",
        "colab": {
          "base_uri": "https://localhost:8080/"
        },
        "outputId": "0d821a7a-00f3-470c-9d75-1548821a8af9"
      },
      "execution_count": null,
      "outputs": [
        {
          "output_type": "stream",
          "name": "stdout",
          "text": [
            "Categorical Mapping:  {'PREVENT': 0, 'SIDE_EFF': 1, 'TREAT_FOR_DIS': 2, 'TREAT_NO_FOR_DIS': 3, 'VAGUE': 4}\n"
          ]
        }
      ]
    },
    {
      "cell_type": "code",
      "source": [
        "\n",
        "prediction_probas = model_lstm_2.predict(X_test) \n",
        "predictions = np.argmax(prediction_probas, axis=1)\n",
        "\n",
        "conf_matrix = confusion_matrix(rounded_y_test, predictions)\n",
        "\n",
        "fig, ax = plt.subplots(figsize =(10,10))\n",
        "\n",
        "sns.heatmap(conf_matrix, annot=True, fmt=\"d\");\n",
        "\n",
        "plt.title('Heatmap of confusion matrix') \n",
        "plt.xlabel('Predicted') \n",
        "plt.ylabel('Actual') \n",
        "\n",
        "plt.show()"
      ],
      "metadata": {
        "id": "K0g30R22P9l9",
        "colab": {
          "base_uri": "https://localhost:8080/",
          "height": 621
        },
        "outputId": "0d6a83ff-316d-4891-ed4b-0c73ef246955"
      },
      "execution_count": null,
      "outputs": [
        {
          "output_type": "display_data",
          "data": {
            "text/plain": [
              "<Figure size 720x720 with 2 Axes>"
            ],
            "image/png": "[encoded data removed]"
          },
          "metadata": {
            "needs_background": "light"
          }
        }
      ]
    },
    {
      "cell_type": "code",
      "source": [
        "print(classification_report(rounded_y_test, predictions, digits=3, zero_division=0)) #Delete zero_division param to see warnings"
      ],
      "metadata": {
        "id": "0z1IyCkVQE_W",
        "colab": {
          "base_uri": "https://localhost:8080/"
        },
        "outputId": "6ad78da3-ec21-4f01-882d-f970acd1da30"
      },
      "execution_count": null,
      "outputs": [
        {
          "output_type": "stream",
          "name": "stdout",
          "text": [
            "              precision    recall  f1-score   support\n",
            "\n",
            "           0      0.714     0.385     0.500        13\n",
            "           1      0.500     0.143     0.222         7\n",
            "           2      0.897     0.952     0.924       165\n",
            "           3      0.000     0.000     0.000         1\n",
            "           4      0.222     0.286     0.250         7\n",
            "\n",
            "    accuracy                          0.855       193\n",
            "   macro avg      0.467     0.353     0.379       193\n",
            "weighted avg      0.841     0.855     0.840       193\n",
            "\n"
          ]
        }
      ]
    },
    {
      "cell_type": "markdown",
      "source": [
        "##### Saving model"
      ],
      "metadata": {
        "id": "RgSBtlDbusB5"
      }
    },
    {
      "cell_type": "code",
      "source": [
        "# !mkdir -p lstm_2_saved_model    #/content/lstm_2_saved_model\n",
        "# model_lstm_2.save('/content/drive/MyDrive/Colab Notebooks/Final Project Work/Saved models/lstm_2_saved_model/lstm_2_model')\n",
        "\n",
        "# # /content/drive/MyDrive/Colab Notebooks/Final Project Work/Saved models/lstm_2_saved_model"
      ],
      "metadata": {
        "id": "jhTf31EDusxG",
        "colab": {
          "base_uri": "https://localhost:8080/"
        },
        "outputId": "1f492450-5bfb-4b30-b659-9e80a6ddef45"
      },
      "execution_count": null,
      "outputs": [
        {
          "output_type": "stream",
          "name": "stderr",
          "text": [
            "WARNING:absl:Found untraced functions such as lstm_cell_1_layer_call_fn, lstm_cell_1_layer_call_and_return_conditional_losses, lstm_cell_2_layer_call_fn, lstm_cell_2_layer_call_and_return_conditional_losses while saving (showing 4 of 4). These functions will not be directly callable after loading.\n"
          ]
        },
        {
          "output_type": "stream",
          "name": "stdout",
          "text": [
            "INFO:tensorflow:Assets written to: /content/drive/MyDrive/Colab Notebooks/Final Project Work/Saved models/lstm_2_saved_model/lstm_2_model/assets\n"
          ]
        },
        {
          "output_type": "stream",
          "name": "stderr",
          "text": [
            "INFO:tensorflow:Assets written to: /content/drive/MyDrive/Colab Notebooks/Final Project Work/Saved models/lstm_2_saved_model/lstm_2_model/assets\n",
            "WARNING:absl:<keras.layers.recurrent.LSTMCell object at 0x7ff74d997690> has the same name 'LSTMCell' as a built-in Keras object. Consider renaming <class 'keras.layers.recurrent.LSTMCell'> to avoid naming conflicts when loading with `tf.keras.models.load_model`. If renaming is not possible, pass the object in the `custom_objects` parameter of the load function.\n",
            "WARNING:absl:<keras.layers.recurrent.LSTMCell object at 0x7ff74de31b10> has the same name 'LSTMCell' as a built-in Keras object. Consider renaming <class 'keras.layers.recurrent.LSTMCell'> to avoid naming conflicts when loading with `tf.keras.models.load_model`. If renaming is not possible, pass the object in the `custom_objects` parameter of the load function.\n"
          ]
        }
      ]
    },
    {
      "cell_type": "markdown",
      "source": [
        "#### 2 layer Bi-LSTM"
      ],
      "metadata": {
        "id": "YTjvgCF0OSPX"
      }
    },
    {
      "cell_type": "markdown",
      "source": [
        "##### Model setup"
      ],
      "metadata": {
        "id": "KUiChGeoQbAr"
      }
    },
    {
      "cell_type": "code",
      "source": [
        "\n",
        "embedding_size = 300\n",
        "model_Bilstm_2 = keras.models.Sequential()\n",
        "model_Bilstm_2.add(Embedding(n_most_common_words, embedding_size, input_length=X_train.shape[1]))\n",
        "model_Bilstm_2.add(Bidirectional(LSTM(128,return_sequences=True)))\n",
        "model_Bilstm_2.add(Bidirectional(LSTM(128)))\n",
        "model_Bilstm_2.add(Dense(y_train.shape[1], activation='softmax'))\n",
        "model_Bilstm_2.compile(optimizer='adam', loss='categorical_crossentropy', metrics=['accuracy'])\n",
        "print(model_Bilstm_2.summary())"
      ],
      "metadata": {
        "id": "yWIKGiR-Q2xH",
        "colab": {
          "base_uri": "https://localhost:8080/"
        },
        "outputId": "51d920cf-bfd7-4d98-d02b-271948443593"
      },
      "execution_count": null,
      "outputs": [
        {
          "output_type": "stream",
          "name": "stdout",
          "text": [
            "Model: \"sequential_2\"\n",
            "_________________________________________________________________\n",
            " Layer (type)                Output Shape              Param #   \n",
            "=================================================================\n",
            " embedding_2 (Embedding)     (None, 100, 300)          6000000   \n",
            "                                                                 \n",
            " bidirectional (Bidirectiona  (None, 100, 256)         439296    \n",
            " l)                                                              \n",
            "                                                                 \n",
            " bidirectional_1 (Bidirectio  (None, 256)              394240    \n",
            " nal)                                                            \n",
            "                                                                 \n",
            " dense_2 (Dense)             (None, 5)                 1285      \n",
            "                                                                 \n",
            "=================================================================\n",
            "Total params: 6,834,821\n",
            "Trainable params: 6,834,821\n",
            "Non-trainable params: 0\n",
            "_________________________________________________________________\n",
            "None\n"
          ]
        }
      ]
    },
    {
      "cell_type": "code",
      "source": [
        "keras.utils.plot_model(model_Bilstm_2, to_file=\"my_ref3_model.png\", show_shapes=True)"
      ],
      "metadata": {
        "id": "5quS2pXVSIRd",
        "colab": {
          "base_uri": "https://localhost:8080/",
          "height": 533
        },
        "outputId": "0584395e-8a1d-4d3e-9845-1cfb1ff68023"
      },
      "execution_count": null,
      "outputs": [
        {
          "output_type": "execute_result",
          "data": {
            "text/plain": [
              "<IPython.core.display.Image object>"
            ],
            "image/png": "[encoded data removed]"
          },
          "metadata": {},
          "execution_count": 76
        }
      ]
    },
    {
      "cell_type": "markdown",
      "source": [
        "##### Training and validation loss and accuracy"
      ],
      "metadata": {
        "id": "R3TnyUO_QagC"
      }
    },
    {
      "cell_type": "code",
      "source": [
        "history = model_Bilstm_2.fit(X_train, y_train, epochs=20, batch_size=128, validation_data=(X_test,y_test))"
      ],
      "metadata": {
        "id": "5jd6D7OYSflG",
        "colab": {
          "base_uri": "https://localhost:8080/"
        },
        "outputId": "14e81dbd-038f-4e48-e049-0e66eccf830f"
      },
      "execution_count": null,
      "outputs": [
        {
          "output_type": "stream",
          "name": "stdout",
          "text": [
            "Epoch 1/20\n",
            "7/7 [==============================] - 7s 285ms/step - loss: 1.1622 - accuracy: 0.7382 - val_loss: 0.6309 - val_accuracy: 0.8549\n",
            "Epoch 2/20\n",
            "7/7 [==============================] - 0s 53ms/step - loss: 0.8584 - accuracy: 0.7635 - val_loss: 0.6724 - val_accuracy: 0.8549\n",
            "Epoch 3/20\n",
            "7/7 [==============================] - 0s 62ms/step - loss: 0.8018 - accuracy: 0.7635 - val_loss: 0.5978 - val_accuracy: 0.8549\n",
            "Epoch 4/20\n",
            "7/7 [==============================] - 0s 52ms/step - loss: 0.6342 - accuracy: 0.7807 - val_loss: 0.5938 - val_accuracy: 0.8549\n",
            "Epoch 5/20\n",
            "7/7 [==============================] - 0s 47ms/step - loss: 0.4133 - accuracy: 0.8462 - val_loss: 0.6184 - val_accuracy: 0.8446\n",
            "Epoch 6/20\n",
            "7/7 [==============================] - 0s 49ms/step - loss: 0.2745 - accuracy: 0.9185 - val_loss: 0.7573 - val_accuracy: 0.8446\n",
            "Epoch 7/20\n",
            "7/7 [==============================] - 0s 49ms/step - loss: 0.1460 - accuracy: 0.9633 - val_loss: 0.7569 - val_accuracy: 0.8290\n",
            "Epoch 8/20\n",
            "7/7 [==============================] - 0s 47ms/step - loss: 0.1142 - accuracy: 0.9736 - val_loss: 0.8404 - val_accuracy: 0.8187\n",
            "Epoch 9/20\n",
            "7/7 [==============================] - 0s 48ms/step - loss: 0.0486 - accuracy: 0.9862 - val_loss: 0.8956 - val_accuracy: 0.8446\n",
            "Epoch 10/20\n",
            "7/7 [==============================] - 0s 47ms/step - loss: 0.0263 - accuracy: 0.9977 - val_loss: 0.9363 - val_accuracy: 0.8290\n",
            "Epoch 11/20\n",
            "7/7 [==============================] - 0s 48ms/step - loss: 0.0122 - accuracy: 1.0000 - val_loss: 0.9992 - val_accuracy: 0.8238\n",
            "Epoch 12/20\n",
            "7/7 [==============================] - 0s 48ms/step - loss: 0.0070 - accuracy: 1.0000 - val_loss: 1.0292 - val_accuracy: 0.8290\n",
            "Epoch 13/20\n",
            "7/7 [==============================] - 0s 47ms/step - loss: 0.0072 - accuracy: 0.9989 - val_loss: 1.0644 - val_accuracy: 0.8290\n",
            "Epoch 14/20\n",
            "7/7 [==============================] - 0s 48ms/step - loss: 0.0044 - accuracy: 1.0000 - val_loss: 1.0802 - val_accuracy: 0.8342\n",
            "Epoch 15/20\n",
            "7/7 [==============================] - 0s 48ms/step - loss: 0.0032 - accuracy: 1.0000 - val_loss: 1.0963 - val_accuracy: 0.8342\n",
            "Epoch 16/20\n",
            "7/7 [==============================] - 0s 47ms/step - loss: 0.0024 - accuracy: 1.0000 - val_loss: 1.1108 - val_accuracy: 0.8342\n",
            "Epoch 17/20\n",
            "7/7 [==============================] - 0s 47ms/step - loss: 0.0019 - accuracy: 1.0000 - val_loss: 1.1256 - val_accuracy: 0.8342\n",
            "Epoch 18/20\n",
            "7/7 [==============================] - 0s 47ms/step - loss: 0.0017 - accuracy: 1.0000 - val_loss: 1.1378 - val_accuracy: 0.8342\n",
            "Epoch 19/20\n",
            "7/7 [==============================] - 0s 48ms/step - loss: 0.0015 - accuracy: 1.0000 - val_loss: 1.1493 - val_accuracy: 0.8342\n",
            "Epoch 20/20\n",
            "7/7 [==============================] - 0s 47ms/step - loss: 0.0013 - accuracy: 1.0000 - val_loss: 1.1602 - val_accuracy: 0.8290\n"
          ]
        }
      ]
    },
    {
      "cell_type": "code",
      "source": [
        "val_loss, val_acc = model_Bilstm_2.evaluate(X_test, y_test)\n",
        "print('Validation Loss:', val_loss)\n",
        "print('Validation Accuracy:', val_acc)"
      ],
      "metadata": {
        "id": "jQDlIiQMSnEj",
        "colab": {
          "base_uri": "https://localhost:8080/"
        },
        "outputId": "6764674e-6bf0-4a4d-b0b5-6a6792209a7d"
      },
      "execution_count": null,
      "outputs": [
        {
          "output_type": "stream",
          "name": "stdout",
          "text": [
            "7/7 [==============================] - 0s 12ms/step - loss: 1.1602 - accuracy: 0.8290\n",
            "Validation Loss: 1.1602280139923096\n",
            "Validation Accuracy: 0.8290155529975891\n"
          ]
        }
      ]
    },
    {
      "cell_type": "code",
      "source": [
        "plt.figure(figsize=(16, 6))\n",
        "plt.subplot(1, 2, 1)\n",
        "plot_graphs(history, 'accuracy')\n",
        "plt.subplot(1, 2, 2)\n",
        "plot_graphs(history, 'loss')"
      ],
      "metadata": {
        "id": "aVNgJvYASrVL",
        "colab": {
          "base_uri": "https://localhost:8080/",
          "height": 387
        },
        "outputId": "7df0981d-e129-461f-df82-16fc7e108d3a"
      },
      "execution_count": null,
      "outputs": [
        {
          "output_type": "display_data",
          "data": {
            "text/plain": [
              "<Figure size 1152x432 with 2 Axes>"
            ],
            "image/png": "[encoded data removed]"
          },
          "metadata": {
            "needs_background": "light"
          }
        }
      ]
    },
    {
      "cell_type": "code",
      "source": [
        "print(model_Bilstm_2.summary())"
      ],
      "metadata": {
        "id": "6Q48aSgdt6uh",
        "colab": {
          "base_uri": "https://localhost:8080/"
        },
        "outputId": "cfdd2e26-191b-49ee-f66b-413119dca609"
      },
      "execution_count": null,
      "outputs": [
        {
          "output_type": "stream",
          "name": "stdout",
          "text": [
            "Model: \"sequential_2\"\n",
            "_________________________________________________________________\n",
            " Layer (type)                Output Shape              Param #   \n",
            "=================================================================\n",
            " embedding_2 (Embedding)     (None, 100, 300)          6000000   \n",
            "                                                                 \n",
            " bidirectional (Bidirectiona  (None, 100, 256)         439296    \n",
            " l)                                                              \n",
            "                                                                 \n",
            " bidirectional_1 (Bidirectio  (None, 256)              394240    \n",
            " nal)                                                            \n",
            "                                                                 \n",
            " dense_2 (Dense)             (None, 5)                 1285      \n",
            "                                                                 \n",
            "=================================================================\n",
            "Total params: 6,834,821\n",
            "Trainable params: 6,834,821\n",
            "Non-trainable params: 0\n",
            "_________________________________________________________________\n",
            "None\n"
          ]
        }
      ]
    },
    {
      "cell_type": "markdown",
      "source": [
        "##### Confusion matrix and classification report"
      ],
      "metadata": {
        "id": "vxXCMgqWQnGc"
      }
    },
    {
      "cell_type": "code",
      "source": [
        "print(\"Categorical Mapping: \", integer_mapping)"
      ],
      "metadata": {
        "id": "FKMMXRiYSzvL",
        "colab": {
          "base_uri": "https://localhost:8080/"
        },
        "outputId": "b41c998f-81c8-47ee-84f8-d36db6676f57"
      },
      "execution_count": null,
      "outputs": [
        {
          "output_type": "stream",
          "name": "stdout",
          "text": [
            "Categorical Mapping:  {'PREVENT': 0, 'SIDE_EFF': 1, 'TREAT_FOR_DIS': 2, 'TREAT_NO_FOR_DIS': 3, 'VAGUE': 4}\n"
          ]
        }
      ]
    },
    {
      "cell_type": "code",
      "source": [
        "\n",
        "prediction_probas = model_Bilstm_2.predict(X_test) \n",
        "predictions = np.argmax(prediction_probas, axis=1)\n",
        "\n",
        "conf_matrix = confusion_matrix(rounded_y_test, predictions)\n",
        "\n",
        "fig, ax = plt.subplots(figsize =(10,10))\n",
        "\n",
        "sns.heatmap(conf_matrix, annot=True, fmt=\"d\");\n",
        "\n",
        "plt.title('Heatmap of confusion matrix') \n",
        "plt.xlabel('Predicted') \n",
        "plt.ylabel('Actual') \n",
        "\n",
        "plt.show()"
      ],
      "metadata": {
        "id": "oJJxrENhSzV3",
        "colab": {
          "base_uri": "https://localhost:8080/",
          "height": 621
        },
        "outputId": "0c56881a-cce3-417e-b4b4-3dc4269c3906"
      },
      "execution_count": null,
      "outputs": [
        {
          "output_type": "display_data",
          "data": {
            "text/plain": [
              "<Figure size 720x720 with 2 Axes>"
            ],
            "image/png": "[encoded data removed]"
          },
          "metadata": {
            "needs_background": "light"
          }
        }
      ]
    },
    {
      "cell_type": "code",
      "source": [
        "print(classification_report(rounded_y_test, predictions, digits=3, zero_division=0)) #Delete zero_division param to see warnings"
      ],
      "metadata": {
        "id": "REjMEDoMTAIg",
        "colab": {
          "base_uri": "https://localhost:8080/"
        },
        "outputId": "c5e99fab-92c7-4e0d-89db-93fd4118c48b"
      },
      "execution_count": null,
      "outputs": [
        {
          "output_type": "stream",
          "name": "stdout",
          "text": [
            "              precision    recall  f1-score   support\n",
            "\n",
            "           0      1.000     0.077     0.143        13\n",
            "           1      0.000     0.000     0.000         7\n",
            "           2      0.898     0.958     0.927       165\n",
            "           3      0.000     0.000     0.000         1\n",
            "           4      0.067     0.143     0.091         7\n",
            "\n",
            "    accuracy                          0.829       193\n",
            "   macro avg      0.393     0.235     0.232       193\n",
            "weighted avg      0.837     0.829     0.805       193\n",
            "\n"
          ]
        }
      ]
    },
    {
      "cell_type": "markdown",
      "source": [
        "##### Saving model"
      ],
      "metadata": {
        "id": "ztSQr65KubZV"
      }
    },
    {
      "cell_type": "code",
      "source": [
        "# !mkdir -p Bilstm_2_saved_model    #/content/Bilstm_2_saved_model\n",
        "# model_Bilstm_2.save('/content/drive/MyDrive/Colab Notebooks/Final Project Work/Saved models/Bilstm_2_saved_model/Bilstm_2_model')\n",
        "\n",
        "# # /content/drive/MyDrive/Colab Notebooks/Final Project Work/Saved models/Bilstm_2_saved_model"
      ],
      "metadata": {
        "id": "DKqOkXEyulsm",
        "colab": {
          "base_uri": "https://localhost:8080/"
        },
        "outputId": "c0fe06fe-d0ff-4721-bc14-6ccec1cbd56e"
      },
      "execution_count": null,
      "outputs": [
        {
          "output_type": "stream",
          "name": "stderr",
          "text": [
            "WARNING:absl:Found untraced functions such as lstm_cell_4_layer_call_fn, lstm_cell_4_layer_call_and_return_conditional_losses, lstm_cell_5_layer_call_fn, lstm_cell_5_layer_call_and_return_conditional_losses, lstm_cell_7_layer_call_fn while saving (showing 5 of 8). These functions will not be directly callable after loading.\n"
          ]
        },
        {
          "output_type": "stream",
          "name": "stdout",
          "text": [
            "INFO:tensorflow:Assets written to: /content/drive/MyDrive/Colab Notebooks/Final Project Work/Saved models/Bilstm_2_saved_model/Bilstm_2_model/assets\n"
          ]
        },
        {
          "output_type": "stream",
          "name": "stderr",
          "text": [
            "INFO:tensorflow:Assets written to: /content/drive/MyDrive/Colab Notebooks/Final Project Work/Saved models/Bilstm_2_saved_model/Bilstm_2_model/assets\n",
            "WARNING:absl:<keras.layers.recurrent.LSTMCell object at 0x7ff74b984c10> has the same name 'LSTMCell' as a built-in Keras object. Consider renaming <class 'keras.layers.recurrent.LSTMCell'> to avoid naming conflicts when loading with `tf.keras.models.load_model`. If renaming is not possible, pass the object in the `custom_objects` parameter of the load function.\n",
            "WARNING:absl:<keras.layers.recurrent.LSTMCell object at 0x7ff74b9b41d0> has the same name 'LSTMCell' as a built-in Keras object. Consider renaming <class 'keras.layers.recurrent.LSTMCell'> to avoid naming conflicts when loading with `tf.keras.models.load_model`. If renaming is not possible, pass the object in the `custom_objects` parameter of the load function.\n",
            "WARNING:absl:<keras.layers.recurrent.LSTMCell object at 0x7ff6281d0390> has the same name 'LSTMCell' as a built-in Keras object. Consider renaming <class 'keras.layers.recurrent.LSTMCell'> to avoid naming conflicts when loading with `tf.keras.models.load_model`. If renaming is not possible, pass the object in the `custom_objects` parameter of the load function.\n",
            "WARNING:absl:<keras.layers.recurrent.LSTMCell object at 0x7ff6207ef810> has the same name 'LSTMCell' as a built-in Keras object. Consider renaming <class 'keras.layers.recurrent.LSTMCell'> to avoid naming conflicts when loading with `tf.keras.models.load_model`. If renaming is not possible, pass the object in the `custom_objects` parameter of the load function.\n"
          ]
        }
      ]
    },
    {
      "cell_type": "markdown",
      "source": [
        "### Transformer Models"
      ],
      "metadata": {
        "id": "ppRhyXsHMoip"
      }
    },
    {
      "cell_type": "markdown",
      "source": [
        "#### Standard setup"
      ],
      "metadata": {
        "id": "KjaTfPhrW85v"
      }
    },
    {
      "cell_type": "code",
      "source": [
        "import transformers\n",
        "\n",
        "print(transformers.__version__)"
      ],
      "metadata": {
        "colab": {
          "base_uri": "https://localhost:8080/"
        },
        "id": "ouRb6PlakeqF",
        "outputId": "386c2b8c-1a45-4345-e892-034371aa5159"
      },
      "execution_count": null,
      "outputs": [
        {
          "output_type": "stream",
          "name": "stdout",
          "text": [
            "4.18.0\n"
          ]
        }
      ]
    },
    {
      "cell_type": "code",
      "source": [
        "\n",
        "from transformers import AutoTokenizer\n",
        "\n",
        "from transformers import AutoModelForSequenceClassification, AutoModel, TrainingArguments, Trainer, TFAutoModelForSequenceClassification\n"
      ],
      "metadata": {
        "id": "pGkvsrqHn3WE"
      },
      "execution_count": null,
      "outputs": []
    },
    {
      "cell_type": "code",
      "source": [
        "\n",
        "from datasets import Dataset\n",
        "\n",
        "BioTrain_ds = Dataset.from_pandas(aug_BioTrain)\n",
        "BioTest_ds = Dataset.from_pandas(BioTest)\n",
        "y_test =BioTest_ds['Type_ENC']"
      ],
      "metadata": {
        "id": "nCZSZHzSd_qI"
      },
      "execution_count": null,
      "outputs": []
    },
    {
      "cell_type": "code",
      "source": [
        "print(BioTrain_ds)\n",
        "print(BioTest_ds)"
      ],
      "metadata": {
        "colab": {
          "base_uri": "https://localhost:8080/"
        },
        "id": "4Srgb60Liw2_",
        "outputId": "e49cfb6a-6b06-43ff-fbd2-263f69249058"
      },
      "execution_count": null,
      "outputs": [
        {
          "output_type": "stream",
          "name": "stdout",
          "text": [
            "Dataset({\n",
            "    features: ['Sentence', 'Type', 'Treatment', 'Disease', 'Type_ENC'],\n",
            "    num_rows: 871\n",
            "})\n",
            "Dataset({\n",
            "    features: ['Sentence', 'Type', 'Treatment', 'Disease', 'Type_ENC'],\n",
            "    num_rows: 193\n",
            "})\n"
          ]
        }
      ]
    },
    {
      "cell_type": "markdown",
      "source": [
        "#### Finetuning Bert"
      ],
      "metadata": {
        "id": "OpzMbNg5NCG1"
      }
    },
    {
      "cell_type": "markdown",
      "source": [
        "##### Model setup"
      ],
      "metadata": {
        "id": "03T4UH6KXkQT"
      }
    },
    {
      "cell_type": "code",
      "source": [
        "tokenizer_model_name = \"bert-base-uncased\"  \n",
        "\n",
        "tokenizer = AutoTokenizer.from_pretrained(tokenizer_model_name)"
      ],
      "metadata": {
        "id": "fjd8ilBHMuQO"
      },
      "execution_count": null,
      "outputs": []
    },
    {
      "cell_type": "code",
      "source": [
        "tokenizer.is_fast"
      ],
      "metadata": {
        "colab": {
          "base_uri": "https://localhost:8080/"
        },
        "id": "sMHuJxgH4oba",
        "outputId": "78424c49-476b-4ed4-9726-eb6b198a6d1a"
      },
      "execution_count": null,
      "outputs": [
        {
          "output_type": "execute_result",
          "data": {
            "text/plain": [
              "True"
            ]
          },
          "metadata": {},
          "execution_count": 90
        }
      ]
    },
    {
      "cell_type": "code",
      "source": [
        "def preprocess_function(examples):\n",
        "    return tokenizer(examples[\"Sentence\"], truncation=True)"
      ],
      "metadata": {
        "id": "oU1RXm5KnS4r"
      },
      "execution_count": null,
      "outputs": []
    },
    {
      "cell_type": "code",
      "source": [
        "tokenized_BioTrain_ds = BioTrain_ds.map(preprocess_function, batched=True)"
      ],
      "metadata": {
        "colab": {
          "base_uri": "https://localhost:8080/",
          "height": 48,
          "referenced_widgets": [
            "0204320ff5294994a0016009ef469696",
            "a7d73fd554db4fbf82823aecf2e38fb2",
            "53d4af6aec72420197871f054ab39240",
            "21e981d4667c4a4ea891502587f5e70f",
            "d145b7d0d6834c6fbc601b86ce1cde91",
            "0ce7623a92014a2b976e7af0b76948b7",
            "0691e77953364b86a881d1c0d1f5c396",
            "39cf137d43e446329c99c88976126799",
            "6f7dde063d5d4bd0bebb43419a178279",
            "a4b3666a1ee141009f8c29076a8d59d7",
            "fd5a76981b29463584fbd2081db5c285"
          ]
        },
        "id": "i59WVI_ZlCrh",
        "outputId": "d455a2e2-77c7-4da7-8282-213d358652ad"
      },
      "execution_count": null,
      "outputs": [
        {
          "output_type": "display_data",
          "data": {
            "text/plain": [
              "  0%|          | 0/1 [00:00<?, ?ba/s]"
            ],
            "application/vnd.jupyter.widget-view+json": {
              "version_major": 2,
              "version_minor": 0,
              "model_id": "0204320ff5294994a0016009ef469696"
            }
          },
          "metadata": {}
        }
      ]
    },
    {
      "cell_type": "code",
      "source": [
        "tokenized_BioTest_ds = BioTest_ds.map(preprocess_function, batched=True)"
      ],
      "metadata": {
        "colab": {
          "base_uri": "https://localhost:8080/",
          "height": 48,
          "referenced_widgets": [
            "e9763f0dec1a454ead7a849446d4a43a",
            "6345918a522e410c8af994718b0bcde8",
            "6bb37bac10d244378e661846958169b9",
            "8c01f27a0a894be0b8b0081f9bc4f8d0",
            "ca6c7ae648304e58b4b1ed795e71cded",
            "e3963d133d2e4ca7abfa43c22223662d",
            "4880892dc2d64b4e837a87fd22cf0276",
            "031f1729d9134300baddd946927e562f",
            "ea089a371ab04c5e92c7ae09cac5c72a",
            "7581ec81e53745e4a4a3c9b9ec80cd61",
            "3c7643740e484ca1aebbffbd9a206a2c"
          ]
        },
        "id": "EK1c2RpplnLP",
        "outputId": "07203a6e-a368-4756-8918-035d090c8a0a"
      },
      "execution_count": null,
      "outputs": [
        {
          "output_type": "display_data",
          "data": {
            "text/plain": [
              "  0%|          | 0/1 [00:00<?, ?ba/s]"
            ],
            "application/vnd.jupyter.widget-view+json": {
              "version_major": 2,
              "version_minor": 0,
              "model_id": "e9763f0dec1a454ead7a849446d4a43a"
            }
          },
          "metadata": {}
        }
      ]
    },
    {
      "cell_type": "code",
      "source": [
        "from transformers import DataCollatorWithPadding\n",
        "data_collator = DataCollatorWithPadding(tokenizer=tokenizer, return_tensors=\"tf\")"
      ],
      "metadata": {
        "id": "CLKFCKlJl7oM"
      },
      "execution_count": null,
      "outputs": []
    },
    {
      "cell_type": "code",
      "source": [
        "print(tokenized_BioTrain_ds)"
      ],
      "metadata": {
        "colab": {
          "base_uri": "https://localhost:8080/"
        },
        "id": "zvLK7R-6mz9x",
        "outputId": "e30f60fd-3abf-4317-e5b9-c37b716c8c7d"
      },
      "execution_count": null,
      "outputs": [
        {
          "output_type": "stream",
          "name": "stdout",
          "text": [
            "Dataset({\n",
            "    features: ['Sentence', 'Type', 'Treatment', 'Disease', 'Type_ENC', 'input_ids', 'token_type_ids', 'attention_mask'],\n",
            "    num_rows: 871\n",
            "})\n"
          ]
        }
      ]
    },
    {
      "cell_type": "code",
      "source": [
        "tf_train_dataset = tokenized_BioTrain_ds.to_tf_dataset(\n",
        "    columns=[\"attention_mask\", \"input_ids\"],\n",
        "    label_cols=[\"Type_ENC\"],\n",
        "    shuffle=True,\n",
        "    batch_size=16,\n",
        "    collate_fn=data_collator,\n",
        ")\n",
        "\n",
        "tf_validation_dataset = tokenized_BioTest_ds.to_tf_dataset(\n",
        "    columns=[\"attention_mask\", \"input_ids\"],\n",
        "    label_cols=[\"Type_ENC\"],\n",
        "    shuffle=False,\n",
        "    batch_size=16,\n",
        "    collate_fn=data_collator,\n",
        ")"
      ],
      "metadata": {
        "id": "qCKtOSOAmHAB"
      },
      "execution_count": null,
      "outputs": []
    },
    {
      "cell_type": "code",
      "source": [
        "from transformers import create_optimizer\n",
        "\n",
        "batch_size = 16\n",
        "num_epochs = 5\n",
        "batches_per_epoch = len(tokenized_BioTrain_ds) // batch_size\n",
        "total_train_steps = int(batches_per_epoch * num_epochs)\n",
        "optimizer, schedule = create_optimizer(init_lr=2e-5, num_warmup_steps=0, num_train_steps=total_train_steps)"
      ],
      "metadata": {
        "id": "m7TCIC_boCxF"
      },
      "execution_count": null,
      "outputs": []
    },
    {
      "cell_type": "code",
      "source": [
        "loss = tf.keras.losses.SparseCategoricalCrossentropy(from_logits=True)\n",
        "\n",
        "model_bert = TFAutoModelForSequenceClassification.from_pretrained(tokenizer_model_name, num_labels=5)  "
      ],
      "metadata": {
        "id": "2VvIH3ObrWMG",
        "colab": {
          "base_uri": "https://localhost:8080/",
          "height": 123,
          "referenced_widgets": [
            "63947fa976b54543900c1ea7eda253f2",
            "7ea3cb7509b4447eaac25b5ab17077b5",
            "da748dd83bec4516803696f697ac9da9",
            "e1c0e055743b438182169616e30640cf",
            "785e68e6f2d643098d90e46b217456f4",
            "349d3fb6e33345d3853f2b1d0d1d0fbb",
            "58889040cecb47ddac23c2ec7ead87af",
            "94fe280288494be3a3b87771fee7a3de",
            "6bb941c273d4435d90d997252d139340",
            "033f7d5ba8454c93a98b120349e6cba5",
            "c5abfb1711e54bd6a7792472f03508fc"
          ]
        },
        "outputId": "d38293f7-68bc-475c-dd72-502098052c4f"
      },
      "execution_count": null,
      "outputs": [
        {
          "output_type": "display_data",
          "data": {
            "text/plain": [
              "Downloading:   0%|          | 0.00/511M [00:00<?, ?B/s]"
            ],
            "application/vnd.jupyter.widget-view+json": {
              "version_major": 2,
              "version_minor": 0,
              "model_id": "63947fa976b54543900c1ea7eda253f2"
            }
          },
          "metadata": {}
        },
        {
          "output_type": "stream",
          "name": "stderr",
          "text": [
            "All model checkpoint layers were used when initializing TFBertForSequenceClassification.\n",
            "\n",
            "Some layers of TFBertForSequenceClassification were not initialized from the model checkpoint at bert-base-uncased and are newly initialized: ['classifier']\n",
            "You should probably TRAIN this model on a down-stream task to be able to use it for predictions and inference.\n"
          ]
        }
      ]
    },
    {
      "cell_type": "code",
      "source": [
        "model_bert.compile(optimizer=optimizer, loss=loss, metrics=['accuracy'])\n",
        "print(model_bert.summary())"
      ],
      "metadata": {
        "colab": {
          "base_uri": "https://localhost:8080/"
        },
        "id": "V_X-1qqBOwG-",
        "outputId": "75ce3d19-84e3-4f5a-9f6b-031f47bdb4d5"
      },
      "execution_count": null,
      "outputs": [
        {
          "output_type": "stream",
          "name": "stdout",
          "text": [
            "Model: \"tf_bert_for_sequence_classification\"\n",
            "_________________________________________________________________\n",
            " Layer (type)                Output Shape              Param #   \n",
            "=================================================================\n",
            " bert (TFBertMainLayer)      multiple                  109482240 \n",
            "                                                                 \n",
            " dropout_37 (Dropout)        multiple                  0         \n",
            "                                                                 \n",
            " classifier (Dense)          multiple                  3845      \n",
            "                                                                 \n",
            "=================================================================\n",
            "Total params: 109,486,085\n",
            "Trainable params: 109,486,085\n",
            "Non-trainable params: 0\n",
            "_________________________________________________________________\n",
            "None\n"
          ]
        }
      ]
    },
    {
      "cell_type": "code",
      "source": [
        "# keras.utils.plot_model(model_bert, to_file=\"my_bert_model.png\", show_shapes=True)"
      ],
      "metadata": {
        "id": "fqTO84mn805i"
      },
      "execution_count": null,
      "outputs": []
    },
    {
      "cell_type": "markdown",
      "source": [
        "##### Training and validation loss and accuracy"
      ],
      "metadata": {
        "id": "Src54yBg67Or"
      }
    },
    {
      "cell_type": "code",
      "source": [
        "history = model_bert.fit(x=tf_train_dataset, validation_data=tf_validation_dataset, epochs=15)\n"
      ],
      "metadata": {
        "colab": {
          "base_uri": "https://localhost:8080/"
        },
        "id": "W5_ao4WRO8xS",
        "outputId": "085ba3fe-76a7-476f-ed22-913b4a9dbf69"
      },
      "execution_count": null,
      "outputs": [
        {
          "output_type": "stream",
          "name": "stdout",
          "text": [
            "Epoch 1/15\n",
            "54/54 [==============================] - 35s 305ms/step - loss: 0.9347 - accuracy: 0.7407 - val_loss: 0.5922 - val_accuracy: 0.8549\n",
            "Epoch 2/15\n",
            "54/54 [==============================] - 14s 252ms/step - loss: 0.7321 - accuracy: 0.7720 - val_loss: 0.5225 - val_accuracy: 0.8549\n",
            "Epoch 3/15\n",
            "54/54 [==============================] - 14s 253ms/step - loss: 0.5780 - accuracy: 0.8090 - val_loss: 0.4704 - val_accuracy: 0.8549\n",
            "Epoch 4/15\n",
            "54/54 [==============================] - 14s 256ms/step - loss: 0.4753 - accuracy: 0.8310 - val_loss: 0.4564 - val_accuracy: 0.8705\n",
            "Epoch 5/15\n",
            "54/54 [==============================] - 14s 257ms/step - loss: 0.4217 - accuracy: 0.8542 - val_loss: 0.4390 - val_accuracy: 0.8756\n",
            "Epoch 6/15\n",
            "54/54 [==============================] - 14s 263ms/step - loss: 0.4064 - accuracy: 0.8646 - val_loss: 0.4390 - val_accuracy: 0.8756\n",
            "Epoch 7/15\n",
            "54/54 [==============================] - 14s 259ms/step - loss: 0.4120 - accuracy: 0.8623 - val_loss: 0.4390 - val_accuracy: 0.8756\n",
            "Epoch 8/15\n",
            "54/54 [==============================] - 14s 259ms/step - loss: 0.4131 - accuracy: 0.8634 - val_loss: 0.4390 - val_accuracy: 0.8756\n",
            "Epoch 9/15\n",
            "54/54 [==============================] - 14s 262ms/step - loss: 0.4147 - accuracy: 0.8634 - val_loss: 0.4390 - val_accuracy: 0.8756\n",
            "Epoch 10/15\n",
            "54/54 [==============================] - 14s 263ms/step - loss: 0.4131 - accuracy: 0.8588 - val_loss: 0.4390 - val_accuracy: 0.8756\n",
            "Epoch 11/15\n",
            "54/54 [==============================] - 14s 264ms/step - loss: 0.4037 - accuracy: 0.8600 - val_loss: 0.4390 - val_accuracy: 0.8756\n",
            "Epoch 12/15\n",
            "54/54 [==============================] - 14s 260ms/step - loss: 0.4129 - accuracy: 0.8611 - val_loss: 0.4390 - val_accuracy: 0.8756\n",
            "Epoch 13/15\n",
            "54/54 [==============================] - 14s 263ms/step - loss: 0.4106 - accuracy: 0.8565 - val_loss: 0.4390 - val_accuracy: 0.8756\n",
            "Epoch 14/15\n",
            "54/54 [==============================] - 14s 264ms/step - loss: 0.4098 - accuracy: 0.8600 - val_loss: 0.4390 - val_accuracy: 0.8756\n",
            "Epoch 15/15\n",
            "54/54 [==============================] - 14s 260ms/step - loss: 0.4094 - accuracy: 0.8669 - val_loss: 0.4390 - val_accuracy: 0.8756\n"
          ]
        }
      ]
    },
    {
      "cell_type": "code",
      "source": [
        "plt.figure(figsize=(16, 6))\n",
        "plt.subplot(1, 2, 1)\n",
        "plot_graphs(history, 'accuracy')\n",
        "plt.subplot(1, 2, 2)\n",
        "plot_graphs(history, 'loss')"
      ],
      "metadata": {
        "colab": {
          "base_uri": "https://localhost:8080/",
          "height": 387
        },
        "id": "O-IeZOZJ0wCN",
        "outputId": "0a8fc395-9c9c-44af-dc01-990e49a99a06"
      },
      "execution_count": null,
      "outputs": [
        {
          "output_type": "display_data",
          "data": {
            "text/plain": [
              "<Figure size 1152x432 with 2 Axes>"
            ],
            "image/png": "[encoded data removed]"
          },
          "metadata": {
            "needs_background": "light"
          }
        }
      ]
    },
    {
      "cell_type": "code",
      "source": [
        "print(model_bert.summary())"
      ],
      "metadata": {
        "colab": {
          "base_uri": "https://localhost:8080/"
        },
        "id": "0iGc4BGCgW5L",
        "outputId": "84e7fdce-2675-4e38-c50c-d5cc7ca47339"
      },
      "execution_count": null,
      "outputs": [
        {
          "output_type": "stream",
          "name": "stdout",
          "text": [
            "Model: \"tf_bert_for_sequence_classification\"\n",
            "_________________________________________________________________\n",
            " Layer (type)                Output Shape              Param #   \n",
            "=================================================================\n",
            " bert (TFBertMainLayer)      multiple                  109482240 \n",
            "                                                                 \n",
            " dropout_37 (Dropout)        multiple                  0         \n",
            "                                                                 \n",
            " classifier (Dense)          multiple                  3845      \n",
            "                                                                 \n",
            "=================================================================\n",
            "Total params: 109,486,085\n",
            "Trainable params: 109,486,085\n",
            "Non-trainable params: 0\n",
            "_________________________________________________________________\n",
            "None\n"
          ]
        }
      ]
    },
    {
      "cell_type": "markdown",
      "source": [
        "##### Confusion matrix and classification report"
      ],
      "metadata": {
        "id": "iaB2pXh4YmrY"
      }
    },
    {
      "cell_type": "code",
      "source": [
        "preds = model_bert.predict(tf_validation_dataset)\n",
        "pred_labels = np.argmax(preds.logits, axis=1)\n",
        "\n",
        "conf_matrix = confusion_matrix(y_test,pred_labels)\n",
        "\n",
        "\n",
        "fig, ax = plt.subplots(figsize =(10,10))\n",
        "\n",
        "sns.heatmap(conf_matrix, annot=True, fmt=\"d\");\n",
        "\n",
        "plt.title('Heatmap of confusion matrix') \n",
        "plt.xlabel('Predicted') \n",
        "plt.ylabel('Actual') \n",
        "\n",
        "plt.show()"
      ],
      "metadata": {
        "colab": {
          "base_uri": "https://localhost:8080/",
          "height": 621
        },
        "id": "U8pet-UAg8GB",
        "outputId": "3800a0b4-e450-452d-8efe-a883c1deb254"
      },
      "execution_count": null,
      "outputs": [
        {
          "output_type": "display_data",
          "data": {
            "text/plain": [
              "<Figure size 720x720 with 2 Axes>"
            ],
            "image/png": "[encoded data removed]"
          },
          "metadata": {
            "needs_background": "light"
          }
        }
      ]
    },
    {
      "cell_type": "code",
      "source": [
        "print(classification_report(y_test, pred_labels, digits=3, zero_division=0))"
      ],
      "metadata": {
        "colab": {
          "base_uri": "https://localhost:8080/"
        },
        "id": "RSyh3-eYhPJf",
        "outputId": "4995db9b-32f0-4040-e9d7-8da1207cbbf6"
      },
      "execution_count": null,
      "outputs": [
        {
          "output_type": "stream",
          "name": "stdout",
          "text": [
            "              precision    recall  f1-score   support\n",
            "\n",
            "           0      1.000     0.308     0.471        13\n",
            "           1      0.000     0.000     0.000         7\n",
            "           2      0.873     1.000     0.932       165\n",
            "           3      0.000     0.000     0.000         1\n",
            "           4      0.000     0.000     0.000         7\n",
            "\n",
            "    accuracy                          0.876       193\n",
            "   macro avg      0.375     0.262     0.281       193\n",
            "weighted avg      0.814     0.876     0.829       193\n",
            "\n"
          ]
        }
      ]
    },
    {
      "cell_type": "markdown",
      "source": [
        "##### Saving model"
      ],
      "metadata": {
        "id": "QjnS4rWTaI3p"
      }
    },
    {
      "cell_type": "code",
      "source": [
        "# !mkdir -p bert_saved_model    #/content/bert_saved_model\n",
        "# model_bert.save('/content/drive/MyDrive/Colab Notebooks/Final Project Work/Saved models/bert_saved_model/bert_model')\n",
        "\n",
        "# # /content/drive/MyDrive/Colab Notebooks/Final Project Work/Saved models/bert_saved_model"
      ],
      "metadata": {
        "id": "7GfqHUX8aJwF",
        "colab": {
          "base_uri": "https://localhost:8080/"
        },
        "outputId": "305fb714-5692-4e92-9362-feb7908c194c"
      },
      "execution_count": null,
      "outputs": [
        {
          "output_type": "stream",
          "name": "stderr",
          "text": [
            "WARNING:absl:Found untraced functions such as embeddings_layer_call_fn, embeddings_layer_call_and_return_conditional_losses, encoder_layer_call_fn, encoder_layer_call_and_return_conditional_losses, pooler_layer_call_fn while saving (showing 5 of 420). These functions will not be directly callable after loading.\n"
          ]
        },
        {
          "output_type": "stream",
          "name": "stdout",
          "text": [
            "INFO:tensorflow:Assets written to: /content/drive/MyDrive/Colab Notebooks/Final Project Work/Saved models/bert_saved_model/bert_model/assets\n"
          ]
        },
        {
          "output_type": "stream",
          "name": "stderr",
          "text": [
            "INFO:tensorflow:Assets written to: /content/drive/MyDrive/Colab Notebooks/Final Project Work/Saved models/bert_saved_model/bert_model/assets\n"
          ]
        }
      ]
    },
    {
      "cell_type": "markdown",
      "source": [
        "#### Finetuning BioBert"
      ],
      "metadata": {
        "id": "YfSjXLRT-u6d"
      }
    },
    {
      "cell_type": "markdown",
      "source": [
        "##### Model setup"
      ],
      "metadata": {
        "id": "32p-DQ3mZKmI"
      }
    },
    {
      "cell_type": "code",
      "source": [
        "tokenizer_model_name = \"dmis-lab/biobert-base-cased-v1.1\"\n",
        "tokenizer = AutoTokenizer.from_pretrained(tokenizer_model_name, from_pt=True)"
      ],
      "metadata": {
        "id": "OCIZP5t7-u6e",
        "colab": {
          "base_uri": "https://localhost:8080/",
          "height": 81,
          "referenced_widgets": [
            "3f365193e5454f6d95ae19e9d833a5bb",
            "6d184faf76ce460c91fa57f128e8fada",
            "e8039b0ccc42483592ce7734313c380e",
            "f69261e4e12d40cdadbf2d7eb1fd1011",
            "e3ccca09956445428677c35832492d85",
            "c893d3da2a0a4be2bc046b8930881563",
            "4d271af29c984afea8aab5b57649e8c6",
            "0491c05b41e44992ada260694b5edae6",
            "bea9c9a24dd24fb5ae6b587dd19dd4e8",
            "364cc506e6df497ebbc57d870c896ef4",
            "3b2ef4a40754498581123bd965d668e0",
            "78082f59dc5e47e98ce10aee3f372375",
            "af5e35df78b247ac9e29b8c6d1f6fc53",
            "7bfabc2ea6594fca82d201d499db4e03",
            "13dd779722e44939a75455a54e45dac2",
            "f9898be499564100a74ef92578e086b3",
            "3a49202268054262b51130a3137f1bb1",
            "225d5e0deab74a33abf553c66c422eaa",
            "758cd808c5e14a5fb90a78a2e582bc52",
            "14cf2cc659d1439d8f55707839ef0cb1",
            "4e46e3a60b0d4cb5a585722b6bb0a93a",
            "07d455b11c66451bb47acf23f3d25d44"
          ]
        },
        "outputId": "3f64327f-2b7f-4604-db61-f8dee9050500"
      },
      "execution_count": null,
      "outputs": [
        {
          "output_type": "display_data",
          "data": {
            "text/plain": [
              "Downloading:   0%|          | 0.00/313 [00:00<?, ?B/s]"
            ],
            "application/vnd.jupyter.widget-view+json": {
              "version_major": 2,
              "version_minor": 0,
              "model_id": "3f365193e5454f6d95ae19e9d833a5bb"
            }
          },
          "metadata": {}
        },
        {
          "output_type": "display_data",
          "data": {
            "text/plain": [
              "Downloading:   0%|          | 0.00/208k [00:00<?, ?B/s]"
            ],
            "application/vnd.jupyter.widget-view+json": {
              "version_major": 2,
              "version_minor": 0,
              "model_id": "78082f59dc5e47e98ce10aee3f372375"
            }
          },
          "metadata": {}
        }
      ]
    },
    {
      "cell_type": "code",
      "source": [
        "tokenizer.is_fast"
      ],
      "metadata": {
        "colab": {
          "base_uri": "https://localhost:8080/"
        },
        "outputId": "48032f4e-7b48-44e9-f4f3-4a38e0206d94",
        "id": "Yoyunhk7-u6f"
      },
      "execution_count": null,
      "outputs": [
        {
          "output_type": "execute_result",
          "data": {
            "text/plain": [
              "True"
            ]
          },
          "metadata": {},
          "execution_count": 108
        }
      ]
    },
    {
      "cell_type": "code",
      "source": [
        "def preprocess_function(examples):\n",
        "    return tokenizer(examples[\"Sentence\"], truncation=True)"
      ],
      "metadata": {
        "id": "Xd3_r9GB-u6g"
      },
      "execution_count": null,
      "outputs": []
    },
    {
      "cell_type": "code",
      "source": [
        "tokenized_BioTrain_ds = BioTrain_ds.map(preprocess_function, batched=True)"
      ],
      "metadata": {
        "colab": {
          "base_uri": "https://localhost:8080/",
          "height": 67,
          "referenced_widgets": [
            "def66cb4fcd7473e84652bf3a1cd8e69",
            "df5132162f8a4760aad0c9e27f35b264",
            "c50ef3cad64344eca1c261e9e0368a6c",
            "f3133e55fbfb4150b77d9f73dc57d19b",
            "90f885392e3c412b890235d72b797185",
            "970959ea72614405a5bcdfb55fb3e776",
            "82e0058e7ca84a6ea17fdd59f032354c",
            "d33cbbfce88f448d8e749916abf733af",
            "930bf90c5ead45c496b6d41a72e41149",
            "ce2e4ab8f567449598298da4719be9e3",
            "02b4c7fd734e462fb1482fb986c2ae91"
          ]
        },
        "outputId": "e5577dd4-64b9-4485-a648-3575d9fbd9e0",
        "id": "cTwmMBJA-u6h"
      },
      "execution_count": null,
      "outputs": [
        {
          "output_type": "display_data",
          "data": {
            "text/plain": [
              "  0%|          | 0/1 [00:00<?, ?ba/s]"
            ],
            "application/vnd.jupyter.widget-view+json": {
              "version_major": 2,
              "version_minor": 0,
              "model_id": "def66cb4fcd7473e84652bf3a1cd8e69"
            }
          },
          "metadata": {}
        },
        {
          "output_type": "stream",
          "name": "stderr",
          "text": [
            "Asking to truncate to max_length but no maximum length is provided and the model has no predefined maximum length. Default to no truncation.\n"
          ]
        }
      ]
    },
    {
      "cell_type": "code",
      "source": [
        "tokenized_BioTest_ds = BioTest_ds.map(preprocess_function, batched=True)"
      ],
      "metadata": {
        "colab": {
          "base_uri": "https://localhost:8080/",
          "height": 48,
          "referenced_widgets": [
            "d532e650f3fe4202bb9571f3b4fd86a5",
            "cb9d4a8aeafe49b4a27ba12c80b5932b",
            "3f153e2cc85a49aebc75a654385447e1",
            "1ce3313079284f80af5aeedffe043a1d",
            "75c75f4c6317426b8af27421eb525ec4",
            "1235f61dd2fa429eaac2ab73e45bf756",
            "83be9920a33d48fc9c6b591d17b7938a",
            "7829cc68a19347a399bc18a9bfa993c5",
            "0a50353a73544a52bdbbfdff533cc5bc",
            "a5716fb110e44d6d9dac2d1608017d1d",
            "96394f4a8a5b4339b9b6b7e0b61f7c4e"
          ]
        },
        "outputId": "291bdb9b-30f4-4675-cf92-364d3d8944c3",
        "id": "0JIDzzIM-u6h"
      },
      "execution_count": null,
      "outputs": [
        {
          "output_type": "display_data",
          "data": {
            "text/plain": [
              "  0%|          | 0/1 [00:00<?, ?ba/s]"
            ],
            "application/vnd.jupyter.widget-view+json": {
              "version_major": 2,
              "version_minor": 0,
              "model_id": "d532e650f3fe4202bb9571f3b4fd86a5"
            }
          },
          "metadata": {}
        }
      ]
    },
    {
      "cell_type": "code",
      "source": [
        "data_collator = DataCollatorWithPadding(tokenizer=tokenizer, return_tensors=\"tf\")"
      ],
      "metadata": {
        "id": "ZWE_BgpV-u6i"
      },
      "execution_count": null,
      "outputs": []
    },
    {
      "cell_type": "code",
      "source": [
        "print(tokenized_BioTrain_ds)"
      ],
      "metadata": {
        "colab": {
          "base_uri": "https://localhost:8080/"
        },
        "outputId": "2fc80f69-f025-43ea-e0f8-5ae10dc79670",
        "id": "Wb0g77nr-u6i"
      },
      "execution_count": null,
      "outputs": [
        {
          "output_type": "stream",
          "name": "stdout",
          "text": [
            "Dataset({\n",
            "    features: ['Sentence', 'Type', 'Treatment', 'Disease', 'Type_ENC', 'input_ids', 'token_type_ids', 'attention_mask'],\n",
            "    num_rows: 871\n",
            "})\n"
          ]
        }
      ]
    },
    {
      "cell_type": "code",
      "source": [
        "tf_train_dataset = tokenized_BioTrain_ds.to_tf_dataset(\n",
        "    columns=[\"attention_mask\", \"input_ids\"],\n",
        "    label_cols=[\"Type_ENC\"],\n",
        "    shuffle=True,\n",
        "    batch_size=16,\n",
        "    collate_fn=data_collator,\n",
        ")\n",
        "\n",
        "tf_validation_dataset = tokenized_BioTest_ds.to_tf_dataset(\n",
        "    columns=[\"attention_mask\", \"input_ids\"],\n",
        "    label_cols=[\"Type_ENC\"],\n",
        "    shuffle=False,\n",
        "    batch_size=16,\n",
        "    collate_fn=data_collator,\n",
        ")"
      ],
      "metadata": {
        "id": "WLqHG-ct-u6j"
      },
      "execution_count": null,
      "outputs": []
    },
    {
      "cell_type": "code",
      "source": [
        "batch_size = 16\n",
        "num_epochs = 5\n",
        "batches_per_epoch = len(tokenized_BioTrain_ds) // batch_size\n",
        "total_train_steps = int(batches_per_epoch * num_epochs)\n",
        "optimizer, schedule = create_optimizer(init_lr=2e-5, num_warmup_steps=0, num_train_steps=total_train_steps)"
      ],
      "metadata": {
        "id": "nscJXvCO-u6l"
      },
      "execution_count": null,
      "outputs": []
    },
    {
      "cell_type": "code",
      "source": [
        "loss = tf.keras.losses.SparseCategoricalCrossentropy(from_logits=True)\n",
        "\n",
        "model_biobert = TFAutoModelForSequenceClassification.from_pretrained(tokenizer_model_name, num_labels=5, from_pt=True)  "
      ],
      "metadata": {
        "id": "O0B6PFNv-u6l",
        "colab": {
          "base_uri": "https://localhost:8080/",
          "height": 123,
          "referenced_widgets": [
            "43299f6df5734dd6b5d1620f4944a635",
            "c7db520cd37f4831a6b0f3a3301d6779",
            "961b914bada8444cab5c1c81a5b403d4",
            "f4fd1d212fc542bca8b431539a4238b5",
            "c6a1846cb19749c69eb46f3a7415af75",
            "71e162e965c34b37803501a9c0502ea3",
            "656f906ea9744b989dc4376f57778472",
            "b3ed439d868940028d79c95fc95eace7",
            "bf84d740b1ec45d098ff8fbaef0bf3ef",
            "119bd7caaec843878471474fb435b4da",
            "61ce1921aa29489b82356109f9082813"
          ]
        },
        "outputId": "0bc74bf7-949b-4a17-a764-42cf6102656b"
      },
      "execution_count": null,
      "outputs": [
        {
          "output_type": "display_data",
          "data": {
            "text/plain": [
              "Downloading:   0%|          | 0.00/416M [00:00<?, ?B/s]"
            ],
            "application/vnd.jupyter.widget-view+json": {
              "version_major": 2,
              "version_minor": 0,
              "model_id": "43299f6df5734dd6b5d1620f4944a635"
            }
          },
          "metadata": {}
        },
        {
          "output_type": "stream",
          "name": "stderr",
          "text": [
            "All PyTorch model weights were used when initializing TFBertForSequenceClassification.\n",
            "\n",
            "Some weights or buffers of the TF 2.0 model TFBertForSequenceClassification were not initialized from the PyTorch model and are newly initialized: ['classifier.weight', 'classifier.bias']\n",
            "You should probably TRAIN this model on a down-stream task to be able to use it for predictions and inference.\n"
          ]
        }
      ]
    },
    {
      "cell_type": "code",
      "source": [
        "model_biobert.compile(optimizer=optimizer, loss=loss, metrics=['accuracy'])\n",
        "print(model_biobert.summary())"
      ],
      "metadata": {
        "id": "-wcK1UA6-u6m",
        "colab": {
          "base_uri": "https://localhost:8080/"
        },
        "outputId": "5bff4b9d-b009-4639-a2e4-20e301c46c20"
      },
      "execution_count": null,
      "outputs": [
        {
          "output_type": "stream",
          "name": "stdout",
          "text": [
            "Model: \"tf_bert_for_sequence_classification_1\"\n",
            "_________________________________________________________________\n",
            " Layer (type)                Output Shape              Param #   \n",
            "=================================================================\n",
            " bert (TFBertMainLayer)      multiple                  108310272 \n",
            "                                                                 \n",
            " dropout_75 (Dropout)        multiple                  0         \n",
            "                                                                 \n",
            " classifier (Dense)          multiple                  3845      \n",
            "                                                                 \n",
            "=================================================================\n",
            "Total params: 108,314,117\n",
            "Trainable params: 108,314,117\n",
            "Non-trainable params: 0\n",
            "_________________________________________________________________\n",
            "None\n"
          ]
        }
      ]
    },
    {
      "cell_type": "code",
      "source": [
        "# keras.utils.plot_model(model_biobert, to_file=\"my_biobert_model.png\", show_shapes=True)"
      ],
      "metadata": {
        "id": "nvsYhj-Z9xMx"
      },
      "execution_count": null,
      "outputs": []
    },
    {
      "cell_type": "markdown",
      "source": [
        "##### Training and validation loss and accuracy"
      ],
      "metadata": {
        "id": "VjDYhSIy-u6n"
      }
    },
    {
      "cell_type": "code",
      "source": [
        "history = model_biobert.fit(x=tf_train_dataset, validation_data=tf_validation_dataset, epochs=15)\n"
      ],
      "metadata": {
        "id": "Adhqrodm-u6n",
        "colab": {
          "base_uri": "https://localhost:8080/"
        },
        "outputId": "825583be-21f4-4c4e-df3a-5596c2680649"
      },
      "execution_count": null,
      "outputs": [
        {
          "output_type": "stream",
          "name": "stdout",
          "text": [
            "Epoch 1/15\n",
            "54/54 [==============================] - 34s 329ms/step - loss: 1.0020 - accuracy: 0.6736 - val_loss: 0.5178 - val_accuracy: 0.8549\n",
            "Epoch 2/15\n",
            "54/54 [==============================] - 15s 271ms/step - loss: 0.5586 - accuracy: 0.7986 - val_loss: 0.3556 - val_accuracy: 0.8860\n",
            "Epoch 3/15\n",
            "54/54 [==============================] - 15s 272ms/step - loss: 0.3161 - accuracy: 0.9236 - val_loss: 0.3111 - val_accuracy: 0.8860\n",
            "Epoch 4/15\n",
            "54/54 [==============================] - 15s 272ms/step - loss: 0.2054 - accuracy: 0.9757 - val_loss: 0.2824 - val_accuracy: 0.9016\n",
            "Epoch 5/15\n",
            "54/54 [==============================] - 15s 275ms/step - loss: 0.1592 - accuracy: 0.9850 - val_loss: 0.2859 - val_accuracy: 0.8964\n",
            "Epoch 6/15\n",
            "54/54 [==============================] - 15s 274ms/step - loss: 0.1480 - accuracy: 0.9896 - val_loss: 0.2859 - val_accuracy: 0.8964\n",
            "Epoch 7/15\n",
            "54/54 [==============================] - 15s 268ms/step - loss: 0.1465 - accuracy: 0.9873 - val_loss: 0.2859 - val_accuracy: 0.8964\n",
            "Epoch 8/15\n",
            "54/54 [==============================] - 15s 277ms/step - loss: 0.1449 - accuracy: 0.9896 - val_loss: 0.2859 - val_accuracy: 0.8964\n",
            "Epoch 9/15\n",
            "54/54 [==============================] - 15s 277ms/step - loss: 0.1448 - accuracy: 0.9907 - val_loss: 0.2859 - val_accuracy: 0.8964\n",
            "Epoch 10/15\n",
            "54/54 [==============================] - 15s 279ms/step - loss: 0.1431 - accuracy: 0.9873 - val_loss: 0.2859 - val_accuracy: 0.8964\n",
            "Epoch 11/15\n",
            "54/54 [==============================] - 15s 271ms/step - loss: 0.1471 - accuracy: 0.9884 - val_loss: 0.2859 - val_accuracy: 0.8964\n",
            "Epoch 12/15\n",
            "54/54 [==============================] - 15s 278ms/step - loss: 0.1466 - accuracy: 0.9907 - val_loss: 0.2859 - val_accuracy: 0.8964\n",
            "Epoch 13/15\n",
            "54/54 [==============================] - 15s 274ms/step - loss: 0.1476 - accuracy: 0.9873 - val_loss: 0.2859 - val_accuracy: 0.8964\n",
            "Epoch 14/15\n",
            "54/54 [==============================] - 15s 279ms/step - loss: 0.1451 - accuracy: 0.9907 - val_loss: 0.2859 - val_accuracy: 0.8964\n",
            "Epoch 15/15\n",
            "54/54 [==============================] - 15s 272ms/step - loss: 0.1469 - accuracy: 0.9907 - val_loss: 0.2859 - val_accuracy: 0.8964\n"
          ]
        }
      ]
    },
    {
      "cell_type": "code",
      "source": [
        "plt.figure(figsize=(16, 6))\n",
        "plt.subplot(1, 2, 1)\n",
        "plot_graphs(history, 'accuracy')\n",
        "plt.subplot(1, 2, 2)\n",
        "plot_graphs(history, 'loss')"
      ],
      "metadata": {
        "id": "BhGpdgx_-u6o",
        "colab": {
          "base_uri": "https://localhost:8080/",
          "height": 387
        },
        "outputId": "4de63086-a476-437e-cc54-48d1799ab70d"
      },
      "execution_count": null,
      "outputs": [
        {
          "output_type": "display_data",
          "data": {
            "text/plain": [
              "<Figure size 1152x432 with 2 Axes>"
            ],
            "image/png": "[encoded data removed]"
          },
          "metadata": {
            "needs_background": "light"
          }
        }
      ]
    },
    {
      "cell_type": "code",
      "source": [
        "print(model_biobert.summary())"
      ],
      "metadata": {
        "colab": {
          "base_uri": "https://localhost:8080/"
        },
        "id": "-yjC9ahigRi7",
        "outputId": "87cdd4e2-5bd2-46fb-d292-aafe4888e965"
      },
      "execution_count": null,
      "outputs": [
        {
          "output_type": "stream",
          "name": "stdout",
          "text": [
            "Model: \"tf_bert_for_sequence_classification_1\"\n",
            "_________________________________________________________________\n",
            " Layer (type)                Output Shape              Param #   \n",
            "=================================================================\n",
            " bert (TFBertMainLayer)      multiple                  108310272 \n",
            "                                                                 \n",
            " dropout_75 (Dropout)        multiple                  0         \n",
            "                                                                 \n",
            " classifier (Dense)          multiple                  3845      \n",
            "                                                                 \n",
            "=================================================================\n",
            "Total params: 108,314,117\n",
            "Trainable params: 108,314,117\n",
            "Non-trainable params: 0\n",
            "_________________________________________________________________\n",
            "None\n"
          ]
        }
      ]
    },
    {
      "cell_type": "markdown",
      "source": [
        "##### Confusion matrix and classification report"
      ],
      "metadata": {
        "id": "Wkd7WCpJZhI3"
      }
    },
    {
      "cell_type": "code",
      "source": [
        "preds = model_biobert.predict(tf_validation_dataset)\n",
        "pred_labels = np.argmax(preds.logits, axis=1)\n",
        "\n",
        "conf_matrix = confusion_matrix(y_test,pred_labels)\n",
        "\n",
        "\n",
        "fig, ax = plt.subplots(figsize =(10,10))\n",
        "\n",
        "sns.heatmap(conf_matrix, annot=True, fmt=\"d\");\n",
        "\n",
        "plt.title('Heatmap of confusion matrix') \n",
        "plt.xlabel('Predicted') \n",
        "plt.ylabel('Actual') \n",
        "\n",
        "plt.show()"
      ],
      "metadata": {
        "colab": {
          "base_uri": "https://localhost:8080/",
          "height": 621
        },
        "id": "5mS_6CP2DgwM",
        "outputId": "24672c1b-3815-4292-a242-6b01b672bf21"
      },
      "execution_count": null,
      "outputs": [
        {
          "output_type": "display_data",
          "data": {
            "text/plain": [
              "<Figure size 720x720 with 2 Axes>"
            ],
            "image/png": "[encoded data removed]"
          },
          "metadata": {
            "needs_background": "light"
          }
        }
      ]
    },
    {
      "cell_type": "code",
      "source": [
        "print(classification_report(y_test, pred_labels, digits=3, zero_division=0))"
      ],
      "metadata": {
        "colab": {
          "base_uri": "https://localhost:8080/"
        },
        "id": "J4Rhl5KYYEUk",
        "outputId": "869730f0-a29b-483b-f614-9b8516115979"
      },
      "execution_count": null,
      "outputs": [
        {
          "output_type": "stream",
          "name": "stdout",
          "text": [
            "              precision    recall  f1-score   support\n",
            "\n",
            "           0      0.909     0.769     0.833        13\n",
            "           1      1.000     0.286     0.444         7\n",
            "           2      0.920     0.970     0.944       165\n",
            "           3      0.000     0.000     0.000         1\n",
            "           4      0.167     0.143     0.154         7\n",
            "\n",
            "    accuracy                          0.896       193\n",
            "   macro avg      0.599     0.433     0.475       193\n",
            "weighted avg      0.890     0.896     0.885       193\n",
            "\n"
          ]
        }
      ]
    },
    {
      "cell_type": "markdown",
      "source": [
        "##### Saving model"
      ],
      "metadata": {
        "id": "wqMDCe0cZxlz"
      }
    },
    {
      "cell_type": "code",
      "source": [
        "# !mkdir -p biobert_saved_model    #/content/biobert_saved_model\n",
        "# model_biobert.save('/content/drive/MyDrive/Colab Notebooks/Final Project Work/Saved models/biobert_saved_model/biobert_model')\n",
        "\n",
        "# # /content/drive/MyDrive/Colab Notebooks/Final Project Work/Saved models/biobert_saved_model"
      ],
      "metadata": {
        "id": "YONpGHeIf_cI",
        "colab": {
          "base_uri": "https://localhost:8080/"
        },
        "outputId": "dedf4f9b-e765-4c48-8be9-cfe73f6433a5"
      },
      "execution_count": null,
      "outputs": [
        {
          "output_type": "stream",
          "name": "stderr",
          "text": [
            "WARNING:absl:Found untraced functions such as embeddings_layer_call_fn, embeddings_layer_call_and_return_conditional_losses, encoder_layer_call_fn, encoder_layer_call_and_return_conditional_losses, pooler_layer_call_fn while saving (showing 5 of 420). These functions will not be directly callable after loading.\n"
          ]
        },
        {
          "output_type": "stream",
          "name": "stdout",
          "text": [
            "INFO:tensorflow:Assets written to: /content/drive/MyDrive/Colab Notebooks/Final Project Work/Saved models/biobert_saved_model/biobert_model/assets\n"
          ]
        },
        {
          "output_type": "stream",
          "name": "stderr",
          "text": [
            "INFO:tensorflow:Assets written to: /content/drive/MyDrive/Colab Notebooks/Final Project Work/Saved models/biobert_saved_model/biobert_model/assets\n"
          ]
        }
      ]
    },
    {
      "cell_type": "markdown",
      "source": [
        "## Summary and conclusions:\n",
        "\n",
        "The RE task of distinguishing disease-treatment relations is successfully performed on\n",
        "biomedical texts. This is a difficult, and crucial task in NLP, specifically in the effort to\n",
        "automate medical decision support.\n",
        "LSTM models, fine-tuned BERT and fine-tuned BioBERT models are developed and\n",
        "evaluated for classification accuracy and F1-score on the BioText dataset. \n",
        "The best performing model was the fine-tuned BioBERT model, which was expected, as it is\n",
        "pretrained on Biomedical specific corpuses.\n",
        "\n",
        "Future work can extend the work by increasing the sample size for each relation with\n",
        "additional relevant datasets. The original dataset was annotated by experts, but this task could\n",
        "also be automated using ML methods such as Named Entity Recognition (NER), in order to\n",
        "significantly increase dataset size. Dataset size, and specifically the long-tailed distribution of\n",
        "27\n",
        "samples per relational class was a significant factor in the poor performance of classification\n",
        "and F1-scores for the relations other than the ‘TREAT_FOR DIS’ class. Additional relation\n",
        "types outside of the five relations considered relevant and evaluated here could also be\n",
        "assessed. Consequently, implementation of well performing models incorporated into\n",
        "healthcare systems could be beneficial for efficient medical decision support. "
      ],
      "metadata": {
        "id": "ijasiBvH0zJn"
      }
    },
    {
      "cell_type": "markdown",
      "source": [
        "## References:\n",
        "\n",
        "\n",
        "\n",
        "1.   B. University of California, \"The BioText Project,\" [Online]. Available:\n",
        "https://biotext.berkeley.edu/dis_treat_data.html. [Accessed 15 04 2022].\n",
        "2.   B. Rosario and M. Hearst, \"Classifying Semantic Relations in Bioscience Texts,\" ACL, 2004. \n",
        "\n"
      ],
      "metadata": {
        "id": "PdoyKi6_K6Uz"
      }
    }
  ]
}